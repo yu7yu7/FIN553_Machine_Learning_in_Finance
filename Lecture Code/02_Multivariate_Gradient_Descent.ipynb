{
  "nbformat": 4,
  "nbformat_minor": 0,
  "metadata": {
    "colab": {
      "provenance": [],
      "collapsed_sections": []
    },
    "kernelspec": {
      "name": "python3",
      "display_name": "Python 3"
    }
  },
  "cells": [
    {
      "cell_type": "code",
      "metadata": {
        "id": "JMelGMDql5Ef"
      },
      "source": [
        "import numpy as np\n",
        "\n",
        "def f(x):\n",
        "    return (x[0] - 1)**2 + x[1]**2\n",
        "\n",
        "def gradient(x):\n",
        "    return np.array([2 * (x[0] - 1), 2 * x[1]])\n",
        "    \n",
        "def apply_gradients(x, g):\n",
        "    α = 0.1\n",
        "    return x - α * g\n",
        "    "
      ],
      "execution_count": 1,
      "outputs": []
    },
    {
      "cell_type": "code",
      "metadata": {
        "id": "yBJGgu6PqNje",
        "colab": {
          "base_uri": "https://localhost:8080/",
          "height": 34
        },
        "outputId": "c6cb0437-c608-4196-f004-b8d196d9a326"
      },
      "source": [
        "x = np.array([4, 4])\n",
        "print(x, f(x), gradient(x))\n"
      ],
      "execution_count": null,
      "outputs": [
        {
          "output_type": "stream",
          "text": [
            "[4 4] 25 [6 8]\n"
          ],
          "name": "stdout"
        }
      ]
    },
    {
      "cell_type": "code",
      "metadata": {
        "id": "daJT8Sqoqahb",
        "colab": {
          "base_uri": "https://localhost:8080/",
          "height": 34
        },
        "outputId": "1bcdb314-c86e-4b61-fa55-5f3f24bfd1e4"
      },
      "source": [
        "x = apply_gradients(x, gradient(x))\n",
        "print(x, f(x), gradient(x))"
      ],
      "execution_count": null,
      "outputs": [
        {
          "output_type": "stream",
          "text": [
            "[2.92 2.56] 10.24 [3.84 5.12]\n"
          ],
          "name": "stdout"
        }
      ]
    },
    {
      "cell_type": "code",
      "metadata": {
        "id": "zqC0Fl5orfAI",
        "colab": {
          "base_uri": "https://localhost:8080/",
          "height": 34
        },
        "outputId": "511223d8-7b41-4f0c-e0e4-e4db1c6d4095"
      },
      "source": [
        "for counter in range(1000):\n",
        "    x = apply_gradients(x, gradient(x))\n",
        "    \n",
        "print(x)"
      ],
      "execution_count": null,
      "outputs": [
        {
          "output_type": "stream",
          "text": [
            "[1.00000000e+00 3.14939372e-97]\n"
          ],
          "name": "stdout"
        }
      ]
    },
    {
      "cell_type": "code",
      "metadata": {
        "id": "8bg8mnChvntS"
      },
      "source": [
        "    "
      ],
      "execution_count": null,
      "outputs": []
    }
  ]
}