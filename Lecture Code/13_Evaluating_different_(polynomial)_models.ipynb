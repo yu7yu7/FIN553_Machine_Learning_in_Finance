{
 "cells": [
  {
   "cell_type": "code",
   "execution_count": null,
   "metadata": {
    "colab": {
     "base_uri": "https://localhost:8080/",
     "height": 282
    },
    "id": "A68z8_f5rsMs",
    "outputId": "c4e6ba3c-1606-4ec4-bdb4-789bf5baa146"
   },
   "outputs": [
    {
     "data": {
      "text/plain": [
       "<matplotlib.collections.PathCollection at 0x7f460ec75510>"
      ]
     },
     "execution_count": 2,
     "metadata": {},
     "output_type": "execute_result"
    },
    {
     "data": {
      "image/png": "[encoded data removed]",
      "text/plain": [
       "<Figure size 432x288 with 1 Axes>"
      ]
     },
     "metadata": {
      "needs_background": "light"
     },
     "output_type": "display_data"
    }
   ],
   "source": [
    "import numpy as np\n",
    "import jax\n",
    "import matplotlib.pyplot as plt\n",
    "\n",
    "x = np.array([0.0202184,  0.07103606, 0.0871293,  0.3834415,  0.4236548,  0.4375872,\n",
    "                 0.5288949,  0.5448832,  0.5488135,  0.56804454, 0.60276335, 0.6458941,\n",
    "                 0.7151894,  0.77815676, 0.79172504, 0.83261985, 0.87001216, 0.891773,\n",
    "                 0.92559665, 0.96366274])\n",
    "\n",
    "y = np.array([1.0225829, 1.7161194, 1.908968,  3.8084052, 3.8285332, 4.5913467, 4.8528633,\n",
    "                 4.7935243, 5.2809696, 5.373628,  5.2736287, 5.503769,  5.553383,  5.6843452,\n",
    "                 5.792259,  5.46376,   5.9467854, 5.7930017, 6.2661924, 6.447349])\n",
    "\n",
    "plt.scatter(x, y)\n",
    "\n"
   ]
  },
  {
   "cell_type": "code",
   "execution_count": null,
   "metadata": {
    "colab": {
     "base_uri": "https://localhost:8080/"
    },
    "id": "rkIhlIs4ryYc",
    "outputId": "da1ff147-b47e-4fd5-85f5-51639d93e4c6"
   },
   "outputs": [
    {
     "data": {
      "text/plain": [
       "(20, 2)"
      ]
     },
     "execution_count": 4,
     "metadata": {},
     "output_type": "execute_result"
    }
   ],
   "source": [
    "ones = np.ones_like(x)\n"
   ]
  },
  {
   "cell_type": "code",
   "execution_count": null,
   "metadata": {
    "id": "2GOpXv2469nZ"
   },
   "outputs": [],
   "source": [
    "# X = np.column_stack([ones, x])\n",
    "# degree\n",
    "def solve(degree):\n",
    "  X = np.column_stack([x**k for k in range(degree)])\n",
    "  X_train = X[:16]\n",
    "  y_train = y[:16]\n",
    "\n",
    "  X_eval = X[16:]\n",
    "  y_eval = y[16:]\n",
    "\n",
    "  # Training\n",
    "  Θ = np.linalg.solve(X_train.T @ X_train, X_train.T @ y_train)\n",
    "\n",
    "  # Evalution\n",
    "  prediction = X_eval @ Θ\n",
    "  e = prediction - y_eval\n",
    "\n",
    "  MSE_eval = (e.T @ e) / len(X_eval)\n",
    "  print(MSE_eval)"
   ]
  },
  {
   "cell_type": "code",
   "execution_count": null,
   "metadata": {
    "colab": {
     "base_uri": "https://localhost:8080/"
    },
    "id": "mz5BUaQY7TUL",
    "outputId": "6f3bdc8a-b8a1-468a-c9be-72ad808e589c"
   },
   "outputs": [
    {
     "name": "stdout",
     "output_type": "stream",
     "text": [
      "0.12813188609742793\n",
      "0.040462668317668975\n",
      "0.25244855048193693\n",
      "0.8958291600794226\n",
      "0.1151059077460313\n",
      "2.5325059523836493\n",
      "9.882801860190249\n",
      "23.64067782946887\n",
      "205.78509431757647\n",
      "1442.7739517283662\n",
      "1277.3427640740688\n",
      "2280.230993846183\n",
      "531294.6180009728\n",
      "319.28611591052504\n",
      "64.03487513050572\n",
      "1022313.8457860475\n",
      "250303.33669511153\n",
      "319670.14218704245\n",
      "20032283.17561248\n"
     ]
    }
   ],
   "source": [
    "for degree in range(1, 20):\n",
    "  solve(degree)"
   ]
  },
  {
   "cell_type": "code",
   "execution_count": null,
   "metadata": {
    "id": "DxEeTPRY-j9G"
   },
   "outputs": [],
   "source": []
  },
  {
   "cell_type": "code",
   "execution_count": null,
   "metadata": {
    "id": "-5oJkxCc-3sG"
   },
   "outputs": [],
   "source": []
  }
 ],
 "metadata": {
  "colab": {
   "collapsed_sections": [],
   "provenance": []
  },
  "kernelspec": {
   "display_name": "Python 3",
   "language": "python",
   "name": "python3"
  },
  "language_info": {
   "codemirror_mode": {
    "name": "ipython",
    "version": 3
   },
   "file_extension": ".py",
   "mimetype": "text/x-python",
   "name": "python",
   "nbconvert_exporter": "python",
   "pygments_lexer": "ipython3",
   "version": "3.8.3"
  },
  "toc": {
   "base_numbering": 1,
   "nav_menu": {},
   "number_sections": true,
   "sideBar": true,
   "skip_h1_title": false,
   "title_cell": "Table of Contents",
   "title_sidebar": "Contents",
   "toc_cell": false,
   "toc_position": {},
   "toc_section_display": true,
   "toc_window_display": false
  },
  "varInspector": {
   "cols": {
    "lenName": 16,
    "lenType": 16,
    "lenVar": 40
   },
   "kernels_config": {
    "python": {
     "delete_cmd_postfix": "",
     "delete_cmd_prefix": "del ",
     "library": "var_list.py",
     "varRefreshCmd": "print(var_dic_list())"
    },
    "r": {
     "delete_cmd_postfix": ") ",
     "delete_cmd_prefix": "rm(",
     "library": "var_list.r",
     "varRefreshCmd": "cat(var_dic_list()) "
    }
   },
   "types_to_exclude": [
    "module",
    "function",
    "builtin_function_or_method",
    "instance",
    "_Feature"
   ],
   "window_display": false
  }
 },
 "nbformat": 4,
 "nbformat_minor": 1
}
