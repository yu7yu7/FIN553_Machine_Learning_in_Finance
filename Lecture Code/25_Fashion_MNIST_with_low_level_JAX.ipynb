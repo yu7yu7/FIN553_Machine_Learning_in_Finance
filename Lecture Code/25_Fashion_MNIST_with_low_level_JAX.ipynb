{
 "cells": [
  {
   "cell_type": "code",
   "execution_count": null,
   "metadata": {
    "colab": {
     "base_uri": "https://localhost:8080/"
    },
    "id": "NBaRgnJL8is9",
    "outputId": "c2b4597a-3ebc-4418-c419-fbd1e32ff142"
   },
   "outputs": [
    {
     "name": "stdout",
     "output_type": "stream",
     "text": [
      "\u001b[?25l\r",
      "\u001b[K     |██▎                             | 10 kB 15.4 MB/s eta 0:00:01\r",
      "\u001b[K     |████▌                           | 20 kB 5.5 MB/s eta 0:00:01\r",
      "\u001b[K     |██████▊                         | 30 kB 7.9 MB/s eta 0:00:01\r",
      "\u001b[K     |█████████                       | 40 kB 3.9 MB/s eta 0:00:01\r",
      "\u001b[K     |███████████▎                    | 51 kB 3.9 MB/s eta 0:00:01\r",
      "\u001b[K     |█████████████▌                  | 61 kB 4.6 MB/s eta 0:00:01\r",
      "\u001b[K     |███████████████▉                | 71 kB 5.0 MB/s eta 0:00:01\r",
      "\u001b[K     |██████████████████              | 81 kB 5.6 MB/s eta 0:00:01\r",
      "\u001b[K     |████████████████████▎           | 92 kB 5.8 MB/s eta 0:00:01\r",
      "\u001b[K     |██████████████████████▋         | 102 kB 4.7 MB/s eta 0:00:01\r",
      "\u001b[K     |████████████████████████▉       | 112 kB 4.7 MB/s eta 0:00:01\r",
      "\u001b[K     |███████████████████████████     | 122 kB 4.7 MB/s eta 0:00:01\r",
      "\u001b[K     |█████████████████████████████▍  | 133 kB 4.7 MB/s eta 0:00:01\r",
      "\u001b[K     |███████████████████████████████▋| 143 kB 4.7 MB/s eta 0:00:01\r",
      "\u001b[K     |████████████████████████████████| 145 kB 4.7 MB/s \n",
      "\u001b[K     |████████████████████████████████| 350 kB 52.6 MB/s \n",
      "\u001b[K     |████████████████████████████████| 85 kB 4.6 MB/s \n",
      "\u001b[?25h"
     ]
    }
   ],
   "source": [
    "pip install -q optax dm-haiku"
   ]
  },
  {
   "cell_type": "code",
   "execution_count": 2,
   "metadata": {
    "colab": {
     "base_uri": "https://localhost:8080/",
     "height": 293
    },
    "id": "kM1u16Nt8jvk",
    "outputId": "9082e9e3-17df-4ebf-9937-5953f556589b"
   },
   "outputs": [
    {
     "name": "stdout",
     "output_type": "stream",
     "text": [
      "[0. 0. 0. 0. 0. 0. 0. 0. 0. 1.]\n"
     ]
    },
    {
     "data": {
      "image/png": "[encoded data removed]",
      "text/plain": [
       "<Figure size 288x288 with 1 Axes>"
      ]
     },
     "metadata": {
      "needs_background": "light"
     },
     "output_type": "display_data"
    }
   ],
   "source": [
    "import jax.numpy as jnp\n",
    "import matplotlib.pyplot as plt\n",
    "import optax\n",
    "import jax\n",
    "import haiku as hk\n",
    "rng = jax.random.PRNGKey(0)\n",
    "\n",
    "X = jnp.load('X.npy')\n",
    "y = jnp.load('y.npy')\n",
    "\n",
    "class_names = ['T-shirt/top',  # 0\n",
    "               'Trouser',      # 1\n",
    "               'Pullover',     # 2\n",
    "               'Dress',        # 3\n",
    "               'Coat',         # 4\n",
    "               'Sandal',       # 5\n",
    "               'Shirt',        # 6\n",
    "               'Sneaker',      # 7\n",
    "               'Bag',          # 8\n",
    "               'Ankle boot']   # 9\n",
    "\n",
    "plt.matshow(X[0].reshape(28, 28))\n",
    "print(y[0])"
   ]
  },
  {
   "cell_type": "code",
   "execution_count": 3,
   "metadata": {
    "id": "yLvP5TiY8xwK"
   },
   "outputs": [],
   "source": [
    "def model(X):\n",
    "    X = hk.Linear(128)(X)\n",
    "    X = jax.nn.relu(X)\n",
    "\n",
    "    X = hk.Linear(10)(X)\n",
    "    X = jax.nn.softmax(X)\n",
    "    return X\n",
    "\n",
    "\n",
    "init, model = hk.without_apply_rng(hk.transform(model))\n",
    "Θ = init(rng, X[0])\n",
    "\n",
    "lr = 1e-3\n",
    "optimizer = optax.adam\n",
    "opt_state = optimizer(lr).init(Θ)\n",
    "\n",
    "\n",
    "def L(Θ, X, y):\n",
    "    from jax.scipy.special import xlogy\n",
    "    prob = model(Θ, X)\n",
    "    return -(xlogy(y, prob)).sum(-1).mean()\n",
    "\n",
    "\n",
    "@jax.jit\n",
    "def update(Θ, opt_state):\n",
    "    grads = jax.grad(L)(Θ, X, y)\n",
    "    updates, opt_state = optimizer(lr).update(grads, opt_state)\n",
    "    Θ = optax.apply_updates(Θ, updates)\n",
    "    return Θ, opt_state\n",
    "\n",
    "\n",
    "@jax.jit\n",
    "def evaluation(Θ):\n",
    "    P = model(Θ, X)\n",
    "    prediction = jnp.argmax(P, axis=1)\n",
    "    y_flat = jnp.argmax(y, axis=1)\n",
    "    return (prediction == y_flat).mean()"
   ]
  },
  {
   "cell_type": "code",
   "execution_count": 4,
   "metadata": {
    "colab": {
     "base_uri": "https://localhost:8080/"
    },
    "id": "n5zmYzA3809p",
    "outputId": "49454cdc-f7ed-4c10-f0e1-d557305260a9"
   },
   "outputs": [
    {
     "name": "stdout",
     "output_type": "stream",
     "text": [
      "0.98726666\n"
     ]
    }
   ],
   "source": [
    "for iteration in range(5000):\n",
    "    Θ, opt_state = update(Θ, opt_state)\n",
    "\n",
    "print(evaluation(Θ))"
   ]
  },
  {
   "cell_type": "code",
   "execution_count": null,
   "metadata": {
    "id": "66uCwoUUHexb"
   },
   "outputs": [],
   "source": []
  }
 ],
 "metadata": {
  "accelerator": "GPU",
  "colab": {
   "collapsed_sections": [],
   "provenance": []
  },
  "gpuClass": "premium",
  "kernelspec": {
   "display_name": "Python 3",
   "language": "python",
   "name": "python3"
  },
  "language_info": {
   "codemirror_mode": {
    "name": "ipython",
    "version": 3
   },
   "file_extension": ".py",
   "mimetype": "text/x-python",
   "name": "python",
   "nbconvert_exporter": "python",
   "pygments_lexer": "ipython3",
   "version": "3.8.3"
  },
  "toc": {
   "base_numbering": 1,
   "nav_menu": {},
   "number_sections": true,
   "sideBar": true,
   "skip_h1_title": false,
   "title_cell": "Table of Contents",
   "title_sidebar": "Contents",
   "toc_cell": false,
   "toc_position": {},
   "toc_section_display": true,
   "toc_window_display": false
  },
  "varInspector": {
   "cols": {
    "lenName": 16,
    "lenType": 16,
    "lenVar": 40
   },
   "kernels_config": {
    "python": {
     "delete_cmd_postfix": "",
     "delete_cmd_prefix": "del ",
     "library": "var_list.py",
     "varRefreshCmd": "print(var_dic_list())"
    },
    "r": {
     "delete_cmd_postfix": ") ",
     "delete_cmd_prefix": "rm(",
     "library": "var_list.r",
     "varRefreshCmd": "cat(var_dic_list()) "
    }
   },
   "types_to_exclude": [
    "module",
    "function",
    "builtin_function_or_method",
    "instance",
    "_Feature"
   ],
   "window_display": false
  }
 },
 "nbformat": 4,
 "nbformat_minor": 1
}
