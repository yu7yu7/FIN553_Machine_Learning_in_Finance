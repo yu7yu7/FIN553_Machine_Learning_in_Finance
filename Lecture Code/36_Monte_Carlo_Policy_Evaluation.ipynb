{
 "cells": [
  {
   "cell_type": "code",
   "execution_count": 8,
   "metadata": {
    "ExecuteTime": {
     "end_time": "2022-12-05T06:46:47.699400Z",
     "start_time": "2022-12-05T06:46:47.693698Z"
    },
    "id": "tQixSozKGTZe"
   },
   "outputs": [],
   "source": [
    "import numpy as np\n",
    "\n",
    "\n",
    "class MDP():\n",
    "    def __init__(self):\n",
    "        # Discount factor\n",
    "        self.γ = 0.95\n",
    "        self.A = [0, 1]\n",
    "        self.S = [0, 1, 2]\n",
    "\n",
    "        # Transition matrix if dont' invest\n",
    "        P0 = np.array([[1, 0, 0],\n",
    "                       [0.1, .75, 0.15],\n",
    "                       [0.05, .1, 0.85]])\n",
    "\n",
    "        R0 = np.array([0, 1, 2])\n",
    "\n",
    "        # Transition matrix if invest\n",
    "        P1 = np.array([[1, 0, 0],\n",
    "                       [0.05, .75, 0.2],\n",
    "                       [0.02, .06, 0.92]])\n",
    "        R1 = np.array([0, 0.5, 1.5])\n",
    "\n",
    "        self.P = [P0, P1]\n",
    "        self.R = [R0, R1]\n",
    "\n",
    "    def step(self, s, a):\n",
    "        s_prime = np.random.choice(len(self.S), p=self.P[a][s])\n",
    "        R = self.R[a][s]\n",
    "        if s_prime == 0:\n",
    "            done = True\n",
    "        else:\n",
    "            done = False\n",
    "        return s_prime, R, done\n",
    "\n",
    "    def simulate(self, s, a, π):\n",
    "        done = False\n",
    "        t = 0\n",
    "        history = []\n",
    "        while not done:\n",
    "            if t > 0:\n",
    "                a = π[s]\n",
    "            s_prime, R, done = self.step(s, a)\n",
    "            history.append((s, a, R))\n",
    "            s = s_prime\n",
    "            t += 1\n",
    "\n",
    "        return history"
   ]
  },
  {
   "cell_type": "code",
   "execution_count": 9,
   "metadata": {
    "ExecuteTime": {
     "end_time": "2022-12-05T06:46:48.051316Z",
     "start_time": "2022-12-05T06:46:48.046914Z"
    },
    "colab": {
     "base_uri": "https://localhost:8080/"
    },
    "id": "KxFlV87N5gAe",
    "outputId": "21ca5f4c-271e-42d4-af00-f340192c5fcd"
   },
   "outputs": [
    {
     "data": {
      "text/plain": [
       "[(1, 0, 1), (1, 0, 1), (2, 0, 2), (2, 0, 2)]"
      ]
     },
     "execution_count": 9,
     "metadata": {},
     "output_type": "execute_result"
    }
   ],
   "source": [
    "# Markov decision process (mathematical formalism of sequential decision making)\n",
    "mdp = MDP()\n",
    "s = 1 #initial state\n",
    "a = 0 #initial action\n",
    "π = [0, 0, 0] #policy π\n",
    "# output of the simulation / history of what happened\n",
    "H = mdp.simulate(s, a, π)\n",
    "H  # columns are State, Action, Reward"
   ]
  },
  {
   "cell_type": "code",
   "execution_count": 14,
   "metadata": {
    "ExecuteTime": {
     "end_time": "2022-12-05T06:48:31.686674Z",
     "start_time": "2022-12-05T06:48:31.683140Z"
    },
    "colab": {
     "base_uri": "https://localhost:8080/"
    },
    "id": "6JMTIggG5t0e",
    "outputId": "46746322-9a2e-464d-95e7-e5ade7c32373"
   },
   "outputs": [
    {
     "data": {
      "text/plain": [
       "[(1, 0, 1), (1, 0, 1), (2, 0, 2), (2, 0, 2)]"
      ]
     },
     "execution_count": 14,
     "metadata": {},
     "output_type": "execute_result"
    }
   ],
   "source": [
    "H"
   ]
  },
  {
   "cell_type": "code",
   "execution_count": 17,
   "metadata": {
    "ExecuteTime": {
     "end_time": "2022-12-05T07:03:39.812969Z",
     "start_time": "2022-12-05T07:03:39.809432Z"
    },
    "id": "TF3A0E5yHRCG"
   },
   "outputs": [],
   "source": [
    "mdp = MDP()\n",
    "\n",
    "# Estimating vπ\n",
    "S = np.zeros(3)\n",
    "N = np.zeros(3)\n",
    "vπ = np.zeros(3)\n",
    "π = [0, 1, 1]\n",
    "\n",
    "\n",
    "def update(S, N):\n",
    "    s = 2\n",
    "    H = mdp.simulate(s, π[s], π)\n",
    "    T = len(H)\n",
    "    G = 0\n",
    "    for t in np.arange(T - 1, -1, -1):\n",
    "        s, a, R = H[t]\n",
    "        G = mdp.γ * G + R\n",
    "        S[s] += G #calculating the sum of G\n",
    "        N[s] += 1 #count\n",
    "        # vπ[s] = vπ[s] + 1 / N[s] * (G - vπ[s])\n",
    "\n",
    "    return S, N"
   ]
  },
  {
   "cell_type": "code",
   "execution_count": 16,
   "metadata": {
    "ExecuteTime": {
     "end_time": "2022-12-05T07:03:39.799042Z",
     "start_time": "2022-12-05T07:03:31.525701Z"
    },
    "colab": {
     "base_uri": "https://localhost:8080/"
    },
    "id": "0xLbUfYKw1qj",
    "outputId": "0e9fc99a-ba62-44f8-ef61-452e83db7ca9"
   },
   "outputs": [
    {
     "name": "stdout",
     "output_type": "stream",
     "text": [
      "[        nan 13.69525648 18.06026759]\n"
     ]
    },
    {
     "name": "stderr",
     "output_type": "stream",
     "text": [
      "<ipython-input-16-2c88d3c916fa>:5: RuntimeWarning: invalid value encountered in divide\n",
      "  vπ = S / N\n"
     ]
    }
   ],
   "source": [
    "for episodes in range(10000):\n",
    "    S, N = update(S, N)\n",
    "\n",
    "vπ = S / N\n",
    "print(vπ)"
   ]
  },
  {
   "cell_type": "code",
   "execution_count": null,
   "metadata": {
    "id": "pSNyfPi-0CjX"
   },
   "outputs": [],
   "source": []
  }
 ],
 "metadata": {
  "colab": {
   "provenance": []
  },
  "kernelspec": {
   "display_name": "Python 3",
   "language": "python",
   "name": "python3"
  },
  "language_info": {
   "codemirror_mode": {
    "name": "ipython",
    "version": 3
   },
   "file_extension": ".py",
   "mimetype": "text/x-python",
   "name": "python",
   "nbconvert_exporter": "python",
   "pygments_lexer": "ipython3",
   "version": "3.8.3"
  },
  "toc": {
   "base_numbering": 1,
   "nav_menu": {},
   "number_sections": true,
   "sideBar": true,
   "skip_h1_title": false,
   "title_cell": "Table of Contents",
   "title_sidebar": "Contents",
   "toc_cell": false,
   "toc_position": {},
   "toc_section_display": true,
   "toc_window_display": false
  },
  "varInspector": {
   "cols": {
    "lenName": 16,
    "lenType": 16,
    "lenVar": 40
   },
   "kernels_config": {
    "python": {
     "delete_cmd_postfix": "",
     "delete_cmd_prefix": "del ",
     "library": "var_list.py",
     "varRefreshCmd": "print(var_dic_list())"
    },
    "r": {
     "delete_cmd_postfix": ") ",
     "delete_cmd_prefix": "rm(",
     "library": "var_list.r",
     "varRefreshCmd": "cat(var_dic_list()) "
    }
   },
   "types_to_exclude": [
    "module",
    "function",
    "builtin_function_or_method",
    "instance",
    "_Feature"
   ],
   "window_display": false
  }
 },
 "nbformat": 4,
 "nbformat_minor": 1
}
