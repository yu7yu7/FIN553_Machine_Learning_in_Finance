{
 "cells": [
  {
   "cell_type": "code",
   "execution_count": 1,
   "metadata": {
    "colab": {
     "base_uri": "https://localhost:8080/",
     "height": 283
    },
    "id": "K8ShLwFAcoZY",
    "outputId": "a45a13bf-0082-47b1-eb71-629674767d73"
   },
   "outputs": [
    {
     "data": {
      "text/plain": [
       "<matplotlib.collections.PathCollection at 0x7fe3d86015b0>"
      ]
     },
     "execution_count": 1,
     "metadata": {},
     "output_type": "execute_result"
    },
    {
     "data": {
      "image/png": "[encoded data removed]",
      "text/plain": [
       "<Figure size 432x288 with 1 Axes>"
      ]
     },
     "metadata": {
      "needs_background": "light"
     },
     "output_type": "display_data"
    }
   ],
   "source": [
    "# Data\n",
    "import numpy as np\n",
    "import matplotlib.pyplot as plt\n",
    "\n",
    "x = np.array([0.5488135, 0.71518937, 0.60276338, 0.54488318, 0.4236548,\n",
    "              0.64589411, 0.43758721, 0.891773, 0.96366276, 0.38344152,\n",
    "              0.79172504, 0.52889492, 0.56804456, 0.92559664, 0.07103606,\n",
    "              0.0871293, 0.0202184, 0.83261985, 0.77815675, 0.87001215])\n",
    "\n",
    "y = np.array([5.28096954, 5.55338286, 5.27362886, 4.79352427, 3.82853309,\n",
    "              5.50376882, 4.59134652, 5.79300158, 6.44734895, 3.80840506,\n",
    "              5.7922594, 4.85286325, 5.37362834, 6.26619245, 1.71611946,\n",
    "              1.90896793, 1.02258291, 5.46376013, 5.68434543, 5.94678559])\n",
    "\n",
    "plt.scatter(x, y)\n"
   ]
  },
  {
   "cell_type": "code",
   "execution_count": 2,
   "metadata": {
    "id": "nRR4t8TkcuVU"
   },
   "outputs": [],
   "source": [
    "def solve(degree):\n",
    "    # Training\n",
    "    X = np.column_stack([x**k for k in range(degree + 1)])\n",
    "    Θ = np.linalg.lstsq(X[:16], y[:16])[0]\n",
    "\n",
    "    # Validation error\n",
    "    y_hat_validation = X[16:] @ Θ\n",
    "    mse_validation = np.mean((y[16:] - y_hat_validation)**2)\n",
    "\n",
    "    return mse_validation\n"
   ]
  },
  {
   "cell_type": "code",
   "execution_count": 3,
   "metadata": {
    "colab": {
     "base_uri": "https://localhost:8080/"
    },
    "id": "mPc2POyZcvvf",
    "outputId": "0bfa9482-bd59-4e78-d78d-d3a64c4347de"
   },
   "outputs": [
    {
     "name": "stdout",
     "output_type": "stream",
     "text": [
      "0 4.201118080364049\n",
      "1 0.3954327450964669\n",
      "2 0.09725829926604057\n",
      "3 0.11689711068773488\n",
      "4 0.38768034764323606\n",
      "5 0.07461071096701877\n",
      "6 0.03075646310093769\n",
      "7 0.0667595971927926\n",
      "8 0.40258414402541276\n",
      "9 11.859009607367305\n",
      "10 460.6176475931221\n",
      "11 70448.4471494833\n",
      "12 10413116.586706761\n",
      "13 831779722.039051\n",
      "14 64040518883.03823\n",
      "15 26155413679.15018\n",
      "16 11095526391.965193\n",
      "17 4927170471.583958\n",
      "18 2292724750.170502\n"
     ]
    },
    {
     "name": "stderr",
     "output_type": "stream",
     "text": [
      "<ipython-input-2-3c38bcc73322>:4: FutureWarning: `rcond` parameter will change to the default of machine precision times ``max(M, N)`` where M and N are the input matrix dimensions.\n",
      "To use the future default and silence this warning we advise to pass `rcond=None`, to keep using the old, explicitly pass `rcond=-1`.\n",
      "  Θ = np.linalg.lstsq(X[:16], y[:16])[0]\n"
     ]
    }
   ],
   "source": [
    "for degree in range(19):\n",
    "    mse_validation = solve(degree)\n",
    "    print(degree, mse_validation)\n"
   ]
  },
  {
   "cell_type": "code",
   "execution_count": 4,
   "metadata": {
    "colab": {
     "base_uri": "https://localhost:8080/",
     "height": 355
    },
    "id": "ZrvhmNxpcxn6",
    "outputId": "fa925d8a-b344-43c1-ae11-a1c69211ff85"
   },
   "outputs": [
    {
     "name": "stderr",
     "output_type": "stream",
     "text": [
      "<ipython-input-4-ace3934f19f2>:3: FutureWarning: `rcond` parameter will change to the default of machine precision times ``max(M, N)`` where M and N are the input matrix dimensions.\n",
      "To use the future default and silence this warning we advise to pass `rcond=None`, to keep using the old, explicitly pass `rcond=-1`.\n",
      "  Θ = np.linalg.lstsq(X[:16], y[:16])[0]\n"
     ]
    },
    {
     "data": {
      "text/plain": [
       "<matplotlib.collections.PathCollection at 0x7fc6606b81f0>"
      ]
     },
     "execution_count": 4,
     "metadata": {},
     "output_type": "execute_result"
    },
    {
     "data": {
      "image/png": "[encoded data removed]",
      "text/plain": [
       "<Figure size 432x288 with 1 Axes>"
      ]
     },
     "metadata": {
      "needs_background": "light"
     },
     "output_type": "display_data"
    }
   ],
   "source": [
    "degree = 6\n",
    "X = np.column_stack([x**k for k in range(degree + 1)])\n",
    "Θ = np.linalg.lstsq(X[:16], y[:16])[0]\n",
    "predicted = X @ Θ\n",
    "\n",
    "plt.scatter(x, y)\n",
    "plt.scatter(x, predicted)\n",
    "\n"
   ]
  },
  {
   "cell_type": "code",
   "execution_count": null,
   "metadata": {
    "id": "CZrZIRQic7JB"
   },
   "outputs": [],
   "source": []
  },
  {
   "cell_type": "code",
   "execution_count": null,
   "metadata": {},
   "outputs": [],
   "source": []
  }
 ],
 "metadata": {
  "colab": {
   "collapsed_sections": [],
   "provenance": []
  },
  "kernelspec": {
   "display_name": "Python 3",
   "language": "python",
   "name": "python3"
  },
  "language_info": {
   "codemirror_mode": {
    "name": "ipython",
    "version": 3
   },
   "file_extension": ".py",
   "mimetype": "text/x-python",
   "name": "python",
   "nbconvert_exporter": "python",
   "pygments_lexer": "ipython3",
   "version": "3.8.3"
  },
  "toc": {
   "base_numbering": 1,
   "nav_menu": {},
   "number_sections": true,
   "sideBar": true,
   "skip_h1_title": false,
   "title_cell": "Table of Contents",
   "title_sidebar": "Contents",
   "toc_cell": false,
   "toc_position": {},
   "toc_section_display": true,
   "toc_window_display": false
  },
  "varInspector": {
   "cols": {
    "lenName": 16,
    "lenType": 16,
    "lenVar": 40
   },
   "kernels_config": {
    "python": {
     "delete_cmd_postfix": "",
     "delete_cmd_prefix": "del ",
     "library": "var_list.py",
     "varRefreshCmd": "print(var_dic_list())"
    },
    "r": {
     "delete_cmd_postfix": ") ",
     "delete_cmd_prefix": "rm(",
     "library": "var_list.r",
     "varRefreshCmd": "cat(var_dic_list()) "
    }
   },
   "types_to_exclude": [
    "module",
    "function",
    "builtin_function_or_method",
    "instance",
    "_Feature"
   ],
   "window_display": false
  }
 },
 "nbformat": 4,
 "nbformat_minor": 1
}
