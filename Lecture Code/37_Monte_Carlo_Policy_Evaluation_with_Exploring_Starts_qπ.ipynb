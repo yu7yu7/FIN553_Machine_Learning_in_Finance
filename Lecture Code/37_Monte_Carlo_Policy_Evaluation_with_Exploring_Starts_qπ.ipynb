{
 "cells": [
  {
   "cell_type": "code",
   "execution_count": 5,
   "metadata": {
    "ExecuteTime": {
     "end_time": "2022-12-05T07:49:01.674305Z",
     "start_time": "2022-12-05T07:49:01.668731Z"
    },
    "id": "tQixSozKGTZe"
   },
   "outputs": [],
   "source": [
    "import numpy as np\n",
    "\n",
    "\n",
    "class MDP():\n",
    "    def __init__(self):\n",
    "        # Discount factor\n",
    "        self.γ = 0.95\n",
    "        self.A = [0, 1]\n",
    "        self.S = [0, 1, 2]\n",
    "\n",
    "        # Transition matrix if dont' invest\n",
    "        P0 = np.array([[1, 0, 0],\n",
    "                       [0.1, .75, 0.15],\n",
    "                       [0.05, .1, 0.85]])\n",
    "\n",
    "        R0 = np.array([0, 1, 2])\n",
    "\n",
    "        # Transition matrix if invest\n",
    "        P1 = np.array([[1, 0, 0],\n",
    "                       [0.05, .75, 0.2],\n",
    "                       [0.02, .06, 0.92]])\n",
    "        R1 = np.array([0, 0.5, 1.5])\n",
    "\n",
    "        self.P = [P0, P1]\n",
    "        self.R = [R0, R1]\n",
    "\n",
    "    def step(self, s, a):\n",
    "        s_prime = np.random.choice(len(self.S), p=self.P[a][s])\n",
    "        R = self.R[a][s]\n",
    "        if s_prime == 0:\n",
    "            done = True\n",
    "        else:\n",
    "            done = False\n",
    "        return s_prime, R, done\n",
    "\n",
    "    def simulate(self, s, a, π):\n",
    "        done = False\n",
    "        t = 0\n",
    "        history = []\n",
    "        while not done:\n",
    "            if t > 0:\n",
    "                a = π[s]\n",
    "            s_prime, R, done = self.step(s, a)\n",
    "            history.append((s, a, R))\n",
    "            s = s_prime\n",
    "            t += 1\n",
    "\n",
    "        return history"
   ]
  },
  {
   "cell_type": "code",
   "execution_count": 10,
   "metadata": {
    "ExecuteTime": {
     "end_time": "2022-12-05T07:53:17.483760Z",
     "start_time": "2022-12-05T07:52:42.436051Z"
    },
    "colab": {
     "base_uri": "https://localhost:8080/"
    },
    "id": "jMoyatqBGgHc",
    "outputId": "fa1bfe96-58e6-4ecc-b0bb-43ed10dd8ede"
   },
   "outputs": [
    {
     "name": "stdout",
     "output_type": "stream",
     "text": [
      "[[ 0.          0.        ]\n",
      " [11.40657443  0.        ]\n",
      " [16.01964417  0.        ]]\n"
     ]
    }
   ],
   "source": [
    "# Estimating qπ\n",
    "mdp = MDP()\n",
    "π = [0, 0, 0]\n",
    "\n",
    "S = np.zeros((3, 2))\n",
    "N = np.zeros((3, 2))\n",
    "qπ = np.zeros((3, 2))\n",
    "\n",
    "\n",
    "def update(π):\n",
    "    # s = np.random.randint(3)\n",
    "    s = 1\n",
    "    a = π[s]\n",
    "    # a = np.random.randint(2)\n",
    "    H = mdp.simulate(s, a, π)\n",
    "    T = len(H)\n",
    "    G = 0\n",
    "    for t in np.arange(T - 1, -1, -1):\n",
    "        s, a, R = H[t]\n",
    "        G = mdp.γ * G + R\n",
    "        S[s, a] += G\n",
    "        N[s, a] += 1\n",
    "        qπ[s, a] = qπ[s, a] + 1 / N[s, a] * (G - qπ[s, a])\n",
    "        π[s] = np.argmax(qπ[s])\n",
    "\n",
    "    return π\n",
    "\n",
    "\n",
    "for episodes in range(100000):\n",
    "    π = update(π)\n",
    "print(qπ)"
   ]
  },
  {
   "cell_type": "code",
   "execution_count": null,
   "metadata": {
    "id": "F56LAkP4Qj7K"
   },
   "outputs": [],
   "source": []
  }
 ],
 "metadata": {
  "colab": {
   "provenance": []
  },
  "kernelspec": {
   "display_name": "Python 3",
   "language": "python",
   "name": "python3"
  },
  "language_info": {
   "codemirror_mode": {
    "name": "ipython",
    "version": 3
   },
   "file_extension": ".py",
   "mimetype": "text/x-python",
   "name": "python",
   "nbconvert_exporter": "python",
   "pygments_lexer": "ipython3",
   "version": "3.8.3"
  },
  "toc": {
   "base_numbering": 1,
   "nav_menu": {},
   "number_sections": true,
   "sideBar": true,
   "skip_h1_title": false,
   "title_cell": "Table of Contents",
   "title_sidebar": "Contents",
   "toc_cell": false,
   "toc_position": {},
   "toc_section_display": true,
   "toc_window_display": false
  },
  "varInspector": {
   "cols": {
    "lenName": 16,
    "lenType": 16,
    "lenVar": 40
   },
   "kernels_config": {
    "python": {
     "delete_cmd_postfix": "",
     "delete_cmd_prefix": "del ",
     "library": "var_list.py",
     "varRefreshCmd": "print(var_dic_list())"
    },
    "r": {
     "delete_cmd_postfix": ") ",
     "delete_cmd_prefix": "rm(",
     "library": "var_list.r",
     "varRefreshCmd": "cat(var_dic_list()) "
    }
   },
   "types_to_exclude": [
    "module",
    "function",
    "builtin_function_or_method",
    "instance",
    "_Feature"
   ],
   "window_display": false
  }
 },
 "nbformat": 4,
 "nbformat_minor": 1
}
