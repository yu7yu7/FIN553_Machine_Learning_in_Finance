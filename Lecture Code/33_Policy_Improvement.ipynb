{
 "cells": [
  {
   "cell_type": "code",
   "execution_count": 6,
   "metadata": {
    "ExecuteTime": {
     "end_time": "2022-12-05T05:45:49.398396Z",
     "start_time": "2022-12-05T05:45:49.393336Z"
    },
    "id": "DX8Q6AmefH6X"
   },
   "outputs": [],
   "source": [
    "import numpy as np\n",
    "\n",
    "# Discount factor\n",
    "γ = 0.95\n",
    "A = [0, 1]\n",
    "S = [0, 1, 2]\n",
    "\n",
    "# Transition matrix if dont' invest\n",
    "P0 = np.array([[1, 0, 0],\n",
    "               [0.1, .75, 0.15],\n",
    "               [0.05, .1, 0.85]])\n",
    "\n",
    "R0 = np.array([0, 1, 2])\n",
    "\n",
    "# Transition matrix if invest\n",
    "P1 = np.array([[1, 0, 0],\n",
    "               [0.05, .75, 0.2],\n",
    "               [0.02, .06, 0.92]])\n",
    "R1 = np.array([0, 0.5, 1.5])\n",
    "\n",
    "\n",
    "P = [P0, P1]\n",
    "R = [R0, R1]\n",
    "\n",
    "\n",
    "def construct_Rπ(R, π, S):\n",
    "    Rπ = np.zeros(len(S))\n",
    "    for s in S:\n",
    "        Rπ[s] = R[π[s]][s]\n",
    "    return Rπ\n",
    "\n",
    "\n",
    "def construct_Pπ(P, π, S):\n",
    "    Pπ = np.zeros((len(S), len(S)))\n",
    "    for s in S:\n",
    "        for s_prime in S:\n",
    "            Pπ[s, s_prime] = P[π[s]][s, s_prime]\n",
    "    return Pπ"
   ]
  },
  {
   "cell_type": "code",
   "execution_count": 7,
   "metadata": {
    "ExecuteTime": {
     "end_time": "2022-12-05T05:45:50.005227Z",
     "start_time": "2022-12-05T05:45:50.001204Z"
    },
    "id": "JbuW8UgruESJ"
   },
   "outputs": [],
   "source": [
    "π = [0, 0, 0]\n",
    "\n",
    "# # Solution with linear algebra\n",
    "# def policy_evaluation(π):\n",
    "#   Rπ = construct_Rπ(R, π, S)\n",
    "#   Pπ = construct_Pπ(P, π, S)\n",
    "#   I = np.eye(3)\n",
    "#   Vπ = np.linalg.solve(I - γ * Pπ, Rπ)\n",
    "#   return Vπ\n",
    "\n",
    "# Iterative policy evaluation\n",
    "#Policy iteration = policy evaluation + policy improvement  \n",
    "\n",
    "def policy_evaluation(π, Vπ):\n",
    "    Rπ = construct_Rπ(R, π, S)\n",
    "    Pπ = construct_Pπ(P, π, S)\n",
    "    for iteration in range(1): #把這邊次數減少 \n",
    "        Vπ = Rπ + γ * Pπ @ Vπ\n",
    "    return Vπ\n",
    "\n",
    "\n",
    "def policy_improvement(Vπ):\n",
    "    # Compute Qπ using Vπ\n",
    "    Qπ = np.zeros((3, 2))\n",
    "    π_prime = np.zeros(3, dtype=np.int32)\n",
    "    for s in S:\n",
    "        for a in A:\n",
    "            Qπ[s, a] = R[a][s] + γ * P[a][s] @ Vπ\n",
    "\n",
    "    # Greedy updates\n",
    "    for s in S:\n",
    "        π_prime[s] = np.argmax(Qπ[s, :])\n",
    "    return π_prime"
   ]
  },
  {
   "cell_type": "code",
   "execution_count": 16,
   "metadata": {
    "ExecuteTime": {
     "end_time": "2022-12-05T08:24:34.782046Z",
     "start_time": "2022-12-05T08:24:31.751440Z"
    },
    "id": "S2b5XioNfPTK"
   },
   "outputs": [
    {
     "name": "stdout",
     "output_type": "stream",
     "text": [
      "[ 0.         13.70348494 18.10395747]\n"
     ]
    }
   ],
   "source": [
    "Vπ = np.zeros(3)\n",
    "for iteration in range(100000): #然後這邊次數增大\n",
    "    Vπ = policy_evaluation(π, Vπ)\n",
    "    π = policy_improvement(Vπ)\n",
    "print(Vπ)"
   ]
  },
  {
   "cell_type": "code",
   "execution_count": 17,
   "metadata": {
    "ExecuteTime": {
     "end_time": "2022-12-05T08:24:34.803767Z",
     "start_time": "2022-12-05T08:24:34.800346Z"
    },
    "colab": {
     "base_uri": "https://localhost:8080/"
    },
    "id": "kyVdVWuOug-x",
    "outputId": "b99c5226-4232-4a42-da81-456c73f0f19b"
   },
   "outputs": [
    {
     "data": {
      "text/plain": [
       "array([0, 1, 1], dtype=int32)"
      ]
     },
     "execution_count": 17,
     "metadata": {},
     "output_type": "execute_result"
    }
   ],
   "source": [
    "π"
   ]
  },
  {
   "cell_type": "code",
   "execution_count": null,
   "metadata": {},
   "outputs": [],
   "source": []
  }
 ],
 "metadata": {
  "colab": {
   "provenance": []
  },
  "kernelspec": {
   "display_name": "Python 3",
   "language": "python",
   "name": "python3"
  },
  "language_info": {
   "codemirror_mode": {
    "name": "ipython",
    "version": 3
   },
   "file_extension": ".py",
   "mimetype": "text/x-python",
   "name": "python",
   "nbconvert_exporter": "python",
   "pygments_lexer": "ipython3",
   "version": "3.8.3"
  },
  "toc": {
   "base_numbering": 1,
   "nav_menu": {},
   "number_sections": true,
   "sideBar": true,
   "skip_h1_title": false,
   "title_cell": "Table of Contents",
   "title_sidebar": "Contents",
   "toc_cell": false,
   "toc_position": {},
   "toc_section_display": true,
   "toc_window_display": false
  },
  "varInspector": {
   "cols": {
    "lenName": 16,
    "lenType": 16,
    "lenVar": 40
   },
   "kernels_config": {
    "python": {
     "delete_cmd_postfix": "",
     "delete_cmd_prefix": "del ",
     "library": "var_list.py",
     "varRefreshCmd": "print(var_dic_list())"
    },
    "r": {
     "delete_cmd_postfix": ") ",
     "delete_cmd_prefix": "rm(",
     "library": "var_list.r",
     "varRefreshCmd": "cat(var_dic_list()) "
    }
   },
   "types_to_exclude": [
    "module",
    "function",
    "builtin_function_or_method",
    "instance",
    "_Feature"
   ],
   "window_display": false
  }
 },
 "nbformat": 4,
 "nbformat_minor": 1
}
