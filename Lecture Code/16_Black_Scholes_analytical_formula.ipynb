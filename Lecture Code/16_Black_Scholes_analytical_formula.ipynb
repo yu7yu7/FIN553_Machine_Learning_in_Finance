{
 "cells": [
  {
   "cell_type": "code",
   "execution_count": 1,
   "metadata": {
    "colab": {
     "base_uri": "https://localhost:8080/",
     "height": 300
    },
    "id": "h_GtKF3e0OxK",
    "outputId": "239f2dc0-f542-4561-a6a6-8ecb9b122b2b"
   },
   "outputs": [
    {
     "data": {
      "text/plain": [
       "Text(0, 0.5, 'Call price - $C_0$')"
      ]
     },
     "execution_count": 1,
     "metadata": {},
     "output_type": "execute_result"
    },
    {
     "data": {
      "image/png": "[encoded data removed]",
      "text/plain": [
       "<Figure size 432x288 with 1 Axes>"
      ]
     },
     "metadata": {
      "needs_background": "light"
     },
     "output_type": "display_data"
    }
   ],
   "source": [
    "import numpy as np\n",
    "from scipy.stats import norm\n",
    "import matplotlib.pyplot as plt\n",
    "T = 1.\n",
    "t = 0\n",
    "σ = 0.04\n",
    "K = 35\n",
    "r = 0.01\n",
    "\n",
    "\n",
    "def analytical_formula(S):\n",
    "    d1 = 1 / (σ * np.sqrt(T - t)) * (np.log(S / K) + (r + σ**2 / 2) * (T - t))\n",
    "    d2 = d1 - σ * np.sqrt(T - t)\n",
    "    PV = K * np.exp(-r * (T - t))\n",
    "\n",
    "    N = norm.cdf\n",
    "    C = N(d1) * S - N(d2) * PV\n",
    "    return C\n",
    "\n",
    "\n",
    "S0 = np.linspace(30, 40, 100)\n",
    "C_BS = analytical_formula(S0)\n",
    "plt.plot(S0, C_BS, lw=2)\n",
    "plt.xlabel('Stock price - $S_0$')\n",
    "plt.ylabel('Call price - $C_0$')"
   ]
  },
  {
   "cell_type": "code",
   "execution_count": null,
   "metadata": {
    "id": "jfFDx8wV0Vip"
   },
   "outputs": [],
   "source": []
  }
 ],
 "metadata": {
  "colab": {
   "provenance": []
  },
  "kernelspec": {
   "display_name": "Python 3",
   "language": "python",
   "name": "python3"
  },
  "language_info": {
   "codemirror_mode": {
    "name": "ipython",
    "version": 3
   },
   "file_extension": ".py",
   "mimetype": "text/x-python",
   "name": "python",
   "nbconvert_exporter": "python",
   "pygments_lexer": "ipython3",
   "version": "3.8.3"
  },
  "toc": {
   "base_numbering": 1,
   "nav_menu": {},
   "number_sections": true,
   "sideBar": true,
   "skip_h1_title": false,
   "title_cell": "Table of Contents",
   "title_sidebar": "Contents",
   "toc_cell": false,
   "toc_position": {},
   "toc_section_display": true,
   "toc_window_display": false
  },
  "varInspector": {
   "cols": {
    "lenName": 16,
    "lenType": 16,
    "lenVar": 40
   },
   "kernels_config": {
    "python": {
     "delete_cmd_postfix": "",
     "delete_cmd_prefix": "del ",
     "library": "var_list.py",
     "varRefreshCmd": "print(var_dic_list())"
    },
    "r": {
     "delete_cmd_postfix": ") ",
     "delete_cmd_prefix": "rm(",
     "library": "var_list.r",
     "varRefreshCmd": "cat(var_dic_list()) "
    }
   },
   "types_to_exclude": [
    "module",
    "function",
    "builtin_function_or_method",
    "instance",
    "_Feature"
   ],
   "window_display": false
  }
 },
 "nbformat": 4,
 "nbformat_minor": 1
}
