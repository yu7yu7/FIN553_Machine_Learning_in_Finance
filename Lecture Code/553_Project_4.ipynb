{
 "cells": [
  {
   "cell_type": "code",
   "execution_count": 1,
   "metadata": {
    "ExecuteTime": {
     "end_time": "2022-12-05T07:57:23.985506Z",
     "start_time": "2022-12-05T07:57:20.472287Z"
    },
    "id": "b5lSRB8Ufuz1"
   },
   "outputs": [
    {
     "name": "stdout",
     "output_type": "stream",
     "text": [
      "Note: you may need to restart the kernel to use updated packages.\n"
     ]
    }
   ],
   "source": [
    "pip install -q optax dm-haiku"
   ]
  },
  {
   "cell_type": "markdown",
   "metadata": {
    "id": "NBCYxZPBaiLy"
   },
   "source": [
    "Due Date: December 7th\n",
    "# Problem statement\n",
    "\n",
    "Consider the stochastic cake-eating problem you solved in the previous assignment. Suppose that instead of investing the wealth entirely in the stock market, you have the option to assign a fraction $\\alpha$ of your wealth in the stock market, and the remaining is invested in a risk-free savings account that pays a 1.04 % gross return. Notice that $\\alpha$ is bounded below by 0, and bounded above by 1.\n",
    "\n",
    "Solve for the optimal consumption ($c$) and asset allocation ($\\alpha$).\n",
    "\n",
    "- Print the average sum of discounted rewards (utilities) using 1 million simulations.\n",
    " \n",
    " - Plot the average consumption-wealth ratio ($c / x)$ for each time period $t=0, 1, ..., 49$\n",
    "\n",
    " - Plot the average asset allocation in the risky asset($\\alpha)$ for each time period $t=0, 1, ..., 49$\n",
    "\n",
    "Hint: Starting from the code of the previous assignment, the modifications you have to implement are minimal. Namely:\n",
    "\n",
    "- The output of the neural network now should be a 2d vector, [link text](https://)corresponding to the consumption-wealth ratio (c / x) and $\\alpha$, respectively\n"
   ]
  },
  {
   "cell_type": "code",
   "execution_count": 3,
   "metadata": {
    "ExecuteTime": {
     "end_time": "2022-12-05T07:58:42.276900Z",
     "start_time": "2022-12-05T07:58:22.370406Z"
    }
   },
   "outputs": [
    {
     "name": "stdout",
     "output_type": "stream",
     "text": [
      "-434.0201\n"
     ]
    }
   ],
   "source": [
    "import jax\n",
    "import jax.numpy as jnp\n",
    "import optax\n",
    "import haiku as hk\n",
    "\n",
    "\n",
    "γ = 2.\n",
    "β = 0.95\n",
    "\n",
    "def stock_return(rng, n):\n",
    "    μs = 0.06\n",
    "    σs = 0.2\n",
    "    ε = jax.random.normal(rng, (1, n))\n",
    "    log_return = μs + σs * ε\n",
    "    return jnp.exp(log_return).squeeze()\n",
    "\n",
    "def U(c):\n",
    "    return c**(1 - γ) / (1 - γ)\n",
    "\n",
    "\n",
    "optimizer = optax.adam\n",
    "lr = 1e-3\n",
    "T = 50\n",
    "batch_size = 256\n",
    "\n",
    "\n",
    "def nnet(x):\n",
    "    X = jnp.column_stack([x])\n",
    "    X = hk.Linear(32)(X)\n",
    "    X = jnp.tanh(X)\n",
    "    X = hk.Linear(1)(X)\n",
    "    X = jnp.squeeze(X)\n",
    "    return X\n",
    "\n",
    "\n",
    "init, nnet = hk.without_apply_rng(hk.transform(nnet))\n",
    "rng = jax.random.PRNGKey(0)\n",
    "Θ = init(rng, jnp.array(1.))\n",
    "\n",
    "\n",
    "opt_state = optimizer(lr).init(Θ)\n",
    "\n",
    "\n",
    "def L(Θ, n, rng):\n",
    "\n",
    "    x = jnp.ones(n)  # simulate x \"n\" times\n",
    "    G = 0.\n",
    "\n",
    "    # adding rng_vector\n",
    "    rng_vector = jax.random.split(rng, T)  # create vector or rng here!\n",
    "\n",
    "    state = x\n",
    "    inputs = jnp.arange(T), rng_vector\n",
    "\n",
    "    def core(state, inputs):\n",
    "        t, rng = inputs\n",
    "        xt = state\n",
    "\n",
    "        ct = jax.nn.sigmoid(nnet(Θ, xt) - 4.) * xt\n",
    "        ut = U(ct)\n",
    "        savings = xt - ct\n",
    "\n",
    "        stk_ret = stock_return(rng, n)\n",
    "        # change this line (just add log return instead of R)\n",
    "        x_tp1 = stk_ret * savings\n",
    "\n",
    "        state = x_tp1\n",
    "        discounted_utility = β**t * ut\n",
    "        # expectation discounted utility of the simulation??\n",
    "        return state, discounted_utility.mean()\n",
    "\n",
    "    _, discounted_utility = jax.lax.scan(core, state, inputs)\n",
    "    G = discounted_utility.sum()\n",
    "    return -G\n",
    "\n",
    "\n",
    "@jax.jit\n",
    "def evaluation(Θ):\n",
    "    return -L(Θ, 1000000, rng)  # eveluate at 1 mil path\n",
    "\n",
    "\n",
    "@jax.jit\n",
    "def update_gradient_descent(Θ, opt_state, rng):\n",
    "    rng, _ = jax.random.split(rng)  # get new rng here\n",
    "    grad = jax.grad(L)(Θ, batch_size, rng)\n",
    "    updates, opt_state = optimizer(lr).update(grad, opt_state)\n",
    "    Θ = optax.apply_updates(Θ, updates)\n",
    "    return Θ, opt_state, rng\n",
    "\n",
    "\n",
    "for iteration in range(10000):\n",
    "    Θ, opt_state, rng = update_gradient_descent(Θ, opt_state, rng)\n",
    "\n",
    "print(evaluation(Θ))"
   ]
  },
  {
   "cell_type": "code",
   "execution_count": null,
   "metadata": {},
   "outputs": [],
   "source": []
  }
 ],
 "metadata": {
  "accelerator": "GPU",
  "colab": {
   "provenance": []
  },
  "gpuClass": "standard",
  "kernelspec": {
   "display_name": "Python 3",
   "language": "python",
   "name": "python3"
  },
  "language_info": {
   "codemirror_mode": {
    "name": "ipython",
    "version": 3
   },
   "file_extension": ".py",
   "mimetype": "text/x-python",
   "name": "python",
   "nbconvert_exporter": "python",
   "pygments_lexer": "ipython3",
   "version": "3.8.3"
  },
  "toc": {
   "base_numbering": 1,
   "nav_menu": {},
   "number_sections": true,
   "sideBar": true,
   "skip_h1_title": false,
   "title_cell": "Table of Contents",
   "title_sidebar": "Contents",
   "toc_cell": false,
   "toc_position": {},
   "toc_section_display": true,
   "toc_window_display": false
  },
  "varInspector": {
   "cols": {
    "lenName": 16,
    "lenType": 16,
    "lenVar": 40
   },
   "kernels_config": {
    "python": {
     "delete_cmd_postfix": "",
     "delete_cmd_prefix": "del ",
     "library": "var_list.py",
     "varRefreshCmd": "print(var_dic_list())"
    },
    "r": {
     "delete_cmd_postfix": ") ",
     "delete_cmd_prefix": "rm(",
     "library": "var_list.r",
     "varRefreshCmd": "cat(var_dic_list()) "
    }
   },
   "types_to_exclude": [
    "module",
    "function",
    "builtin_function_or_method",
    "instance",
    "_Feature"
   ],
   "window_display": false
  }
 },
 "nbformat": 4,
 "nbformat_minor": 1
}
