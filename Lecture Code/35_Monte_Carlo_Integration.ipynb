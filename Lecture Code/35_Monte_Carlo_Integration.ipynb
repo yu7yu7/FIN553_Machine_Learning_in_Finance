{
 "cells": [
  {
   "cell_type": "code",
   "execution_count": 1,
   "metadata": {
    "ExecuteTime": {
     "end_time": "2022-12-05T06:15:37.276777Z",
     "start_time": "2022-12-05T06:15:37.228143Z"
    },
    "colab": {
     "base_uri": "https://localhost:8080/"
    },
    "id": "iWLKjyPQWnva",
    "outputId": "b9e568b5-6cd3-4660-ce4b-05928c4aa70f"
   },
   "outputs": [
    {
     "name": "stdout",
     "output_type": "stream",
     "text": [
      "0.5503354995024337\n"
     ]
    }
   ],
   "source": [
    "import numpy as np\n",
    "X = np.random.normal(size=1000000)\n",
    "average = np.tanh(1 + X).mean()\n",
    "print(average)"
   ]
  },
  {
   "cell_type": "code",
   "execution_count": 7,
   "metadata": {
    "ExecuteTime": {
     "end_time": "2022-12-05T06:50:39.835360Z",
     "start_time": "2022-12-05T06:50:39.832339Z"
    },
    "id": "HGvBfUYZWytj"
   },
   "outputs": [],
   "source": [
    "gamma = 0.95\n",
    "G0 = 2 + 2 * gamma + gamma**2  + gamma**3\n",
    "G1 = 2  + gamma  + gamma**2\n",
    "G2 = 1  + gamma\n",
    "G3 = 1"
   ]
  },
  {
   "cell_type": "code",
   "execution_count": 8,
   "metadata": {
    "ExecuteTime": {
     "end_time": "2022-12-05T06:50:40.419382Z",
     "start_time": "2022-12-05T06:50:40.416304Z"
    },
    "colab": {
     "base_uri": "https://localhost:8080/"
    },
    "id": "YT23l5-6lcrf",
    "outputId": "4c06a571-fa05-4583-9fe2-48e22f321a0b"
   },
   "outputs": [
    {
     "name": "stdout",
     "output_type": "stream",
     "text": [
      "5.659875 3.8525 1.95 1\n"
     ]
    }
   ],
   "source": [
    "print(G0, G1, G2, G3)"
   ]
  },
  {
   "cell_type": "code",
   "execution_count": 4,
   "metadata": {
    "ExecuteTime": {
     "end_time": "2022-12-05T06:15:38.860921Z",
     "start_time": "2022-12-05T06:15:38.859132Z"
    },
    "id": "xUhXA-c5kx99"
   },
   "outputs": [],
   "source": [
    "# G3 = 1\n",
    "# G2 = R2(==1) + gamma * G3\n",
    "# G1 = R1(==2) + gamma * G2\n",
    "# G0 = R0(==2) + gamma * G1"
   ]
  },
  {
   "cell_type": "code",
   "execution_count": 20,
   "metadata": {
    "ExecuteTime": {
     "end_time": "2022-12-05T06:58:45.933238Z",
     "start_time": "2022-12-05T06:58:45.930209Z"
    },
    "colab": {
     "base_uri": "https://localhost:8080/"
    },
    "id": "LpdgoSQvmPqf",
    "outputId": "4b401121-cc64-4088-9997-6c742161ae9c"
   },
   "outputs": [
    {
     "name": "stdout",
     "output_type": "stream",
     "text": [
      "12.462375\n",
      "3.11559375\n"
     ]
    }
   ],
   "source": [
    "from statistics import mean\n",
    "print(sum([G0, G1, G2, G3]))\n",
    "print(mean([G0, G1, G2, G3]))"
   ]
  },
  {
   "cell_type": "code",
   "execution_count": 6,
   "metadata": {
    "ExecuteTime": {
     "end_time": "2022-12-05T06:15:39.477378Z",
     "start_time": "2022-12-05T06:15:39.474088Z"
    },
    "colab": {
     "base_uri": "https://localhost:8080/"
    },
    "id": "qjxjoeXLmRFM",
    "outputId": "1da1eae4-3836-44e6-d5d3-59ab8c7c9415"
   },
   "outputs": [
    {
     "data": {
      "text/plain": [
       "4.7561875"
      ]
     },
     "execution_count": 6,
     "metadata": {},
     "output_type": "execute_result"
    }
   ],
   "source": [
    "(G0 + G1) / 2"
   ]
  },
  {
   "cell_type": "code",
   "execution_count": null,
   "metadata": {
    "id": "SjOqQ7KUmh0l"
   },
   "outputs": [],
   "source": []
  },
  {
   "cell_type": "code",
   "execution_count": 17,
   "metadata": {
    "ExecuteTime": {
     "end_time": "2022-12-05T06:58:10.704896Z",
     "start_time": "2022-12-05T06:58:10.681994Z"
    }
   },
   "outputs": [
    {
     "data": {
      "text/plain": [
       "3"
      ]
     },
     "execution_count": 17,
     "metadata": {},
     "output_type": "execute_result"
    }
   ],
   "source": [
    "from statistics import mean\n",
    "mean([1,2,3,4,5])"
   ]
  },
  {
   "cell_type": "code",
   "execution_count": null,
   "metadata": {},
   "outputs": [],
   "source": []
  }
 ],
 "metadata": {
  "colab": {
   "provenance": []
  },
  "kernelspec": {
   "display_name": "Python 3",
   "language": "python",
   "name": "python3"
  },
  "language_info": {
   "codemirror_mode": {
    "name": "ipython",
    "version": 3
   },
   "file_extension": ".py",
   "mimetype": "text/x-python",
   "name": "python",
   "nbconvert_exporter": "python",
   "pygments_lexer": "ipython3",
   "version": "3.8.3"
  },
  "toc": {
   "base_numbering": 1,
   "nav_menu": {},
   "number_sections": true,
   "sideBar": true,
   "skip_h1_title": false,
   "title_cell": "Table of Contents",
   "title_sidebar": "Contents",
   "toc_cell": false,
   "toc_position": {},
   "toc_section_display": true,
   "toc_window_display": false
  },
  "varInspector": {
   "cols": {
    "lenName": 16,
    "lenType": 16,
    "lenVar": 40
   },
   "kernels_config": {
    "python": {
     "delete_cmd_postfix": "",
     "delete_cmd_prefix": "del ",
     "library": "var_list.py",
     "varRefreshCmd": "print(var_dic_list())"
    },
    "r": {
     "delete_cmd_postfix": ") ",
     "delete_cmd_prefix": "rm(",
     "library": "var_list.r",
     "varRefreshCmd": "cat(var_dic_list()) "
    }
   },
   "types_to_exclude": [
    "module",
    "function",
    "builtin_function_or_method",
    "instance",
    "_Feature"
   ],
   "window_display": false
  }
 },
 "nbformat": 4,
 "nbformat_minor": 1
}
