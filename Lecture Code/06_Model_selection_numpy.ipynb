{
 "cells": [
  {
   "cell_type": "code",
   "execution_count": 1,
   "metadata": {
    "id": "K8ShLwFAcoZY"
   },
   "outputs": [],
   "source": [
    "# Data\n",
    "import numpy as np\n",
    "\n",
    "x = np.array([0.5488135, 0.71518937, 0.60276338, 0.54488318, 0.4236548,\n",
    "              0.64589411, 0.43758721, 0.891773, 0.96366276, 0.38344152,\n",
    "              0.79172504, 0.52889492, 0.56804456, 0.92559664, 0.07103606,\n",
    "              0.0871293, 0.0202184, 0.83261985, 0.77815675, 0.87001215])\n",
    "\n",
    "y = np.array([5.28096954, 5.55338286, 5.27362886, 4.79352427, 3.82853309,\n",
    "              5.50376882, 4.59134652, 5.79300158, 6.44734895, 3.80840506,\n",
    "              5.7922594, 4.85286325, 5.37362834, 6.26619245, 1.71611946,\n",
    "              1.90896793, 1.02258291, 5.46376013, 5.68434543, 5.94678559])"
   ]
  },
  {
   "cell_type": "code",
   "execution_count": 2,
   "metadata": {
    "id": "nRR4t8TkcuVU"
   },
   "outputs": [],
   "source": [
    "def solve(degree):\n",
    "    # Training\n",
    "    X = np.column_stack([x**k for k in range(degree + 1)])\n",
    "    Θ = np.linalg.lstsq(X[:12], y[:12])[0]\n",
    "\n",
    "    # Validation error\n",
    "    y_hat_validation = X[12:16] @ Θ\n",
    "    mse_validation = np.mean((y[12:16] - y_hat_validation)**2)\n",
    "\n",
    "    # Test error\n",
    "    y_hat_test = X[16:] @ Θ\n",
    "    mse_test = np.mean((y[16:] - y_hat_test)**2)\n",
    "    return mse_validation, mse_test"
   ]
  },
  {
   "cell_type": "code",
   "execution_count": 3,
   "metadata": {
    "colab": {
     "base_uri": "https://localhost:8080/"
    },
    "id": "mPc2POyZcvvf",
    "outputId": "8f702379-aa16-4401-9634-c9c47a80d262"
   },
   "outputs": [
    {
     "name": "stdout",
     "output_type": "stream",
     "text": [
      "[5.836020254549727, 0.7243650808356318, 0.27083631918480644, 14.10459145068118, 6.155012650931505, 103.61778091597378, 803.2567479366894, 778.7663274786642, 52026484.45853168, 1204212804.8216813, 73896453620.65674, 2444356404443139.0, 1200683811398494.0, 622407450769667.5, 339657936925860.56, 194204691220478.44, 115908991383544.84, 71959593380171.38, 46326140062678.16] [4.485087696372474, 0.8004108801974046, 0.16280233523894533, 12.022336631007086, 10.710197461845372, 141.80388418998456, 1595.5375920476079, 1543.8880219542032, 141666977.86436528, 3995722231.9198985, 316524715090.56854, 1.3638769066873812e+16, 6036350245482904.0, 2862307594027664.0, 1446674688377612.2, 774019946652045.8, 436025768147575.06, 257357654494332.44, 158490045428251.9]\n"
     ]
    },
    {
     "name": "stderr",
     "output_type": "stream",
     "text": [
      "<ipython-input-2-3c9daed18b06>:4: FutureWarning: `rcond` parameter will change to the default of machine precision times ``max(M, N)`` where M and N are the input matrix dimensions.\n",
      "To use the future default and silence this warning we advise to pass `rcond=None`, to keep using the old, explicitly pass `rcond=-1`.\n",
      "  Θ = np.linalg.lstsq(X[:12], y[:12])[0]\n"
     ]
    }
   ],
   "source": [
    "l1 = []\n",
    "l2 = []\n",
    "l3 = []\n",
    "for degree in range(19):\n",
    "    mse_validation, mse_test = solve(degree)\n",
    "    l1.append(mse_validation)\n",
    "    l2.append(mse_test)\n",
    "print(l1, l2)"
   ]
  },
  {
   "cell_type": "code",
   "execution_count": 5,
   "metadata": {
    "id": "CZrZIRQic7JB"
   },
   "outputs": [
    {
     "name": "stdout",
     "output_type": "stream",
     "text": [
      "0.27083631918480644 0.16280233523894533\n",
      "yup\n"
     ]
    }
   ],
   "source": [
    "for i in range(len(l1)):\n",
    "    if l1[i] == min(l1):\n",
    "        print(l1[i], l2[i])\n",
    "        if l2[i] == min(l2):\n",
    "            print(\"yup\")"
   ]
  },
  {
   "cell_type": "code",
   "execution_count": null,
   "metadata": {},
   "outputs": [],
   "source": []
  },
  {
   "cell_type": "code",
   "execution_count": null,
   "metadata": {},
   "outputs": [],
   "source": []
  }
 ],
 "metadata": {
  "colab": {
   "collapsed_sections": [],
   "provenance": []
  },
  "kernelspec": {
   "display_name": "Python 3",
   "language": "python",
   "name": "python3"
  },
  "language_info": {
   "codemirror_mode": {
    "name": "ipython",
    "version": 3
   },
   "file_extension": ".py",
   "mimetype": "text/x-python",
   "name": "python",
   "nbconvert_exporter": "python",
   "pygments_lexer": "ipython3",
   "version": "3.8.3"
  },
  "toc": {
   "base_numbering": 1,
   "nav_menu": {},
   "number_sections": true,
   "sideBar": true,
   "skip_h1_title": false,
   "title_cell": "Table of Contents",
   "title_sidebar": "Contents",
   "toc_cell": false,
   "toc_position": {},
   "toc_section_display": true,
   "toc_window_display": false
  },
  "varInspector": {
   "cols": {
    "lenName": 16,
    "lenType": 16,
    "lenVar": 40
   },
   "kernels_config": {
    "python": {
     "delete_cmd_postfix": "",
     "delete_cmd_prefix": "del ",
     "library": "var_list.py",
     "varRefreshCmd": "print(var_dic_list())"
    },
    "r": {
     "delete_cmd_postfix": ") ",
     "delete_cmd_prefix": "rm(",
     "library": "var_list.r",
     "varRefreshCmd": "cat(var_dic_list()) "
    }
   },
   "types_to_exclude": [
    "module",
    "function",
    "builtin_function_or_method",
    "instance",
    "_Feature"
   ],
   "window_display": false
  }
 },
 "nbformat": 4,
 "nbformat_minor": 1
}
