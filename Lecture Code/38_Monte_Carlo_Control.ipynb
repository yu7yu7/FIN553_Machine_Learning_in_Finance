{
  "nbformat": 4,
  "nbformat_minor": 0,
  "metadata": {
    "colab": {
      "provenance": []
    },
    "kernelspec": {
      "name": "python3",
      "display_name": "Python 3"
    }
  },
  "cells": [
    {
      "cell_type": "code",
      "metadata": {
        "id": "c-Pm8TQWMsuU"
      },
      "source": [
        "import numpy as np\n",
        "\n",
        "\n",
        "class MDP():\n",
        "  def __init__(self):\n",
        "    # Discount factor\n",
        "    self.γ = 0.95\n",
        "    self.A = [0, 1]\n",
        "    self.S = [0, 1, 2]\n",
        "\n",
        "    # Transition matrix if dont' invest\n",
        "    P0 = np.array([[1, 0, 0],\n",
        "                   [0.1, .75, 0.15],\n",
        "                   [0.05, .1, 0.85]])\n",
        "\n",
        "    R0 = np.array([0, 1, 2])\n",
        "\n",
        "    # Transition matrix if invest\n",
        "    P1 = np.array([[1, 0, 0],\n",
        "                   [0.05, .75, 0.2],\n",
        "                   [0.02, .06, 0.92]])\n",
        "    R1 = np.array([0, 0.5, 1.5])\n",
        "\n",
        "    self.P = [P0, P1]\n",
        "    self.R = [R0, R1]\n",
        "\n",
        "  def step(self, s, a):\n",
        "    s_prime = np.random.choice(len(self.S), p=self.P[a][s])\n",
        "    R = self.R[a][s]\n",
        "    if s_prime == 0:\n",
        "      done = True\n",
        "    else:\n",
        "      done = False\n",
        "    return s_prime, R, done\n",
        "\n",
        "  def simulate(self, s, a, π):\n",
        "    done = False\n",
        "    t = 0\n",
        "    history = []\n",
        "    while not done:\n",
        "      if t > 0:\n",
        "        a = np.random.choice(2, p=π[s])\n",
        "      s_prime, R, done = self.step(s, a)\n",
        "      history.append((s, a, R))\n",
        "      s = s_prime\n",
        "      t += 1\n",
        "\n",
        "    return history\n"
      ],
      "execution_count": null,
      "outputs": []
    },
    {
      "cell_type": "code",
      "metadata": {
        "id": "YkF9g1boM4gM",
        "colab": {
          "base_uri": "https://localhost:8080/"
        },
        "outputId": "28690213-c218-4a77-ea93-ee8f00e1b7ef"
      },
      "source": [
        "S = np.zeros((3, 2))\n",
        "N = np.zeros((3, 2))\n",
        "Q = np.zeros((3, 2))\n",
        "\n",
        "mdp = MDP()\n",
        "π = np.array([[0.5, 0.5],\n",
        "              [0.5, 0.5],\n",
        "              [0.5, 0.5]])\n",
        "\n",
        "\n",
        "def update(π, ε=0.01):\n",
        "  s = 1\n",
        "  a = np.random.choice(2, p=π[s])\n",
        "  H = mdp.simulate(s, a, π)\n",
        "  T = len(H)\n",
        "  G = 0\n",
        "  for t in np.arange(T - 1, -1, -1):\n",
        "    s, a, R = H[t]\n",
        "    G = mdp.γ * G + R\n",
        "    N[s, a] += 1\n",
        "    Q[s, a] += 1 / N[s, a] * (G - Q[s, a])\n",
        "\n",
        "    # Policy improvement\n",
        "    Astar = np.argmax(Q[s])\n",
        "    for a in range(2):\n",
        "      if a == Astar:\n",
        "        π[s, a] = 1 - ε\n",
        "      else:\n",
        "        π[s, a] = ε\n",
        "  return π\n",
        "\n",
        "\n",
        "π = np.array([[0.5, 0.5],\n",
        "              [0.5, 0.5],\n",
        "              [0.5, 0.5]])\n",
        "\n",
        "for _ in range(10000):\n",
        "    π = update(π)\n",
        "\n",
        "print(π)\n"
      ],
      "execution_count": null,
      "outputs": [
        {
          "output_type": "stream",
          "name": "stdout",
          "text": [
            "[[0.5  0.5 ]\n",
            " [0.99 0.01]\n",
            " [0.01 0.99]]\n"
          ]
        }
      ]
    },
    {
      "cell_type": "code",
      "metadata": {
        "colab": {
          "base_uri": "https://localhost:8080/"
        },
        "id": "T9l0n4_j0Vc-",
        "outputId": "7d3af1da-64ca-4b4e-dda8-9a205e825665"
      },
      "source": [
        "for _ in range(1000):\n",
        "    π = update(π, ε=0.00001)\n",
        "print(π)"
      ],
      "execution_count": null,
      "outputs": [
        {
          "output_type": "stream",
          "name": "stdout",
          "text": [
            "[[5.0000e-01 5.0000e-01]\n",
            " [1.0000e-05 9.9999e-01]\n",
            " [1.0000e-05 9.9999e-01]]\n"
          ]
        }
      ]
    },
    {
      "cell_type": "code",
      "metadata": {
        "id": "XCkHPS9FHZmY",
        "colab": {
          "base_uri": "https://localhost:8080/"
        },
        "outputId": "30426fa3-52e0-4625-fd63-ad19cf3b95b8"
      },
      "source": [
        "π"
      ],
      "execution_count": null,
      "outputs": [
        {
          "output_type": "execute_result",
          "data": {
            "text/plain": [
              "array([[0.5 , 0.5 ],\n",
              "       [0.01, 0.99],\n",
              "       [0.01, 0.99]])"
            ]
          },
          "metadata": {},
          "execution_count": 5
        }
      ]
    },
    {
      "cell_type": "code",
      "metadata": {
        "id": "pmYAFWOuZgxr"
      },
      "source": [],
      "execution_count": null,
      "outputs": []
    }
  ]
}