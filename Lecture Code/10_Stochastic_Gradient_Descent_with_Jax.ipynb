{
 "cells": [
  {
   "cell_type": "code",
   "execution_count": 1,
   "metadata": {
    "id": "-c_rDGeoeCHh"
   },
   "outputs": [],
   "source": [
    "import jax.numpy as jnp\n",
    "import numpy as np\n",
    "import matplotlib.pyplot as plt\n",
    "import jax"
   ]
  },
  {
   "cell_type": "code",
   "execution_count": 2,
   "metadata": {
    "colab": {
     "base_uri": "https://localhost:8080/",
     "height": 283
    },
    "id": "jWYdTXgtdEfK",
    "outputId": "2cc331b6-454c-47c7-cfd4-172e10375759"
   },
   "outputs": [
    {
     "data": {
      "text/plain": [
       "<matplotlib.collections.PathCollection at 0x7fab7875ac40>"
      ]
     },
     "execution_count": 2,
     "metadata": {},
     "output_type": "execute_result"
    },
    {
     "data": {
      "image/png": "[encoded data removed]",
      "text/plain": [
       "<Figure size 432x288 with 1 Axes>"
      ]
     },
     "metadata": {
      "needs_background": "light"
     },
     "output_type": "display_data"
    }
   ],
   "source": [
    "# Create some artificial, large data set\n",
    "N = 1000000\n",
    "x = np.random.uniform(size=N)\n",
    "y = 1 + 2 * x \n",
    "X = np.column_stack([np.ones_like(x), x])\n",
    "\n",
    "# Do a scatter plot with a subset of 100 points\n",
    "plt.scatter(x[:100], y[:100])"
   ]
  },
  {
   "cell_type": "code",
   "execution_count": 3,
   "metadata": {
    "id": "wG5FjhthdaYT"
   },
   "outputs": [],
   "source": [
    "def L(Θ, X, y):\n",
    "    prediction = X @ Θ\n",
    "    return jnp.mean((prediction - y)**2) #loss function 算距離\n",
    "\n",
    "@jax.jit\n",
    "def update(Θ, X, y):\n",
    "    grad = jax.grad(L)(Θ, X, y)\n",
    "    α = 0.1\n",
    "    return Θ - α * grad\n"
   ]
  },
  {
   "cell_type": "code",
   "execution_count": 4,
   "metadata": {
    "colab": {
     "base_uri": "https://localhost:8080/"
    },
    "id": "p4Zgyly3eASN",
    "outputId": "ecd9311b-1c9b-424a-beaa-649700eff055"
   },
   "outputs": [
    {
     "name": "stdout",
     "output_type": "stream",
     "text": [
      "[0.40004095 0.23335691]\n",
      "[1.1598142 1.7014204]\n",
      "[1.0424666 1.9206606]\n",
      "[1.0112844 1.9789177]\n",
      "[1.0029985 1.9943979]\n",
      "[1.0007968 1.9985114]\n",
      "[1.0002118 1.9996042]\n",
      "[1.0000565 1.9998946]\n",
      "[1.0000155 1.9999709]\n",
      "[1.0000044 1.9999918]\n"
     ]
    }
   ],
   "source": [
    "# Batch gradient descent\n",
    "Θ = jnp.zeros(2)\n",
    "\n",
    "for iteration in range(1000):\n",
    "    Θ = update(Θ, X, y)\n",
    "    if iteration % 100 == 0:\n",
    "        s = np.column_stack(Θ)\n",
    "        print(Θ)"
   ]
  },
  {
   "cell_type": "code",
   "execution_count": 5,
   "metadata": {
    "id": "wbicPq9yhCG_"
   },
   "outputs": [],
   "source": [
    "# Sampling minibatches\n",
    "batch_size = 100\n",
    "\n",
    "def sample():\n",
    "    i = np.random.choice(N, batch_size)\n",
    "    return X[i], y[i]"
   ]
  },
  {
   "cell_type": "code",
   "execution_count": 6,
   "metadata": {
    "colab": {
     "base_uri": "https://localhost:8080/"
    },
    "id": "tE8wAjHvfjQ7",
    "outputId": "ea18b25e-2fe9-4b69-ee0c-45d8f91c4135"
   },
   "outputs": [
    {
     "name": "stdout",
     "output_type": "stream",
     "text": [
      "[0.4199388 0.2633462]\n",
      "[1.1577177 1.7066842]\n",
      "[1.0426303 1.9220031]\n",
      "[1.0109085 1.9798249]\n",
      "[1.0029689 1.9945723]\n",
      "[1.0007931 1.9985445]\n",
      "[1.0002098 1.9996104]\n",
      "[1.0000563 1.9998957]\n",
      "[1.0000147 1.9999721]\n",
      "[1.000004  1.9999925]\n"
     ]
    }
   ],
   "source": [
    "# mini-batch (stochastic) gradient descent\n",
    "Θ = jnp.zeros(2)\n",
    "\n",
    "for iteration in range(1000):\n",
    "    Xi, yi = sample()\n",
    "    Θ = update(Θ, Xi, yi)\n",
    "    if iteration % 100 == 0:\n",
    "        print(Θ)\n"
   ]
  },
  {
   "cell_type": "code",
   "execution_count": 7,
   "metadata": {},
   "outputs": [],
   "source": [
    "i = np.random.choice(N, batch_size)"
   ]
  },
  {
   "cell_type": "code",
   "execution_count": 11,
   "metadata": {},
   "outputs": [
    {
     "name": "stdout",
     "output_type": "stream",
     "text": [
      "[[1.         0.18745272]\n",
      " [1.         0.59886581]\n",
      " [1.         0.64493768]\n",
      " [1.         0.9367676 ]\n",
      " [1.         0.54269861]\n",
      " [1.         0.62730186]\n",
      " [1.         0.34956003]\n",
      " [1.         0.852182  ]\n",
      " [1.         0.65433887]\n",
      " [1.         0.04177239]\n",
      " [1.         0.93148684]\n",
      " [1.         0.69487624]\n",
      " [1.         0.587727  ]\n",
      " [1.         0.75700471]\n",
      " [1.         0.05267567]\n",
      " [1.         0.09403406]\n",
      " [1.         0.86091624]\n",
      " [1.         0.19326908]\n",
      " [1.         0.1640206 ]\n",
      " [1.         0.78280443]\n",
      " [1.         0.94847567]\n",
      " [1.         0.66537002]\n",
      " [1.         0.40022977]\n",
      " [1.         0.01759477]\n",
      " [1.         0.06591897]\n",
      " [1.         0.63811317]\n",
      " [1.         0.9955119 ]\n",
      " [1.         0.59724846]\n",
      " [1.         0.52293529]\n",
      " [1.         0.31247587]\n",
      " [1.         0.14431403]\n",
      " [1.         0.24646654]\n",
      " [1.         0.32495746]\n",
      " [1.         0.96164694]\n",
      " [1.         0.62925694]\n",
      " [1.         0.2672386 ]\n",
      " [1.         0.65545053]\n",
      " [1.         0.94254482]\n",
      " [1.         0.01063643]\n",
      " [1.         0.66170147]\n",
      " [1.         0.75785897]\n",
      " [1.         0.36076481]\n",
      " [1.         0.34348271]\n",
      " [1.         0.63018619]\n",
      " [1.         0.95604502]\n",
      " [1.         0.74835225]\n",
      " [1.         0.33399115]\n",
      " [1.         0.89692149]\n",
      " [1.         0.59996273]\n",
      " [1.         0.3872318 ]\n",
      " [1.         0.80753768]\n",
      " [1.         0.41421585]\n",
      " [1.         0.45249185]\n",
      " [1.         0.56378993]\n",
      " [1.         0.56909312]\n",
      " [1.         0.56049712]\n",
      " [1.         0.09592602]\n",
      " [1.         0.65118708]\n",
      " [1.         0.67635456]\n",
      " [1.         0.1686467 ]\n",
      " [1.         0.7940355 ]\n",
      " [1.         0.64147679]\n",
      " [1.         0.84068361]\n",
      " [1.         0.0808911 ]\n",
      " [1.         0.92454196]\n",
      " [1.         0.46646548]\n",
      " [1.         0.28303376]\n",
      " [1.         0.33154841]\n",
      " [1.         0.8532711 ]\n",
      " [1.         0.67840499]\n",
      " [1.         0.14356976]\n",
      " [1.         0.28517358]\n",
      " [1.         0.45039875]\n",
      " [1.         0.9426046 ]\n",
      " [1.         0.38243796]\n",
      " [1.         0.03584456]\n",
      " [1.         0.69170279]\n",
      " [1.         0.90421398]\n",
      " [1.         0.7275483 ]\n",
      " [1.         0.99812111]\n",
      " [1.         0.763394  ]\n",
      " [1.         0.16685   ]\n",
      " [1.         0.58007004]\n",
      " [1.         0.53147192]\n",
      " [1.         0.47517181]\n",
      " [1.         0.06377993]\n",
      " [1.         0.25944628]\n",
      " [1.         0.52391346]\n",
      " [1.         0.75253249]\n",
      " [1.         0.01977499]\n",
      " [1.         0.15401659]\n",
      " [1.         0.3918549 ]\n",
      " [1.         0.61756221]\n",
      " [1.         0.3677769 ]\n",
      " [1.         0.00650755]\n",
      " [1.         0.1813089 ]\n",
      " [1.         0.87556675]\n",
      " [1.         0.74173968]\n",
      " [1.         0.39119068]\n",
      " [1.         0.89280721]] [[1.         0.45591336]\n",
      " [1.         0.70903757]\n",
      " [1.         0.92478203]\n",
      " [1.         0.92770605]\n",
      " [1.         0.69586751]\n",
      " [1.         0.16758581]\n",
      " [1.         0.81684975]\n",
      " [1.         0.2171791 ]\n",
      " [1.         0.4912812 ]\n",
      " [1.         0.61984834]\n",
      " [1.         0.14209034]\n",
      " [1.         0.80977487]\n",
      " [1.         0.50750005]\n",
      " [1.         0.3497713 ]\n",
      " [1.         0.92935433]\n",
      " [1.         0.10959155]\n",
      " [1.         0.10811186]\n",
      " [1.         0.48260928]\n",
      " [1.         0.91349517]\n",
      " [1.         0.56003439]\n",
      " [1.         0.78254252]\n",
      " [1.         0.1469977 ]\n",
      " [1.         0.62130056]\n",
      " [1.         0.45939703]\n",
      " [1.         0.59252799]\n",
      " [1.         0.94157127]\n",
      " [1.         0.49846412]\n",
      " [1.         0.49902359]\n",
      " [1.         0.56335193]\n",
      " [1.         0.60035568]\n",
      " [1.         0.27301868]\n",
      " [1.         0.69571925]\n",
      " [1.         0.4495079 ]\n",
      " [1.         0.25121593]\n",
      " [1.         0.12095897]\n",
      " [1.         0.16426292]\n",
      " [1.         0.86736728]\n",
      " [1.         0.48683811]\n",
      " [1.         0.04636518]\n",
      " [1.         0.18335735]\n",
      " [1.         0.82817007]\n",
      " [1.         0.41781102]\n",
      " [1.         0.76301756]\n",
      " [1.         0.7248948 ]\n",
      " [1.         0.47962136]\n",
      " [1.         0.80142719]\n",
      " [1.         0.09886442]\n",
      " [1.         0.6083506 ]\n",
      " [1.         0.63577092]\n",
      " [1.         0.2544404 ]\n",
      " [1.         0.75526902]\n",
      " [1.         0.17016553]\n",
      " [1.         0.21785314]\n",
      " [1.         0.93317605]\n",
      " [1.         0.05234618]\n",
      " [1.         0.48381653]\n",
      " [1.         0.3602998 ]\n",
      " [1.         0.49300263]\n",
      " [1.         0.2194748 ]\n",
      " [1.         0.56987983]\n",
      " [1.         0.97998257]\n",
      " [1.         0.77732524]\n",
      " [1.         0.87399555]\n",
      " [1.         0.23490412]\n",
      " [1.         0.59483076]\n",
      " [1.         0.64352645]\n",
      " [1.         0.91242583]\n",
      " [1.         0.89968718]\n",
      " [1.         0.90469979]\n",
      " [1.         0.1839529 ]\n",
      " [1.         0.62649585]\n",
      " [1.         0.57225929]\n",
      " [1.         0.51644736]\n",
      " [1.         0.32233926]\n",
      " [1.         0.13405547]\n",
      " [1.         0.07732815]\n",
      " [1.         0.03861919]\n",
      " [1.         0.38174187]\n",
      " [1.         0.96992667]\n",
      " [1.         0.61454327]\n",
      " [1.         0.49484091]\n",
      " [1.         0.07706102]\n",
      " [1.         0.08805123]\n",
      " [1.         0.80002878]\n",
      " [1.         0.34805066]\n",
      " [1.         0.55687209]\n",
      " [1.         0.32176093]\n",
      " [1.         0.63678026]\n",
      " [1.         0.89805367]\n",
      " [1.         0.84537131]\n",
      " [1.         0.5179181 ]\n",
      " [1.         0.10260935]\n",
      " [1.         0.08441367]\n",
      " [1.         0.78980695]\n",
      " [1.         0.00955473]\n",
      " [1.         0.97616458]\n",
      " [1.         0.51521994]\n",
      " [1.         0.03362406]\n",
      " [1.         0.52808692]\n",
      " [1.         0.62344329]] [1.91182673 2.41807513 2.84956407 2.85541211 2.39173502 1.33517162\n",
      " 2.6336995  1.4343582  1.98256241 2.23969668 1.28418067 2.61954974\n",
      " 2.01500009 1.6995426  2.85870866 1.21918309 1.21622373 1.96521856\n",
      " 2.82699035 2.12006879 2.56508504 1.29399539 2.24260112 1.91879405\n",
      " 2.18505597 2.88314254 1.99692824 1.99804719 2.12670386 2.20071136\n",
      " 1.54603735 2.3914385  1.8990158  1.50243185 1.24191794 1.32852584\n",
      " 2.73473456 1.97367621 1.09273036 1.3667147  2.65634014 1.83562203\n",
      " 2.52603512 2.44978959 1.95924272 2.60285437 1.19772883 2.21670121\n",
      " 2.27154184 1.5088808  2.51053804 1.34033105 1.43570627 2.86635211\n",
      " 1.10469237 1.96763306 1.7205996  1.98600527 1.43894961 2.13975965\n",
      " 2.95996513 2.55465048 2.7479911  1.46980823 2.18966153 2.28705289\n",
      " 2.82485165 2.79937436 2.80939958 1.3679058  2.2529917  2.14451857\n",
      " 2.03289472 1.64467853 1.26811093 1.1546563  1.07723838 1.76348374\n",
      " 2.93985334 2.22908653 1.98968183 1.15412204 1.17610245 2.60005755\n",
      " 1.69610132 2.11374418 1.64352185 2.27356052 2.79610733 2.69074262\n",
      " 2.0358362  1.2052187  1.16882735 2.57961391 1.01910946 2.95232916\n",
      " 2.03043987 1.06724812 2.05617384 2.24688658]\n"
     ]
    }
   ],
   "source": [
    "print(X[i], Xi, yi)"
   ]
  },
  {
   "cell_type": "code",
   "execution_count": null,
   "metadata": {},
   "outputs": [],
   "source": []
  },
  {
   "cell_type": "code",
   "execution_count": null,
   "metadata": {},
   "outputs": [],
   "source": []
  }
 ],
 "metadata": {
  "colab": {
   "collapsed_sections": [],
   "provenance": []
  },
  "kernelspec": {
   "display_name": "Python 3",
   "language": "python",
   "name": "python3"
  },
  "language_info": {
   "codemirror_mode": {
    "name": "ipython",
    "version": 3
   },
   "file_extension": ".py",
   "mimetype": "text/x-python",
   "name": "python",
   "nbconvert_exporter": "python",
   "pygments_lexer": "ipython3",
   "version": "3.8.3"
  },
  "toc": {
   "base_numbering": 1,
   "nav_menu": {},
   "number_sections": true,
   "sideBar": true,
   "skip_h1_title": false,
   "title_cell": "Table of Contents",
   "title_sidebar": "Contents",
   "toc_cell": false,
   "toc_position": {},
   "toc_section_display": true,
   "toc_window_display": false
  },
  "varInspector": {
   "cols": {
    "lenName": 16,
    "lenType": 16,
    "lenVar": 40
   },
   "kernels_config": {
    "python": {
     "delete_cmd_postfix": "",
     "delete_cmd_prefix": "del ",
     "library": "var_list.py",
     "varRefreshCmd": "print(var_dic_list())"
    },
    "r": {
     "delete_cmd_postfix": ") ",
     "delete_cmd_prefix": "rm(",
     "library": "var_list.r",
     "varRefreshCmd": "cat(var_dic_list()) "
    }
   },
   "types_to_exclude": [
    "module",
    "function",
    "builtin_function_or_method",
    "instance",
    "_Feature"
   ],
   "window_display": false
  }
 },
 "nbformat": 4,
 "nbformat_minor": 1
}
