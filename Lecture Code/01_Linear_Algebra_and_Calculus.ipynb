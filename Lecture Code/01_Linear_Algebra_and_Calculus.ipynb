{
  "nbformat": 4,
  "nbformat_minor": 0,
  "metadata": {
    "colab": {
      "provenance": [],
      "collapsed_sections": []
    },
    "kernelspec": {
      "name": "python3",
      "display_name": "Python 3"
    }
  },
  "cells": [
    {
      "cell_type": "code",
      "metadata": {
        "id": "lI1aw6rTZ8wu"
      },
      "source": [
        "import numpy as np"
      ],
      "execution_count": 1,
      "outputs": []
    },
    {
      "cell_type": "markdown",
      "metadata": {
        "id": "MRWFMOFAbgHV"
      },
      "source": [
        "# Basic Concepts\n",
        "\n",
        "Linear algebra provides a way of compactly representing and operating on sets of linear\n",
        "equations.\n",
        "        \n",
        "$$\n",
        "\\begin{array}{rcl}\n",
        "x_1 + 2 x_2 &=& 5 \\\\\n",
        "3 x_1 + 4 x_2 &=& 6\\\\\n",
        "\\end{array}\n",
        "$$\n",
        "\n",
        "\n",
        "This set of equations is compactly written as:\n",
        "$$\n",
        "    Ax = b\n",
        "$$\n",
        "\n",
        "where\n",
        "\n",
        "$$A = \\begin{bmatrix}\n",
        "    1 & 2\\\\\n",
        "    3 & 4\n",
        "\\end{bmatrix},\\ \\ \\ \\ b = \\begin{bmatrix}\n",
        "    5\\\\\n",
        "    6\n",
        "\\end{bmatrix}$$"
      ]
    },
    {
      "cell_type": "code",
      "metadata": {
        "id": "pxYotH9eZ-86"
      },
      "source": [
        "A = np.array([[1, 2], [3, 4]])\n",
        "b = np.array([5, 6])"
      ],
      "execution_count": 2,
      "outputs": []
    },
    {
      "cell_type": "markdown",
      "metadata": {
        "id": "8Ugcrx6Bevvb"
      },
      "source": [
        "* If a matrix A has $m$ rows and $n$ columns, we say that A is an $m\\times n$ matrix. If A has real valued entries, we say that $A \\in \\mathbb{R}^{mn}$\n",
        "\n",
        "* A vector is a $m\\times 1$ matrix.\n"
      ]
    },
    {
      "cell_type": "markdown",
      "metadata": {
        "id": "Gipio0ajg0wh"
      },
      "source": [
        "The $j$th column of A is denoted by $A_{:, j}$"
      ]
    },
    {
      "cell_type": "code",
      "metadata": {
        "id": "hfSzyQPkaXbl",
        "colab": {
          "base_uri": "https://localhost:8080/"
        },
        "outputId": "ed8e3954-4d1f-4125-e98c-3420df1ceed0"
      },
      "source": [
        "# 0th column of A\n",
        "print(A[:, 0])"
      ],
      "execution_count": null,
      "outputs": [
        {
          "output_type": "stream",
          "text": [
            "[1 3]\n"
          ],
          "name": "stdout"
        }
      ]
    },
    {
      "cell_type": "markdown",
      "metadata": {
        "id": "eoF-pF0VgxhD"
      },
      "source": [
        "The $i$th column of A is denoted by $A_{i, :}$"
      ]
    },
    {
      "cell_type": "code",
      "metadata": {
        "id": "niadyDdxaef9",
        "colab": {
          "base_uri": "https://localhost:8080/"
        },
        "outputId": "900e33ff-1807-46f9-c280-91466c3cfabe"
      },
      "source": [
        "# 0th row of A\n",
        "print(A[0, :])"
      ],
      "execution_count": null,
      "outputs": [
        {
          "output_type": "stream",
          "text": [
            "[1 2]\n"
          ],
          "name": "stdout"
        }
      ]
    },
    {
      "cell_type": "markdown",
      "metadata": {
        "id": "l3Cx7-e1hROi"
      },
      "source": [
        "# Matrix Multiplication"
      ]
    },
    {
      "cell_type": "markdown",
      "metadata": {
        "id": "UuzRYBWViWXD"
      },
      "source": [
        "## Vector-vector product\n",
        "\n",
        "The inner product of vectors $x, y\\in \\mathbb{R}^n$ is given by:\n",
        "$$\n",
        "    x^T y = \\sum_{i=1}^n x_i y_i\n",
        "$$\n",
        "\n",
        "The inner product is also called $dot\\ product$, and sometimes denoted by $\\langle x, y\\rangle$"
      ]
    },
    {
      "cell_type": "code",
      "metadata": {
        "id": "SgC23P_ojHUo",
        "colab": {
          "base_uri": "https://localhost:8080/"
        },
        "outputId": "e8666200-d568-426f-a752-3d107a3b31cb"
      },
      "source": [
        "x = np.array([1, 2])\n",
        "y = np.array([3, 4])\n",
        "z = x @ y\n",
        "print(z)"
      ],
      "execution_count": null,
      "outputs": [
        {
          "output_type": "stream",
          "text": [
            "11\n"
          ],
          "name": "stdout"
        }
      ]
    },
    {
      "cell_type": "markdown",
      "metadata": {
        "id": "RPpU4yYfjyVR"
      },
      "source": [
        "# Matrix-vector product\n",
        "Given an $m\\times n$ matrix $A$, and a vector $x\\in \\mathbb{R}^n$, their product is a vector $y = Ax \\in \\mathbb{R^n}$:\n",
        "$$\n",
        "    y_i = A_i^T x\n",
        "$$"
      ]
    },
    {
      "cell_type": "code",
      "metadata": {
        "id": "qzKZMGOEkqdP",
        "colab": {
          "base_uri": "https://localhost:8080/"
        },
        "outputId": "900640f4-c0cb-447f-cc51-daa321d5b98b"
      },
      "source": [
        "x = np.array([5, 6])\n",
        "y = A @ x\n",
        "print(y)"
      ],
      "execution_count": null,
      "outputs": [
        {
          "output_type": "stream",
          "text": [
            "[17 39]\n"
          ],
          "name": "stdout"
        }
      ]
    },
    {
      "cell_type": "markdown",
      "metadata": {
        "id": "UuSiRs3hiVLw"
      },
      "source": [
        "The product of the m×n matrix A and n×p matrix B is given an n×p matrix C, where\n",
        "$$\n",
        "C_{ij} = A_{i}^T B_{j}\n",
        "$$"
      ]
    },
    {
      "cell_type": "markdown",
      "metadata": {
        "id": "6rh_ibmjs3pF"
      },
      "source": [
        "Properties:\n",
        "\n",
        "\n",
        "*   Matrix multiplication is associative: $(AB)C = A(BC)$\n",
        "*   Matrix multiplication is distributive: $A(B + C) = AB  + AC$\n",
        "*   Matrix multiplication is, in general, not commutative: $AB\\neq BA$, in general.\n",
        "\n"
      ]
    },
    {
      "cell_type": "markdown",
      "metadata": {
        "id": "GY3mZmKOp6Wm"
      },
      "source": [
        "# Operations and properties"
      ]
    },
    {
      "cell_type": "markdown",
      "metadata": {
        "id": "CiNuEucyqAmb"
      },
      "source": [
        "## Identity matrix\n",
        "The identity matrix, denoted $I \\in \\mathbb{R}^{n\\times n}$\n",
        ", is a square matrix with ones on the diagonal and zeros everywhere else."
      ]
    },
    {
      "cell_type": "code",
      "metadata": {
        "id": "IDnEl5KwrjFU",
        "colab": {
          "base_uri": "https://localhost:8080/",
          "height": 107
        },
        "outputId": "53242c2a-b37d-46c7-cd3b-a0f9436e6499"
      },
      "source": [
        "q,  I = np.eye(5)\n",
        "print(I)"
      ],
      "execution_count": null,
      "outputs": [
        {
          "output_type": "stream",
          "text": [
            "[[1. 0. 0. 0. 0.]\n",
            " [0. 1. 0. 0. 0.]\n",
            " [0. 0. 1. 0. 0.]\n",
            " [0. 0. 0. 1. 0.]\n",
            " [0. 0. 0. 0. 1.]]\n"
          ],
          "name": "stdout"
        }
      ]
    },
    {
      "cell_type": "markdown",
      "metadata": {
        "id": "QE_vUG_orvdB"
      },
      "source": [
        "## Diagonal matrix\n",
        "A diagonal matrix is a matrix where all non-diagonal elements are 0. This is typically\n",
        "denoted D = diag($d_1, d_2, ..., d_n$)\n"
      ]
    },
    {
      "cell_type": "code",
      "metadata": {
        "id": "qkQKZvIJayLr",
        "colab": {
          "base_uri": "https://localhost:8080/",
          "height": 89
        },
        "outputId": "f8086035-c500-4db3-c08a-b31c1a4a4837"
      },
      "source": [
        "D = np.diag([1, 2, 3, 4])\n",
        "print(D)"
      ],
      "execution_count": null,
      "outputs": [
        {
          "output_type": "stream",
          "text": [
            "[[1 0 0 0]\n",
            " [0 2 0 0]\n",
            " [0 0 3 0]\n",
            " [0 0 0 4]]\n"
          ],
          "name": "stdout"
        }
      ]
    },
    {
      "cell_type": "markdown",
      "metadata": {
        "id": "SUuYUhtssOej"
      },
      "source": [
        "## Transpose matrix\n",
        "\n",
        "The transpose of a matrix results from \"flipping\" the rows and columns. Given an m×n matrix\n",
        "A, its transpose, written $A^T \\in \\mathbb{R}^{n\\times m}$, is the n × m matrix whose entries are given\n",
        "by:\n",
        "\n",
        "$$\n",
        "    (A^T)_{ij} = A_{ji}\n",
        "$$"
      ]
    },
    {
      "cell_type": "code",
      "metadata": {
        "id": "ppIc5Sr1s9ct",
        "colab": {
          "base_uri": "https://localhost:8080/",
          "height": 53
        },
        "outputId": "19a2824b-d844-459b-8f20-425056fa6eea"
      },
      "source": [
        "print(A.T)"
      ],
      "execution_count": null,
      "outputs": [
        {
          "output_type": "stream",
          "text": [
            "[[1 3]\n",
            " [2 4]]\n"
          ],
          "name": "stdout"
        }
      ]
    },
    {
      "cell_type": "markdown",
      "metadata": {
        "id": "-ucpMQX3tfQj"
      },
      "source": [
        "Properties:\n",
        "\n",
        "\n",
        "*   $(A^T)^T = A$\n",
        "*   $(A B)^T = B^T A^T$\n",
        "*   $(A + B)^T = A^T + B^T$\n",
        "\n"
      ]
    },
    {
      "cell_type": "markdown",
      "metadata": {
        "id": "gmb6aPvMt5_O"
      },
      "source": [
        "## Matrix trace\n",
        "The trace of an n×n square matrix  A, denoted tr(A) is the sum of diagonal elements in the matrix:\n",
        "$$\n",
        "tr(A) = \\sum_{i=1}^n A_{ii}\n",
        "$$"
      ]
    },
    {
      "cell_type": "code",
      "metadata": {
        "id": "-Z1d9q1Pt4zL",
        "colab": {
          "base_uri": "https://localhost:8080/",
          "height": 35
        },
        "outputId": "f5e1d354-8858-4c2d-9a8f-098d5843185b"
      },
      "source": [
        "print(np.trace(A))"
      ],
      "execution_count": null,
      "outputs": [
        {
          "output_type": "stream",
          "text": [
            "5\n"
          ],
          "name": "stdout"
        }
      ]
    },
    {
      "cell_type": "markdown",
      "metadata": {
        "id": "MuQrXXIlupmQ"
      },
      "source": [
        "Properties:\n",
        "\n",
        "\n",
        "*   $tr(A) = tr(A^T)$\n",
        "*   $tr(A + B) = tr(A) + tr(B)$\n",
        "*   For any scalar $t\\in \\mathbb{R}$, $tr(t A) = t tr(A) $\n",
        "*   For any matrices $A$, $B$ such that $AB$ is square, $tr(AB) = tr(BA)$\n",
        "*   For any matrices $A$, $B$ and $C$ such that $ABC$ is square, $tr(ABC) = tr(BCA) = tr(CAB)$\n"
      ]
    },
    {
      "cell_type": "markdown",
      "metadata": {
        "id": "nhVUJlJ8wJfj"
      },
      "source": [
        "## Norms of vectors\n",
        "\n",
        "### $l_1$ norm\n",
        "$$\n",
        "    ||x||_{1} = \\sum_{i=1}^n |x_i|\n",
        "$$\n",
        "\n"
      ]
    },
    {
      "cell_type": "code",
      "metadata": {
        "id": "gmKJERyQwsgb",
        "colab": {
          "base_uri": "https://localhost:8080/",
          "height": 35
        },
        "outputId": "2bb68d00-a322-4bc8-8eef-4882010edcfa"
      },
      "source": [
        "x = np.array([1, 2, 3, 4, 5])\n",
        "np.linalg.norm(x, 1)"
      ],
      "execution_count": null,
      "outputs": [
        {
          "output_type": "execute_result",
          "data": {
            "text/plain": [
              "15.0"
            ]
          },
          "metadata": {
            "tags": []
          },
          "execution_count": 30
        }
      ]
    },
    {
      "cell_type": "markdown",
      "metadata": {
        "id": "4GazYuEUw6Fc"
      },
      "source": [
        "### $l_2$ norm\n",
        "$$\n",
        "    ||x||_{2} = \\sqrt{\\sum_{i=1}^n x_i^2}\n",
        "$$\n",
        "\n"
      ]
    },
    {
      "cell_type": "code",
      "metadata": {
        "id": "o5c_iRJLs9e7",
        "colab": {
          "base_uri": "https://localhost:8080/",
          "height": 35
        },
        "outputId": "bddc0a85-3d20-4ebe-9283-273db2ea446d"
      },
      "source": [
        "np.linalg.norm(x, 2)"
      ],
      "execution_count": null,
      "outputs": [
        {
          "output_type": "execute_result",
          "data": {
            "text/plain": [
              "7.416198487095663"
            ]
          },
          "metadata": {
            "tags": []
          },
          "execution_count": 31
        }
      ]
    },
    {
      "cell_type": "markdown",
      "metadata": {
        "id": "L99Oh7_oxVCb"
      },
      "source": [
        "### $l_{\\infty}$ norm\n",
        "$$\n",
        "    ||x||_{\\infty} = \\max_i{|x_i|}\n",
        "$$\n",
        "\n"
      ]
    },
    {
      "cell_type": "markdown",
      "metadata": {
        "id": "XrZJGnL0yEeF"
      },
      "source": [
        "## Matrix inverse\n",
        "The inverse of an $n \\times n$ square matrix $A$ is denoted $A^{−1}$\n",
        ", and is the unique matrix such that:\n",
        "    $$\n",
        "        A^{-1} A = I = A A^{-1}\n",
        "    $$"
      ]
    },
    {
      "cell_type": "code",
      "metadata": {
        "id": "Olb5MVDDs9hn",
        "colab": {
          "base_uri": "https://localhost:8080/",
          "height": 53
        },
        "outputId": "07ebcfd2-ffdc-4bd7-bae4-7b700c8bbefc"
      },
      "source": [
        "A_inverse = np.linalg.inv(A)\n",
        "print(A_inverse)"
      ],
      "execution_count": null,
      "outputs": [
        {
          "output_type": "stream",
          "text": [
            "[[-2.   1. ]\n",
            " [ 1.5 -0.5]]\n"
          ],
          "name": "stdout"
        }
      ]
    },
    {
      "cell_type": "code",
      "metadata": {
        "id": "hQ9kFXirs9j-",
        "colab": {
          "base_uri": "https://localhost:8080/",
          "height": 53
        },
        "outputId": "d87b5c98-6a65-45d2-8494-77e9dd6aac28"
      },
      "source": [
        "print(A @ A_inverse)"
      ],
      "execution_count": null,
      "outputs": [
        {
          "output_type": "stream",
          "text": [
            "[[1.0000000e+00 0.0000000e+00]\n",
            " [8.8817842e-16 1.0000000e+00]]\n"
          ],
          "name": "stdout"
        }
      ]
    },
    {
      "cell_type": "markdown",
      "metadata": {
        "id": "f8HJN1-zzGpU"
      },
      "source": [
        "## Quadratic Forms\n",
        "Given a square matrix $A\\in \\mathbb{R}^{n\\times n}$ and a vector $x\\in \\mathbb{R}^n$, the scalar value \n",
        "\n",
        "$$x^T A x$$\n",
        "\n",
        "is called a quadratic form"
      ]
    },
    {
      "cell_type": "code",
      "metadata": {
        "id": "xfnPqbGOs9mp",
        "colab": {
          "base_uri": "https://localhost:8080/",
          "height": 35
        },
        "outputId": "71f46023-f935-42e0-9094-328253a31ff3"
      },
      "source": [
        "A = np.array([[1, 2], [3, 4]])\n",
        "x = np.array([5, 6])\n",
        "y = x @ A @ x\n",
        "print(y)"
      ],
      "execution_count": null,
      "outputs": [
        {
          "output_type": "stream",
          "text": [
            "319\n"
          ],
          "name": "stdout"
        }
      ]
    },
    {
      "cell_type": "markdown",
      "metadata": {
        "id": "T7PfBDBd7POZ"
      },
      "source": [
        "# Gradient\n",
        "Suppose that $f: \\mathbb{R}^{m\\times n}$ is a function that takes as input a matrix A of size m × n and\n",
        "returns a real value. Then the gradient of f (with respect to A ∈ $\\mathbb{R}$\n",
        "m×n\n",
        ") is the matrix of\n",
        "partial derivatives, defined as:\n",
        "\n",
        "$$\n",
        "    \\nabla_A f = \\begin{bmatrix}\n",
        "    \\frac{\\partial f}{\\partial A_{11}} & \\frac{\\partial f}{\\partial A_{12}}&...&\\frac{\\partial f}{\\partial A_{1n}}\\\\\n",
        "    \\frac{\\partial f}{\\partial A_{21}} & \\frac{\\partial f}{\\partial A_{22}}&...&\\frac{\\partial f}{\\partial A_{2n}}\\\\\n",
        "    ... & ...&...&...\\\\\n",
        "    \\frac{\\partial f}{\\partial A_{m1}} & \\frac{\\partial f}{\\partial A_{m2}}&...&\\frac{\\partial f}{\\partial A_{mn}}\\\\\n",
        "\\end{bmatrix}\n",
        "$$\n",
        "\n",
        "\n",
        "\n",
        "Note that the size of $\\nabla_A f$ is always the same as the size of $A$. So if, in particular, A is\n",
        "just a vector $x \\in \\mathbb{R}^n$\n",
        "\n",
        "$$\n",
        "    \\nabla_x f(x) = \\begin{bmatrix}\n",
        "            \\frac{\\partial f}{\\partial x_1}\\\\\n",
        "            \\frac{\\partial f}{\\partial x_2}\\\\\n",
        "            \\vdots\\\\\n",
        "            \\frac{\\partial f}{\\partial x_n}\\\\\n",
        "        \\end{bmatrix}\n",
        "    $$"
      ]
    },
    {
      "cell_type": "markdown",
      "metadata": {
        "id": "OqiuegQo90zd"
      },
      "source": [
        "Properties:\n",
        "\n",
        "\n",
        "1.   $\\nabla_x (f(x) + g(x)) = \\nabla_x f(x) + \\nabla_x g(x)$\n",
        "2.   $\\nabla_x (\\alpha f(x)) = \\alpha \\nabla_x f(x)$\n",
        "3.   $\\nabla_x (b^T x) = b$\n",
        "4.   $\\nabla_x (x^T A x) = (A + A^T) x$\n",
        "\n",
        "\n",
        "\n"
      ]
    },
    {
      "cell_type": "code",
      "metadata": {
        "id": "omE_zfTcs9os",
        "colab": {
          "base_uri": "https://localhost:8080/",
          "height": 35
        },
        "outputId": "2b362eb0-25e4-4273-c498-4baba62c23bb"
      },
      "source": [
        "# Let's check property 4 with finite-differences\n",
        "A = np.array([[1, 2], [3, 4]])\n",
        "x = np.array([5, 6])\n",
        "\n",
        "def f(x):\n",
        "    return x @ A @ x\n",
        "\n",
        "eps = 1e-5\n",
        "df_dx0 = (f(x + [eps, 0]) - f(x)) / eps\n",
        "df_dx1 = (f(x + [0, eps]) - f(x)) / eps\n",
        "fd_gradient = [df_dx0, df_dx1]\n",
        "print(fd_gradient)\n"
      ],
      "execution_count": null,
      "outputs": [
        {
          "output_type": "stream",
          "text": [
            "[40.0000099944009, 73.00003999262117]\n"
          ],
          "name": "stdout"
        }
      ]
    },
    {
      "cell_type": "code",
      "metadata": {
        "id": "RFlTbUc8ABuk",
        "colab": {
          "base_uri": "https://localhost:8080/",
          "height": 35
        },
        "outputId": "3a9d7091-8f40-4a94-f402-2d5b27e87b59"
      },
      "source": [
        "analytical_gradient = (A + A.T) @ x\n",
        "print(analytical_gradient)"
      ],
      "execution_count": null,
      "outputs": [
        {
          "output_type": "stream",
          "text": [
            "[40 73]\n"
          ],
          "name": "stdout"
        }
      ]
    },
    {
      "cell_type": "markdown",
      "metadata": {
        "id": "Ois_W-yebRpN"
      },
      "source": [
        "Reference: Andrew Ng's CS 229 lecture notes:\n",
        "\n",
        "http://cs229.stanford.edu/summer2019/cs229-linalg.pdf"
      ]
    }
  ]
}