{
 "cells": [
  {
   "cell_type": "code",
   "execution_count": 2,
   "metadata": {
    "ExecuteTime": {
     "end_time": "2022-11-09T03:04:48.126194Z",
     "start_time": "2022-11-09T03:04:47.807461Z"
    },
    "id": "RuxkSSCEPa00"
   },
   "outputs": [],
   "source": [
    "import numpy as np\n",
    "import matplotlib.pyplot as plt"
   ]
  },
  {
   "cell_type": "code",
   "execution_count": 3,
   "metadata": {
    "ExecuteTime": {
     "end_time": "2022-11-09T03:04:48.305198Z",
     "start_time": "2022-11-09T03:04:48.225250Z"
    },
    "colab": {
     "base_uri": "https://localhost:8080/",
     "height": 282
    },
    "id": "hy7WuZmyPeT8",
    "outputId": "d4f58c42-da67-4c1d-d9ef-7a696b2dd7d5"
   },
   "outputs": [
    {
     "data": {
      "text/plain": [
       "[<matplotlib.lines.Line2D at 0x7fb688499880>]"
      ]
     },
     "execution_count": 3,
     "metadata": {},
     "output_type": "execute_result"
    }
   ],
   "source": [
    "#股價真實資料\n",
    "S = np.array([-0.8964536, -0.8937423, -0.8160014, -0.8135896, -0.7777178,\n",
    "              -0.7306509, -0.7196269, -0.56077266, -0.5225189, -0.39259458,\n",
    "              -0.37080932, -0.30425978, -0.30012155, -0.26793814, -0.23755741,\n",
    "              -0.20966339, -0.16642046, -0.15392852, -0.14616823, -0.09809828,\n",
    "              -0.01211524,  0.02200961,  0.0394454,  0.04127908,  0.14237666,\n",
    "              0.1488111,  0.20493412,  0.25775242,  0.2756691,  0.32817745,\n",
    "              0.3374791,  0.34276915,  0.34953642,  0.41928077,  0.4337349,\n",
    "              0.43921685,  0.4798982,  0.5894067,  0.5936425,  0.6099713,\n",
    "              0.64054966,  0.6516247,  0.7327845,  0.8028183,  0.803761,\n",
    "              0.82667255,  0.8778291,  0.879761,  0.8880968,  0.92238617])\n",
    "\n",
    "payoff = np.array([-8.30690000e-01, -8.41413975e-01, -9.98246000e-01, -9.98990000e-01,\n",
    "                   -9.87290919e-01, -9.20819000e-01, -8.99229109e-01, -5.04697680e-01,\n",
    "                   -4.15037155e-01, -1.80537000e-01, -1.52362585e-01, -8.43991116e-02,\n",
    "                   -8.10096189e-02, -5.76740000e-02, -4.02077623e-02, -2.76460908e-02,\n",
    "                   -1.38269800e-02, -1.09413229e-02, -9.36858000e-03, -2.83207800e-03,\n",
    "                   -5.33478988e-06,  3.19850000e-05,  1.84123986e-04,  2.11016000e-04,\n",
    "                   8.65829000e-03,  9.88599000e-03,  2.58175954e-02,  5.13450000e-02,\n",
    "                   6.28057718e-02,  1.05835974e-01,  1.15053318e-01,  1.20522849e-01,\n",
    "                   1.27764000e-01,  2.19326511e-01,  2.42352000e-01,  2.51461000e-01,\n",
    "                   3.25523138e-01,  5.76370418e-01,  5.87219000e-01,  6.29451275e-01,\n",
    "                   7.09268000e-01,  7.37970000e-01,  9.24770000e-01,  9.99828756e-01,\n",
    "                   9.99915123e-01,  9.92319000e-01,  8.96705747e-01,  8.90681505e-01,\n",
    "                   8.62517000e-01,  7.08453476e-01])\n",
    "\n",
    "plt.plot(S, payoff)"
   ]
  },
  {
   "cell_type": "code",
   "execution_count": 35,
   "metadata": {
    "id": "q2FUFT_9PzRd"
   },
   "outputs": [],
   "source": [
    "#這是我手上有的Call（他們的Strike Price K），要去兜投資組合 Θ！\n",
    "K = np.array([1.,  0.51757294,  0.42738646,  0.9251348,  0.27650452,\n",
    "              0.02718145,  0.74865663,  0.8532894,  0.13019468, -0.1112451,\n",
    "              -0.12297283, -0.12248817, -0.12297235, -0.29180118, -0.4557022,\n",
    "              -0.7644462, -0.99981326, -0.8303943, -0.8266366, -1.243082])\n",
    "\n",
    "##其實這邊我們作弊，因為我們永遠不知道要用哪些 Call（K's, features....）去建model！\n",
    "##其實這邊我們作弊，因為我們永遠不知道要用哪些 Call（K's, features....）去建model！\n",
    "##其實這邊我們作弊，因為我們永遠不知道要用哪些 Call（K's, features....）去建model！\n",
    "##其實這邊我們作弊，因為我們永遠不知道要用哪些 Call（K's, features....）去建model！\n",
    "##其實這邊我們作弊，因為我們永遠不知道要用哪些 Call（K's, features....）去建model！\n",
    "##其實這邊我們作弊，因為我們永遠不知道要用哪些 Call（K's, features....）去建model！\n",
    "##其實這邊我們作弊，因為我們永遠不知道要用哪些 Call（K's, features....）去建model！\n",
    "##其實這邊我們作弊，因為我們永遠不知道要用哪些 Call（K's, features....）去建model！\n",
    "##其實這邊我們作弊，因為我們永遠不知道要用哪些 Call（K's, features....）去建model！\n",
    "##其實這邊我們作弊，因為我們永遠不知道要用哪些 Call（K's, features....）去建model！"
   ]
  },
  {
   "cell_type": "code",
   "execution_count": 47,
   "metadata": {},
   "outputs": [],
   "source": [
    "#兜投資組合 Θ！\n",
    "def call(S, K):\n",
    "    return np.maximum(S-K, 0)\n",
    "\n",
    "y = payoff\n",
    "X = np.column_stack([np.maximum(0, S - K[i]) for i in range(len(K))])\n",
    "\n",
    "Θ = np.linalg.lstsq(X,y, rcond=None)[0]"
   ]
  },
  {
   "cell_type": "code",
   "execution_count": null,
   "metadata": {},
   "outputs": [],
   "source": [
    "#numpy.linalg.solve需要A矩陣為方陣，求解的結果為方程準確解。\n",
    "#numpy.linalg.lstsq允許A矩陣為超定的，當方程數大於未知數時求解結果為最小二乘近似解。\n",
    "#當A矩陣為方陣時，計算結果沒有差別，可以認為lstsq是solve的超集。"
   ]
  },
  {
   "cell_type": "code",
   "execution_count": 46,
   "metadata": {},
   "outputs": [],
   "source": [
    "#求Replicating出來的Payoff\n",
    "predicted_payoff = X@Θ"
   ]
  },
  {
   "cell_type": "code",
   "execution_count": 45,
   "metadata": {
    "colab": {
     "base_uri": "https://localhost:8080/",
     "height": 282
    },
    "id": "Ov492I3xbUfk",
    "outputId": "46ec21be-1690-4ef1-a557-4e3ac0d380ec"
   },
   "outputs": [
    {
     "data": {
      "text/plain": [
       "[<matplotlib.lines.Line2D at 0x7f8e28d3ac70>]"
      ]
     },
     "execution_count": 45,
     "metadata": {},
     "output_type": "execute_result"
    },
    {
     "data": {
      "image/png": "[encoded data removed]",
      "text/plain": [
       "<Figure size 432x288 with 1 Axes>"
      ]
     },
     "metadata": {
      "needs_background": "light"
     },
     "output_type": "display_data"
    }
   ],
   "source": [
    "#比較真的Payoff和兜出來的Payoff\n",
    "plt.plot(S, payoff)\n",
    "plt.plot(S, predicted_payoff)"
   ]
  },
  {
   "cell_type": "code",
   "execution_count": 31,
   "metadata": {
    "colab": {
     "base_uri": "https://localhost:8080/",
     "height": 282
    },
    "id": "K3fF8-30QFBz",
    "outputId": "6f2064b4-4a09-402f-ce34-9b2bdbc04b34"
   },
   "outputs": [
    {
     "data": {
      "text/plain": [
       "[<matplotlib.lines.Line2D at 0x7f8e492dbe20>]"
      ]
     },
     "execution_count": 31,
     "metadata": {},
     "output_type": "execute_result"
    },
    {
     "data": {
      "image/png": "[encoded data removed]",
      "text/plain": [
       "<Figure size 432x288 with 1 Axes>"
      ]
     },
     "metadata": {
      "needs_background": "light"
     },
     "output_type": "display_data"
    }
   ],
   "source": [
    "# Plot the payoff of the fist call option\n",
    "payoff_call = np.maximum(S - K[0], 0)\n",
    "plt.plot(S, payoff_call)"
   ]
  },
  {
   "cell_type": "code",
   "execution_count": 15,
   "metadata": {
    "id": "C1gTV_azbh3E"
   },
   "outputs": [
    {
     "data": {
      "text/plain": [
       "array([ 0.00000000e+00,  5.30668161e-01,  8.03657676e-01, -3.17994520e-11,\n",
       "        8.19719219e-01,  1.68684285e-02, -2.14585398e+00, -4.68580003e+00,\n",
       "        2.88571979e-01,  6.05234174e-01, -3.48610837e-01, -3.09192252e-01,\n",
       "       -3.48571797e-01, -7.01343847e-01, -1.30077968e+00,  2.48491261e+00,\n",
       "       -2.22110531e+00,  2.94123839e+01, -2.55176914e+01, -1.73418367e+00])"
      ]
     },
     "execution_count": 15,
     "metadata": {},
     "output_type": "execute_result"
    }
   ],
   "source": [
    "Θ"
   ]
  },
  {
   "cell_type": "code",
   "execution_count": 16,
   "metadata": {},
   "outputs": [
    {
     "data": {
      "text/plain": [
       "20"
      ]
     },
     "execution_count": 16,
     "metadata": {},
     "output_type": "execute_result"
    }
   ],
   "source": [
    "len(Θ)"
   ]
  },
  {
   "cell_type": "code",
   "execution_count": 48,
   "metadata": {},
   "outputs": [
    {
     "name": "stdout",
     "output_type": "stream",
     "text": [
      "[0.         0.         0.         0.         0.         0.\n",
      " 0.         0.         0.         0.         0.         0.\n",
      " 0.         0.         0.         0.         0.         0.\n",
      " 0.         0.         0.         0.02200961 0.0394454  0.04127908\n",
      " 0.14237666 0.1488111  0.20493412 0.25775242 0.2756691  0.32817745\n",
      " 0.3374791  0.34276915 0.34953642 0.41928077 0.4337349  0.43921685\n",
      " 0.4798982  0.5894067  0.5936425  0.6099713  0.64054966 0.6516247\n",
      " 0.7327845  0.8028183  0.803761   0.82667255 0.8778291  0.879761\n",
      " 0.8880968  0.92238617]\n"
     ]
    }
   ],
   "source": [
    "def relu(x):\n",
    "    return np.maximum(x, 0)\n",
    "print(relu(S))"
   ]
  },
  {
   "cell_type": "code",
   "execution_count": null,
   "metadata": {},
   "outputs": [],
   "source": []
  }
 ],
 "metadata": {
  "colab": {
   "collapsed_sections": [],
   "provenance": []
  },
  "kernelspec": {
   "display_name": "Python 3",
   "language": "python",
   "name": "python3"
  },
  "language_info": {
   "codemirror_mode": {
    "name": "ipython",
    "version": 3
   },
   "file_extension": ".py",
   "mimetype": "text/x-python",
   "name": "python",
   "nbconvert_exporter": "python",
   "pygments_lexer": "ipython3",
   "version": "3.8.3"
  },
  "latex_envs": {
   "LaTeX_envs_menu_present": true,
   "autoclose": false,
   "autocomplete": true,
   "bibliofile": "biblio.bib",
   "cite_by": "apalike",
   "current_citInitial": 1,
   "eqLabelWithNumbers": true,
   "eqNumInitial": 1,
   "hotkeys": {
    "equation": "Ctrl-E",
    "itemize": "Ctrl-I"
   },
   "labels_anchors": false,
   "latex_user_defs": false,
   "report_style_numbering": false,
   "user_envs_cfg": false
  },
  "toc": {
   "base_numbering": 1,
   "nav_menu": {},
   "number_sections": true,
   "sideBar": true,
   "skip_h1_title": false,
   "title_cell": "Table of Contents",
   "title_sidebar": "Contents",
   "toc_cell": false,
   "toc_position": {},
   "toc_section_display": true,
   "toc_window_display": false
  },
  "varInspector": {
   "cols": {
    "lenName": 16,
    "lenType": 16,
    "lenVar": 40
   },
   "kernels_config": {
    "python": {
     "delete_cmd_postfix": "",
     "delete_cmd_prefix": "del ",
     "library": "var_list.py",
     "varRefreshCmd": "print(var_dic_list())"
    },
    "r": {
     "delete_cmd_postfix": ") ",
     "delete_cmd_prefix": "rm(",
     "library": "var_list.r",
     "varRefreshCmd": "cat(var_dic_list()) "
    }
   },
   "types_to_exclude": [
    "module",
    "function",
    "builtin_function_or_method",
    "instance",
    "_Feature"
   ],
   "window_display": false
  }
 },
 "nbformat": 4,
 "nbformat_minor": 1
}
