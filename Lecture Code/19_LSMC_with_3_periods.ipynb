{
 "cells": [
  {
   "cell_type": "code",
   "execution_count": 9,
   "metadata": {
    "colab": {
     "base_uri": "https://localhost:8080/"
    },
    "id": "M3gFOJ7a3uIf",
    "outputId": "4db7b3e0-45ae-4199-a896-2298e1ddbe13"
   },
   "outputs": [
    {
     "name": "stdout",
     "output_type": "stream",
     "text": [
      "[-1.06998766  2.98341063 -1.81357618]\n"
     ]
    }
   ],
   "source": [
    "import numpy as np\n",
    "from numpy import exp as ℯ\n",
    "\n",
    "discount = ℯ(-0.06)\n",
    "S\n",
    "\n",
    "# Regression at time 2\n",
    "y = discount * np.array([0, 0.07, 0.18, 0.20, 0.09])\n",
    "x = np.array([1.08, 1.07, .97, .77, .84])\n",
    "X = np.column_stack([x**i for i in range(0, 3)])\n",
    "Θ2 = np.linalg.lstsq(X, y, rcond=None)[0]\n",
    "print(Θ2)"
   ]
  },
  {
   "cell_type": "code",
   "execution_count": 8,
   "metadata": {},
   "outputs": [
    {
     "data": {
      "text/plain": [
       "array([[1.    , 1.08  , 1.1664],\n",
       "       [1.    , 1.07  , 1.1449],\n",
       "       [1.    , 0.97  , 0.9409],\n",
       "       [1.    , 0.77  , 0.5929],\n",
       "       [1.    , 0.84  , 0.7056]])"
      ]
     },
     "execution_count": 8,
     "metadata": {},
     "output_type": "execute_result"
    }
   ],
   "source": [
    "X"
   ]
  },
  {
   "cell_type": "code",
   "execution_count": 2,
   "metadata": {
    "colab": {
     "base_uri": "https://localhost:8080/"
    },
    "id": "KK-DAzvdZnMn",
    "outputId": "624af3e4-f4e0-450b-b2ba-bf6e03d242df"
   },
   "outputs": [],
   "source": [
    "def P2(S2):\n",
    "    X = np.column_stack([S2**i for i in range(0, 3)])\n",
    "    return X @ Θ2\n",
    "\n",
    "\n",
    "S2 = np.array([1.08, 1.07, .97, .77, .84])"
   ]
  },
  {
   "cell_type": "code",
   "execution_count": 3,
   "metadata": {
    "colab": {
     "base_uri": "https://localhost:8080/"
    },
    "id": "dlbFsBlG8P0J",
    "outputId": "9e28077d-bb90-4773-c7a0-38334041af99"
   },
   "outputs": [
    {
     "name": "stdout",
     "output_type": "stream",
     "text": [
      "[0.01348511 0.10874928 0.28606468 0.11700927 0.15276213]\n"
     ]
    }
   ],
   "source": [
    "# For t = 1\n",
    "r = 0.06\n",
    "S1 = np.array([1.09, 0.93, .76, .92, .88])\n",
    "X = np.column_stack([S1**i for i in range(0, 3)])\n",
    "\n",
    "y = np.array([0., 0.13, .33, .26, 0.]) * np.exp(-r)\n",
    "Θ1 = np.linalg.lstsq(X, y, rcond=None)[0]\n",
    "\n",
    "\n",
    "def P1(S1):\n",
    "    X = np.column_stack([np.ones_like(S1), S1, S1**2])\n",
    "    return X @  Θ1\n",
    "\n",
    "\n",
    "print(P1(S1))"
   ]
  },
  {
   "cell_type": "code",
   "execution_count": 4,
   "metadata": {
    "id": "sPWUJtalIsQe"
   },
   "outputs": [],
   "source": [
    "d = np.exp(-r)\n",
    "DFC = np.array([0, 0, 0.07 * d, .17 * d**3, 0., .34 * d, 0.18 * d, 0.22 * d])"
   ]
  },
  {
   "cell_type": "code",
   "execution_count": 5,
   "metadata": {
    "colab": {
     "base_uri": "https://localhost:8080/"
    },
    "id": "lF4ebKL2Isjh",
    "outputId": "ec3256d7-dc35-4224-a1a7-3c028c7f3dae"
   },
   "outputs": [
    {
     "name": "stdout",
     "output_type": "stream",
     "text": [
      "0.11310315101789473\n"
     ]
    }
   ],
   "source": [
    "P0 = np.mean(DFC)\n",
    "print(P0)"
   ]
  },
  {
   "cell_type": "code",
   "execution_count": null,
   "metadata": {
    "id": "rb64jHmIw0aJ"
   },
   "outputs": [],
   "source": []
  }
 ],
 "metadata": {
  "colab": {
   "collapsed_sections": [],
   "provenance": []
  },
  "kernelspec": {
   "display_name": "Python 3",
   "language": "python",
   "name": "python3"
  },
  "language_info": {
   "codemirror_mode": {
    "name": "ipython",
    "version": 3
   },
   "file_extension": ".py",
   "mimetype": "text/x-python",
   "name": "python",
   "nbconvert_exporter": "python",
   "pygments_lexer": "ipython3",
   "version": "3.8.3"
  },
  "toc": {
   "base_numbering": 1,
   "nav_menu": {},
   "number_sections": true,
   "sideBar": true,
   "skip_h1_title": false,
   "title_cell": "Table of Contents",
   "title_sidebar": "Contents",
   "toc_cell": false,
   "toc_position": {},
   "toc_section_display": true,
   "toc_window_display": false
  },
  "varInspector": {
   "cols": {
    "lenName": 16,
    "lenType": 16,
    "lenVar": 40
   },
   "kernels_config": {
    "python": {
     "delete_cmd_postfix": "",
     "delete_cmd_prefix": "del ",
     "library": "var_list.py",
     "varRefreshCmd": "print(var_dic_list())"
    },
    "r": {
     "delete_cmd_postfix": ") ",
     "delete_cmd_prefix": "rm(",
     "library": "var_list.r",
     "varRefreshCmd": "cat(var_dic_list()) "
    }
   },
   "types_to_exclude": [
    "module",
    "function",
    "builtin_function_or_method",
    "instance",
    "_Feature"
   ],
   "window_display": false
  }
 },
 "nbformat": 4,
 "nbformat_minor": 1
}
