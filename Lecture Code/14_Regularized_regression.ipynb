{
 "cells": [
  {
   "cell_type": "code",
   "execution_count": null,
   "metadata": {
    "colab": {
     "base_uri": "https://localhost:8080/",
     "height": 283
    },
    "id": "A68z8_f5rsMs",
    "outputId": "a9f22aa2-adbb-46b8-822b-8ae9ead198f8"
   },
   "outputs": [
    {
     "data": {
      "text/plain": [
       "<matplotlib.collections.PathCollection at 0x7f08b2fcdd50>"
      ]
     },
     "execution_count": 1,
     "metadata": {},
     "output_type": "execute_result"
    },
    {
     "data": {
      "image/png": "[encoded data removed]",
      "text/plain": [
       "<Figure size 432x288 with 1 Axes>"
      ]
     },
     "metadata": {
      "needs_background": "light"
     },
     "output_type": "display_data"
    }
   ],
   "source": [
    "import numpy as np\n",
    "import matplotlib.pyplot as plt\n",
    "\n",
    "x = np.array([0.0202184,  0.07103606, 0.0871293,  0.3834415,  0.4236548,  0.4375872,\n",
    "                 0.5288949,  0.5448832,  0.5488135,  0.56804454, 0.60276335, 0.6458941,\n",
    "                 0.7151894,  0.77815676, 0.79172504, 0.83261985, 0.87001216, 0.891773,\n",
    "                 0.92559665, 0.96366274])\n",
    "\n",
    "y = np.array([1.0225829, 1.7161194, 1.908968,  3.8084052, 3.8285332, 4.5913467, 4.8528633,\n",
    "                 4.7935243, 5.2809696, 5.373628,  5.2736287, 5.503769,  5.553383,  5.6843452,\n",
    "                 5.792259,  5.46376,   5.9467854, 5.7930017, 6.2661924, 6.447349])\n",
    "\n",
    "plt.scatter(x, y)\n",
    "\n"
   ]
  },
  {
   "cell_type": "code",
   "execution_count": null,
   "metadata": {
    "id": "rkIhlIs4ryYc"
   },
   "outputs": [],
   "source": [
    "ones = np.ones_like(x)\n"
   ]
  },
  {
   "cell_type": "code",
   "execution_count": null,
   "metadata": {
    "id": "2GOpXv2469nZ"
   },
   "outputs": [],
   "source": [
    "# X = np.column_stack([ones, x])\n",
    "# degree\n",
    "def solve(λ):\n",
    "  X = np.column_stack([x**k for k in range(20)])\n",
    "  X_train = X[:16]\n",
    "  y_train = y[:16]\n",
    "\n",
    "  X_eval = X[16:]\n",
    "  y_eval = y[16:]\n",
    "\n",
    "  # Training\n",
    "  I = np.eye(X.shape[1])\n",
    "  Θ = np.linalg.solve(X_train.T @ X_train + λ * I, X_train.T @ y_train)\n",
    "\n",
    "  # Evalution\n",
    "  prediction = X_eval @ Θ\n",
    "  e = prediction - y_eval\n",
    "\n",
    "  MSE_eval = (e.T @ e) / len(X_train)\n",
    "  return MSE_eval"
   ]
  },
  {
   "cell_type": "code",
   "execution_count": null,
   "metadata": {
    "colab": {
     "base_uri": "https://localhost:8080/"
    },
    "id": "mz5BUaQY7TUL",
    "outputId": "ad49f0ef-2050-423d-d952-df6ee9f556dc"
   },
   "outputs": [
    {
     "name": "stdout",
     "output_type": "stream",
     "text": [
      "0.7370195653312062\n",
      "1.0961841729456172\n",
      "0.6319247826250313\n",
      "0.0547292881006044\n",
      "0.27385771980682055\n",
      "5.610926148028583\n"
     ]
    }
   ],
   "source": [
    "possible_λ = [0.001, 0.01, 0.1, 1., 10, 100.]\n",
    "\n",
    "for λ in possible_λ:\n",
    "  MSE_eval = solve(λ)\n",
    "  print(MSE_eval)"
   ]
  },
  {
   "cell_type": "code",
   "execution_count": null,
   "metadata": {
    "id": "p3K7BTtXRW1k"
   },
   "outputs": [],
   "source": []
  },
  {
   "cell_type": "code",
   "execution_count": null,
   "metadata": {
    "id": "DxEeTPRY-j9G"
   },
   "outputs": [],
   "source": []
  },
  {
   "cell_type": "code",
   "execution_count": null,
   "metadata": {
    "id": "-5oJkxCc-3sG"
   },
   "outputs": [],
   "source": []
  }
 ],
 "metadata": {
  "colab": {
   "collapsed_sections": [],
   "provenance": []
  },
  "kernelspec": {
   "display_name": "Python 3",
   "language": "python",
   "name": "python3"
  },
  "language_info": {
   "codemirror_mode": {
    "name": "ipython",
    "version": 3
   },
   "file_extension": ".py",
   "mimetype": "text/x-python",
   "name": "python",
   "nbconvert_exporter": "python",
   "pygments_lexer": "ipython3",
   "version": "3.8.3"
  },
  "toc": {
   "base_numbering": 1,
   "nav_menu": {},
   "number_sections": true,
   "sideBar": true,
   "skip_h1_title": false,
   "title_cell": "Table of Contents",
   "title_sidebar": "Contents",
   "toc_cell": false,
   "toc_position": {},
   "toc_section_display": true,
   "toc_window_display": false
  },
  "varInspector": {
   "cols": {
    "lenName": 16,
    "lenType": 16,
    "lenVar": 40
   },
   "kernels_config": {
    "python": {
     "delete_cmd_postfix": "",
     "delete_cmd_prefix": "del ",
     "library": "var_list.py",
     "varRefreshCmd": "print(var_dic_list())"
    },
    "r": {
     "delete_cmd_postfix": ") ",
     "delete_cmd_prefix": "rm(",
     "library": "var_list.r",
     "varRefreshCmd": "cat(var_dic_list()) "
    }
   },
   "types_to_exclude": [
    "module",
    "function",
    "builtin_function_or_method",
    "instance",
    "_Feature"
   ],
   "window_display": false
  }
 },
 "nbformat": 4,
 "nbformat_minor": 1
}
