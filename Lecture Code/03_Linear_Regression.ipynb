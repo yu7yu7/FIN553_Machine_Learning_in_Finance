{
 "cells": [
  {
   "cell_type": "code",
   "execution_count": 1,
   "metadata": {
    "colab": {
     "base_uri": "https://localhost:8080/",
     "height": 283
    },
    "id": "CoGUJGEhaSPL",
    "outputId": "412b2834-3093-438e-d96b-ecd859dec662"
   },
   "outputs": [
    {
     "data": {
      "text/plain": [
       "<matplotlib.collections.PathCollection at 0x7f8c0904d670>"
      ]
     },
     "execution_count": 1,
     "metadata": {},
     "output_type": "execute_result"
    },
    {
     "data": {
      "image/png": "[encoded data removed]",
      "text/plain": [
       "<Figure size 432x288 with 1 Axes>"
      ]
     },
     "metadata": {
      "needs_background": "light"
     },
     "output_type": "display_data"
    }
   ],
   "source": [
    "import numpy as np\n",
    "import matplotlib.pyplot as plt\n",
    "x = np.array([35.48813504, 37.15189366, 36.02763376, 35.44883183, 34.23654799,\n",
    "       36.45894113, 34.37587211, 38.91773001, 39.63662761, 33.83441519,\n",
    "       37.91725038, 35.2889492 , 35.68044561, 39.25596638, 30.71036058,\n",
    "       30.871293  , 30.20218397, 38.32619846, 37.78156751, 38.70012148,\n",
    "       39.78618342, 37.99158564, 34.61479362, 37.80529176, 31.18274426]) / 10\n",
    "\n",
    "y = np.array([4.38520061, 3.16149389, 4.67530465, 4.21746519, 4.40839628,\n",
    "       3.53589972, 4.91069181, 3.24098257, 3.24996869, 3.8723874 ,\n",
    "       3.71471908, 4.40032668, 4.29654058, 3.86564066, 6.03192935,\n",
    "       5.48225334, 5.86622203, 3.73386091, 2.8726241 , 3.60174454,\n",
    "       3.36552398, 3.06984857, 3.8249487 , 3.28088958, 5.37002006])\n",
    "\n",
    "plt.scatter(x, y)"
   ]
  },
  {
   "cell_type": "code",
   "execution_count": 2,
   "metadata": {
    "id": "E-U2fYNianT6"
   },
   "outputs": [],
   "source": [
    "def f(x, Θ):\n",
    "    return Θ[0] + Θ[1] * x"
   ]
  },
  {
   "cell_type": "code",
   "execution_count": 3,
   "metadata": {
    "id": "NZswPahMbHGK"
   },
   "outputs": [],
   "source": [
    "def L(Θ):\n",
    "    return 0.5 * np.mean((f(x, Θ) - y)**2)\n",
    "\n",
    "\n",
    "def gradient(Θ):\n",
    "  g0 = np.mean((f(x, Θ) - y) * 1.)\n",
    "  g1 = np.mean((f(x, Θ) - y) * x)\n",
    "  return np.array([g0, g1])\n",
    "\n",
    "\n",
    "def apply_gradients(Θ, grads, α=0.01):\n",
    "  return Θ - α * grads"
   ]
  },
  {
   "cell_type": "code",
   "execution_count": 6,
   "metadata": {},
   "outputs": [
    {
     "ename": "NameError",
     "evalue": "name 'g0' is not defined",
     "output_type": "error",
     "traceback": [
      "\u001b[0;31m---------------------------------------------------------------------------\u001b[0m",
      "\u001b[0;31mNameError\u001b[0m                                 Traceback (most recent call last)",
      "\u001b[0;32m<ipython-input-6-00a9c09e40a1>\u001b[0m in \u001b[0;36m<module>\u001b[0;34m\u001b[0m\n\u001b[0;32m----> 1\u001b[0;31m \u001b[0mg0\u001b[0m\u001b[0;34m\u001b[0m\u001b[0;34m\u001b[0m\u001b[0m\n\u001b[0m",
      "\u001b[0;31mNameError\u001b[0m: name 'g0' is not defined"
     ]
    }
   ],
   "source": []
  },
  {
   "cell_type": "code",
   "execution_count": 4,
   "metadata": {
    "colab": {
     "base_uri": "https://localhost:8080/"
    },
    "id": "IGOGyKC5c7bc",
    "outputId": "85bff94d-7c80-47f3-d0f0-53309f3b4743"
   },
   "outputs": [
    {
     "name": "stdout",
     "output_type": "stream",
     "text": [
      "[13.86870694 -2.72123307]\n"
     ]
    }
   ],
   "source": [
    "Θ = np.array([10., 0.])\n",
    "\n",
    "for iteration in range(200000):\n",
    "    Θ = apply_gradients(Θ, gradient(Θ))\n",
    "print(Θ)\n",
    "    "
   ]
  },
  {
   "cell_type": "code",
   "execution_count": 5,
   "metadata": {
    "colab": {
     "base_uri": "https://localhost:8080/",
     "height": 283
    },
    "id": "oUMDMGY0dQBa",
    "outputId": "7b05cbef-5d91-4e27-ec92-139291d9b320"
   },
   "outputs": [
    {
     "data": {
      "text/plain": [
       "[<matplotlib.lines.Line2D at 0x7f8c28570c10>]"
      ]
     },
     "execution_count": 5,
     "metadata": {},
     "output_type": "execute_result"
    },
    {
     "data": {
      "image/png": "[encoded data removed]",
      "text/plain": [
       "<Figure size 432x288 with 1 Axes>"
      ]
     },
     "metadata": {
      "needs_background": "light"
     },
     "output_type": "display_data"
    }
   ],
   "source": [
    "fitted_value = f(x, Θ)\n",
    "plt.scatter(x, y)\n",
    "plt.plot(x, fitted_value, color='k')"
   ]
  },
  {
   "cell_type": "code",
   "execution_count": null,
   "metadata": {
    "id": "3O0zR87Xv7-V"
   },
   "outputs": [],
   "source": []
  }
 ],
 "metadata": {
  "colab": {
   "collapsed_sections": [],
   "provenance": []
  },
  "kernelspec": {
   "display_name": "Python 3",
   "language": "python",
   "name": "python3"
  },
  "language_info": {
   "codemirror_mode": {
    "name": "ipython",
    "version": 3
   },
   "file_extension": ".py",
   "mimetype": "text/x-python",
   "name": "python",
   "nbconvert_exporter": "python",
   "pygments_lexer": "ipython3",
   "version": "3.8.3"
  },
  "toc": {
   "base_numbering": 1,
   "nav_menu": {},
   "number_sections": true,
   "sideBar": true,
   "skip_h1_title": false,
   "title_cell": "Table of Contents",
   "title_sidebar": "Contents",
   "toc_cell": false,
   "toc_position": {},
   "toc_section_display": true,
   "toc_window_display": false
  },
  "varInspector": {
   "cols": {
    "lenName": 16,
    "lenType": 16,
    "lenVar": 40
   },
   "kernels_config": {
    "python": {
     "delete_cmd_postfix": "",
     "delete_cmd_prefix": "del ",
     "library": "var_list.py",
     "varRefreshCmd": "print(var_dic_list())"
    },
    "r": {
     "delete_cmd_postfix": ") ",
     "delete_cmd_prefix": "rm(",
     "library": "var_list.r",
     "varRefreshCmd": "cat(var_dic_list()) "
    }
   },
   "types_to_exclude": [
    "module",
    "function",
    "builtin_function_or_method",
    "instance",
    "_Feature"
   ],
   "window_display": false
  }
 },
 "nbformat": 4,
 "nbformat_minor": 1
}
