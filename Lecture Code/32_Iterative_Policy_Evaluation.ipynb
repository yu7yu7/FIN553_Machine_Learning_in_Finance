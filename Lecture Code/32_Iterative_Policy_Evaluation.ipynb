{
 "cells": [
  {
   "cell_type": "code",
   "execution_count": null,
   "metadata": {
    "id": "DX8Q6AmefH6X"
   },
   "outputs": [],
   "source": [
    "import numpy as np\n",
    "\n",
    "# MDP Set up\n",
    "# Discount factor\n",
    "γ = 0.95\n",
    "A = [0, 1]\n",
    "S = [0, 1, 2]\n",
    "\n",
    "# Transition matrix if dont' invest\n",
    "P0 = np.array([[1, 0, 0],\n",
    "               [0.1, .75, 0.15],\n",
    "               [0.05, .1, 0.85]])\n",
    "\n",
    "R0 = np.array([0, 1, 2])\n",
    "\n",
    "# Transition matrix if invest\n",
    "P1 = np.array([[1, 0, 0],\n",
    "               [0.05, .75, 0.2],\n",
    "               [0.02, .06, 0.92]])\n",
    "R1 = np.array([0, 0.5, 1.5])\n",
    "\n",
    "\n",
    "P = [P0, P1]\n",
    "R = [R0, R1]"
   ]
  },
  {
   "cell_type": "code",
   "execution_count": null,
   "metadata": {
    "id": "S2b5XioNfPTK"
   },
   "outputs": [],
   "source": [
    "# Evaluating arbitrary policies\n",
    "def construct_Rπ(R, π, S):\n",
    "    Rπ = np.zeros(len(S))\n",
    "    for s in S:\n",
    "        Rπ[s] = R[π[s]][s]\n",
    "    return Rπ\n",
    "\n",
    "\n",
    "def construct_Pπ(P, π, S):\n",
    "    Pπ = np.zeros((len(S), len(S)))\n",
    "    for s in S:\n",
    "        for s_prime in S:\n",
    "            Pπ[s, s_prime] = P[π[s]][s, s_prime]\n",
    "    return Pπ\n",
    "\n",
    "\n",
    "def policy_evaluation(π, S, P, R, γ):\n",
    "    Rπ = construct_Rπ(R, π, S)\n",
    "    Pπ = construct_Pπ(P, π, S)\n",
    "    v0 = np.zeros(len(S))\n",
    "    for iteration in range(10000):\n",
    "        v1 = Rπ + γ * Pπ @ v0\n",
    "        error = np.abs(v1 - v0).max()\n",
    "        if error < 1e-10:\n",
    "            break\n",
    "        v0 = v1\n",
    "    return v0"
   ]
  },
  {
   "cell_type": "code",
   "execution_count": null,
   "metadata": {
    "id": "bhcUS9tLtyBo"
   },
   "outputs": [],
   "source": []
  }
 ],
 "metadata": {
  "colab": {
   "provenance": []
  },
  "kernelspec": {
   "display_name": "Python 3",
   "language": "python",
   "name": "python3"
  },
  "language_info": {
   "codemirror_mode": {
    "name": "ipython",
    "version": 3
   },
   "file_extension": ".py",
   "mimetype": "text/x-python",
   "name": "python",
   "nbconvert_exporter": "python",
   "pygments_lexer": "ipython3",
   "version": "3.8.3"
  },
  "toc": {
   "base_numbering": 1,
   "nav_menu": {},
   "number_sections": true,
   "sideBar": true,
   "skip_h1_title": false,
   "title_cell": "Table of Contents",
   "title_sidebar": "Contents",
   "toc_cell": false,
   "toc_position": {},
   "toc_section_display": true,
   "toc_window_display": false
  },
  "varInspector": {
   "cols": {
    "lenName": 16,
    "lenType": 16,
    "lenVar": 40
   },
   "kernels_config": {
    "python": {
     "delete_cmd_postfix": "",
     "delete_cmd_prefix": "del ",
     "library": "var_list.py",
     "varRefreshCmd": "print(var_dic_list())"
    },
    "r": {
     "delete_cmd_postfix": ") ",
     "delete_cmd_prefix": "rm(",
     "library": "var_list.r",
     "varRefreshCmd": "cat(var_dic_list()) "
    }
   },
   "types_to_exclude": [
    "module",
    "function",
    "builtin_function_or_method",
    "instance",
    "_Feature"
   ],
   "window_display": false
  }
 },
 "nbformat": 4,
 "nbformat_minor": 1
}
