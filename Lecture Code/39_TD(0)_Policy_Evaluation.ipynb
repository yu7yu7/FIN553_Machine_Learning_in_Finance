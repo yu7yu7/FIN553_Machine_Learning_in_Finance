{
  "nbformat": 4,
  "nbformat_minor": 0,
  "metadata": {
    "colab": {
      "provenance": []
    },
    "kernelspec": {
      "name": "python3",
      "display_name": "Python 3"
    }
  },
  "cells": [
    {
      "cell_type": "code",
      "metadata": {
        "id": "0stDJEK73pQC"
      },
      "source": [
        "import numpy as np\n",
        "\n",
        "\n",
        "class MDP():\n",
        "  def __init__(self):\n",
        "    # Discount factor\n",
        "    self.γ = 0.95\n",
        "    self.A = [0, 1]\n",
        "    self.S = [0, 1, 2]\n",
        "\n",
        "    # Transition matrix if dont' invest\n",
        "    P0 = np.array([[1, 0, 0],\n",
        "                   [0.1, .75, 0.15],\n",
        "                   [0.05, .1, 0.85]])\n",
        "\n",
        "    R0 = np.array([0, 1, 2])\n",
        "\n",
        "    # Transition matrix if invest\n",
        "    P1 = np.array([[1, 0, 0],\n",
        "                   [0.05, .75, 0.2],\n",
        "                   [0.02, .06, 0.92]])\n",
        "    R1 = np.array([0, 0.5, 1.5])\n",
        "\n",
        "    self.P = [P0, P1]\n",
        "    self.R = [R0, R1]\n",
        "\n",
        "  def step(self, s, a):\n",
        "    s_prime = np.random.choice(len(self.S), p=self.P[a][s])\n",
        "    R = self.R[a][s]\n",
        "    if s_prime == 0:\n",
        "      done = True\n",
        "    else:\n",
        "      done = False\n",
        "    return s_prime, R, done\n",
        "\n",
        "  def simulate(self, s, a, π):\n",
        "    done = False\n",
        "    t = 0\n",
        "    history = []\n",
        "    while not done:\n",
        "      if t > 0:\n",
        "        a = π[s]\n",
        "      s_prime, R, done = self.step(s, a)\n",
        "      history.append((s, a, R))\n",
        "      s = s_prime\n",
        "      t += 1\n",
        "\n",
        "    return history"
      ],
      "execution_count": null,
      "outputs": []
    },
    {
      "cell_type": "code",
      "metadata": {
        "id": "aX-X3nHD3v8w",
        "colab": {
          "base_uri": "https://localhost:8080/"
        },
        "outputId": "6b542258-3804-4a0a-b0d2-bbe7fdd0f313"
      },
      "source": [
        "mdp = MDP()\n",
        "\n",
        "# Estimating vπ\n",
        "S = np.zeros(3)\n",
        "vπ = np.zeros(3)\n",
        "π = [0, 0, 0]\n",
        "\n",
        "s = 1\n",
        "\n",
        "\n",
        "α = 0.005\n",
        "\n",
        "for iteration in range(200000):\n",
        "  s_prime, R, done = mdp.step(s, π[s])\n",
        "\n",
        "  TD_target = R + mdp.γ * vπ[s_prime]\n",
        "  δ = TD_target - vπ[s] # TD error\n",
        "\n",
        "  # TD update\n",
        "  vπ[s] = vπ[s] + α * δ\n",
        "\n",
        "  if done:\n",
        "    s = 1\n",
        "  else:\n",
        "    s = s_prime\n",
        "\n",
        "print(vπ)\n"
      ],
      "execution_count": null,
      "outputs": [
        {
          "output_type": "stream",
          "name": "stdout",
          "text": [
            "[ 0.         11.37563946 15.80011157]\n"
          ]
        }
      ]
    },
    {
      "cell_type": "code",
      "metadata": {
        "id": "yenBB0-t3x7E"
      },
      "source": [],
      "execution_count": null,
      "outputs": []
    }
  ]
}