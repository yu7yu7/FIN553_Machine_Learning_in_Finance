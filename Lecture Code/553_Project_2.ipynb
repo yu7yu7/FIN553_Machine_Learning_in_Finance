{
 "cells": [
  {
   "cell_type": "markdown",
   "metadata": {
    "id": "Umss_PvMjmPG"
   },
   "source": [
    "Due date: October 21 2022 "
   ]
  },
  {
   "cell_type": "code",
   "execution_count": null,
   "metadata": {
    "id": "O-bAbBDVLVFd"
   },
   "outputs": [],
   "source": []
  },
  {
   "cell_type": "markdown",
   "metadata": {
    "id": "UNMPZrw6ucMH"
   },
   "source": [
    "# Description\n",
    "  In this problem we will use apply the LSMC method to price American put options. Specifically, we will replicate the result in the first row, 6th column of Table 1 in [Longstaff and Schwartz 2001](https://www.anderson.ucla.edu/documents/areas/fac/finance/least_squares.pdf)\n",
    "\n",
    "  \n",
    "\n",
    "*  Read the introduction of the [paper](https://www.anderson.ucla.edu/documents/areas/fac/finance/least_squares.pdf).\n",
    "*   We will price an american put option as described in page 126 of the aforementioned article. Read paragraphs 1 and 2 of page 126\n",
    "* As we saw in class, one of the ways we can use linear regression to fit nonlinear functions is to use polynomial features. A common choice in many applications is to use the so called ``Chebyshev polynomials''. Chebyshev polynomials are defined recursively by:\n",
    "\n",
    "\\begin{equation}\n",
    "T_0(x) = 1\\\\\n",
    "T_1(x) = x\\\\\n",
    "T_{n + 1}(x)  =  2 x T_n(x) - T_{n - 1}(x)\\\\\n",
    "\\end{equation}\n"
   ]
  },
  {
   "cell_type": "markdown",
   "metadata": {
    "id": "BSsCJ6w3ssyO"
   },
   "source": [
    "# Group Member:"
   ]
  },
  {
   "cell_type": "markdown",
   "metadata": {
    "id": "0FUFaHV1sx8I"
   },
   "source": [
    "Chang Gao (UIN: 671189915)\n",
    "\n",
    "Hyoung Woo Hahm (UIN: 661790448)\n",
    "\n",
    "Napaton Prasertthum (UIN: 675585068)\n",
    "\n",
    "Saranpat Prasertthum (UIN: 655667271)\n",
    "\n",
    "Yu-Ching Liao (UIN: 656724372)"
   ]
  },
  {
   "cell_type": "markdown",
   "metadata": {
    "id": "qszv8niMdzJK"
   },
   "source": [
    "# Part 1\n",
    "The code below simulates the evolution of a stock price that follows a geometric brownian motion. Write a JAX version of that code. You are not allowed to use functions from other libraries. For this part, the \"simulate\"\n",
    "function does not need to be jit compiled. As we will see, jit compiling a funciton with for loops may introduce some complications\n",
    " "
   ]
  },
  {
   "cell_type": "code",
   "execution_count": 2,
   "metadata": {
    "id": "D6VdC2QZduv9"
   },
   "outputs": [
    {
     "name": "stdout",
     "output_type": "stream",
     "text": [
      "[[1.00715621 1.00170063 1.00401495 ... 0.99987096 0.99586427 0.99879389]\n",
      " [1.00858656 1.00179888 1.00740096 ... 1.00672951 0.99676042 0.99400235]\n",
      " [1.0008628  1.00485977 1.01312172 ... 1.01043822 0.98842005 0.99337036]\n",
      " ...\n",
      " [1.00834903 0.96949369 0.96891127 ... 1.06609344 0.98978317 1.00386936]\n",
      " [1.0045846  0.97349649 0.96590568 ... 1.06415365 0.98488869 1.00491575]\n",
      " [1.00652461 0.97005164 0.96454623 ... 1.05651341 0.98368471 1.00345296]]\n"
     ]
    }
   ],
   "source": [
    "import numpy as np\n",
    "\n",
    "# Data\n",
    "σ = 0.04\n",
    "r = 0.01\n",
    "K = 35\n",
    "\n",
    "# Design choice\n",
    "dt = 0.01\n",
    "m = 100\n",
    "\n",
    "\n",
    "def simulate():\n",
    "    np.random.seed(0)\n",
    "\n",
    "    def step(S):\n",
    "        dZ = np.random.normal(size=S.size) * np.sqrt(dt)\n",
    "        dS = r * S * dt + σ * S * dZ\n",
    "        S = S + dS\n",
    "        return S\n",
    "\n",
    "    S0 = np.ones(20000)\n",
    "    S = S0\n",
    "    S_list = []\n",
    "\n",
    "    for t in range(m):\n",
    "        S = step(S)\n",
    "        S_list.append(S)\n",
    "\n",
    "    S_array = np.stack(S_list)\n",
    "    return S_array\n",
    "print(simulate())"
   ]
  },
  {
   "cell_type": "markdown",
   "metadata": {
    "id": "ZAdhCnlss6-q"
   },
   "source": [
    "# Solution to Part 1"
   ]
  },
  {
   "cell_type": "code",
   "execution_count": 6,
   "metadata": {
    "id": "ljearQKepkIm"
   },
   "outputs": [
    {
     "name": "stdout",
     "output_type": "stream",
     "text": [
      "[[1.0031239  0.99879605 1.0028076  ... 1.001435   1.0056727  1.0059313 ]\n",
      " [1.0056242  0.9989038  1.0038857  ... 0.99900013 1.0030652  0.9993646 ]\n",
      " [1.0030042  0.9944063  1.0047244  ... 0.9981365  1.0078664  0.996579  ]\n",
      " ...\n",
      " [1.0453889  0.9646973  1.0070413  ... 0.9665726  1.0149897  1.0383427 ]\n",
      " [1.0339493  0.9706413  1.0091043  ... 0.96072483 1.0120413  1.036808  ]\n",
      " [1.0337375  0.9659554  1.0131707  ... 0.96760684 1.0132614  1.0382613 ]]\n",
      "(20000,)\n"
     ]
    }
   ],
   "source": [
    "# JAX version\n",
    "import jax.numpy as jnp\n",
    "import jax\n",
    "\n",
    "# Data\n",
    "σ = 0.04\n",
    "r = 0.01\n",
    "K = 35\n",
    "\n",
    "# Design choice\n",
    "dt = 0.01\n",
    "m = 100\n",
    "\n",
    "\n",
    "def simulate1():\n",
    "    rng = jax.random.PRNGKey(0)\n",
    "\n",
    "    def step(rng, S):\n",
    "        dZ = jax.random.normal(rng, shape=(S.size,)) * jnp.sqrt(dt)\n",
    "        dS = r * S * dt + σ * S * dZ\n",
    "        S = S + dS\n",
    "        return S\n",
    "\n",
    "    S0 = jnp.ones(20000)\n",
    "    S = S0\n",
    "    S_list = []\n",
    "\n",
    "    for t in range(m):\n",
    "        rng, _ = jax.random.split(rng)\n",
    "        S = step(rng, S)\n",
    "        S_list.append(S)\n",
    "\n",
    "    S_array = jnp.stack(S_list)\n",
    "    return S_array\n",
    "print(simulate1())\n",
    "print(simulate1()[0].shape)"
   ]
  },
  {
   "cell_type": "markdown",
   "metadata": {
    "id": "-sYIUZ1QfF-i"
   },
   "source": [
    "# Part 2\n",
    "Write a jit compiled version of the simulate function. You may want to check out the function jax.lax.scan.\n"
   ]
  },
  {
   "cell_type": "markdown",
   "metadata": {
    "id": "lybM1yU4tsOY"
   },
   "source": [
    "# Solution to Part 2"
   ]
  },
  {
   "cell_type": "code",
   "execution_count": null,
   "metadata": {
    "id": "69uyJTIDtO6W"
   },
   "outputs": [],
   "source": [
    "# Jit compiled version\n",
    "import jax.numpy as jnp\n",
    "import jax\n",
    "\n",
    "# Data\n",
    "σ = 0.04\n",
    "r = 0.01\n",
    "K = 35\n",
    "\n",
    "# Design choice\n",
    "dt = 0.01\n",
    "m = 100\n",
    "\n",
    "\n",
    "@jax.jit\n",
    "def simulate2():\n",
    "    rng = jax.random.PRNGKey(0)\n",
    "\n",
    "    def step(S, x):\n",
    "        dZ = x * jnp.sqrt(dt)\n",
    "        dS = r * S * dt + σ * S * dZ\n",
    "        S = S + dS\n",
    "        return S, S\n",
    "\n",
    "    S0 = jnp.ones(20000)\n",
    "    init = jnp.zeros(20000)\n",
    "    xs = jax.random.normal(rng, shape=(m, S0.size))\n",
    "    carry, S_array = jax.lax.scan(step, S0, xs)\n",
    "\n",
    "    return S_array"
   ]
  },
  {
   "cell_type": "code",
   "execution_count": null,
   "metadata": {
    "id": "Rb-hz90xcpUY"
   },
   "outputs": [],
   "source": [
    "# test\n",
    "# Original simulate function\n",
    "# simulate()\n",
    "\n",
    "# JAX version\n",
    "# simulate1()\n",
    "\n",
    "# Jit compiled version\n",
    "# simulate2()"
   ]
  },
  {
   "cell_type": "markdown",
   "metadata": {
    "id": "YdCFrHUafwBh"
   },
   "source": [
    "# Part 3\n",
    "The code below computes the price of an American Put option using Least Squares Monte Carlo (LSMC). Write a JAX version of that code. You are not allowed to use functions from other libraries. Your \"compute_price\" function must be jit compiled."
   ]
  },
  {
   "cell_type": "code",
   "execution_count": null,
   "metadata": {
    "colab": {
     "base_uri": "https://localhost:8080/"
    },
    "id": "w539_qu_fFaf",
    "outputId": "7c05f53f-7b91-405c-9907-4016d998e2f3"
   },
   "outputs": [
    {
     "name": "stdout",
     "output_type": "stream",
     "text": [
      "4.4634476148734405\n"
     ]
    }
   ],
   "source": [
    "import numpy as np\n",
    "\n",
    "Spot = 36   # stock price\n",
    "σ = 0.2     # stock volatility\n",
    "K = 40      # strike price\n",
    "r = 0.06    # risk free rate\n",
    "n = 100000  # Number of simualted paths\n",
    "m = 50      # number of exercise dates\n",
    "T = 1       # maturity\n",
    "order = 12   # Polynmial order\n",
    "Δt = T / m  # interval between two exercise dates\n",
    "\n",
    "\n",
    "# Construct polynomial features of order up to k using the\n",
    "# recursive formulation\n",
    "def chebyshev_basis(x, k):\n",
    "    B = [np.ones(len(x)), x]\n",
    "    for n in range(2, k):\n",
    "        Bn = 2 * x * B[n - 1] - B[n - 2]\n",
    "        B.append(Bn)\n",
    "\n",
    "    return np.column_stack(B)\n",
    "\n",
    "\n",
    "# scales x to be in the interval(-1, 1)\n",
    "def scale(x):\n",
    "    xmin = x.min()\n",
    "    xmax = x.max()\n",
    "    a = 2 / (xmax - xmin)\n",
    "    b = 1 - a * xmax\n",
    "    return a * x + b\n",
    "\n",
    "\n",
    "# simulates one step of the stock price evolution\n",
    "def step(S):\n",
    "    dB = np.sqrt(Δt) * np.random.normal(size=S.size)\n",
    "    S_tp1 = S + r * S * Δt + σ * S * dB\n",
    "    return S_tp1\n",
    "\n",
    "\n",
    "def payoff_put(S):\n",
    "    return np.maximum(K - S, 0.)\n",
    "\n",
    "\n",
    "# LSMC algorithm\n",
    "def compute_price():\n",
    "    np.random.seed(0)\n",
    "    S0 = Spot * np.ones(n)\n",
    "    S = [S0]\n",
    "\n",
    "    for t in range(m):\n",
    "        S_tp1 = step(S[t])\n",
    "        S.append(S_tp1)\n",
    "\n",
    "    discount = np.exp(-r * Δt)\n",
    "\n",
    "    # Very last date\n",
    "    value_if_exercise = payoff_put(S[-1])\n",
    "    discounted_future_cashflows = value_if_exercise * discount\n",
    "\n",
    "    # Proceed recursively\n",
    "    for i in range(m - 1):\n",
    "        X = chebyshev_basis(scale(S[-2 - i]), order)\n",
    "        Y = discounted_future_cashflows\n",
    "\n",
    "        Θ = np.linalg.solve(X.T @ X, X.T @ Y)\n",
    "        value_if_wait = X @ Θ\n",
    "        value_if_exercise = payoff_put(S[-2 - i])\n",
    "        exercise = value_if_exercise >= value_if_wait\n",
    "        discounted_future_cashflows = discount * np.where(\n",
    "            exercise,\n",
    "            value_if_exercise,\n",
    "            discounted_future_cashflows)\n",
    "\n",
    "    return discounted_future_cashflows.mean()\n",
    "\n",
    "\n",
    "print(compute_price())\n",
    "# test = compute_price(order, Spot, σ, K, r)"
   ]
  },
  {
   "cell_type": "markdown",
   "metadata": {
    "id": "kwKUCXErvRzK"
   },
   "source": [
    "# Solution to Part 3"
   ]
  },
  {
   "cell_type": "code",
   "execution_count": 9,
   "metadata": {
    "colab": {
     "base_uri": "https://localhost:8080/"
    },
    "id": "_-1-tY4MjHIj",
    "outputId": "646a8640-9e48-4098-95f6-575895bb4c54"
   },
   "outputs": [
    {
     "name": "stdout",
     "output_type": "stream",
     "text": [
      "4.4773197\n"
     ]
    }
   ],
   "source": [
    "# JAX version\n",
    "import jax.numpy as jnp\n",
    "import jax\n",
    "\n",
    "Spot = 36   # stock price\n",
    "σ = 0.2     # stock volatility\n",
    "K = 40      # strike price\n",
    "r = 0.06    # risk free rate\n",
    "n = 100000  # Number of simualted paths\n",
    "m = 50      # number of exercise dates\n",
    "T = 1       # maturity\n",
    "order = 12   # Polynmial order\n",
    "Δt = T / m  # interval between two exercise dates\n",
    "\n",
    "\n",
    "# Construct polynomial features of order up to k using the\n",
    "# recursive formulation\n",
    "def chebyshev_basis(x, k):\n",
    "\n",
    "    def Bn(carry, xs):\n",
    "        b1, b2 = carry\n",
    "        Bn = 2 * x * b2 - b1\n",
    "        carry = b2, Bn\n",
    "        return carry, Bn\n",
    "\n",
    "    init = jnp.ones(len(x)), x\n",
    "    carry, B = jax.lax.scan(Bn, init, xs=None, length=k-2)\n",
    "\n",
    "    B = jnp.insert(B, 0, values=x, axis=0)\n",
    "    B = jnp.insert(B, 0, values=jnp.ones(len(x)), axis=0)\n",
    "\n",
    "    return B.T\n",
    "\n",
    "\n",
    "# scales x to be in the interval(-1, 1)\n",
    "def scale(x):\n",
    "    xmin = x.min()\n",
    "    xmax = x.max()\n",
    "    a = 2 / (xmax - xmin)\n",
    "    b = 1 - a * xmax\n",
    "    return a * x + b\n",
    "\n",
    "\n",
    "# simulates one step of the stock price evolution\n",
    "def step(S, x):\n",
    "    dB = jnp.sqrt(Δt) * x\n",
    "    S_tp1 = S + r * S * Δt + σ * S * dB\n",
    "    return S_tp1, S_tp1\n",
    "\n",
    "\n",
    "def payoff_put(S):\n",
    "    return jnp.maximum(K - S, 0.)\n",
    "\n",
    "\n",
    "# LSMC algorithm\n",
    "@jax.jit\n",
    "def compute_price():\n",
    "    rng = jax.random.PRNGKey(0)\n",
    "    S0 = Spot * jnp.ones(n)\n",
    "    xs = jax.random.normal(rng, shape=(m, S0.size))\n",
    "    carry, S = jax.lax.scan(step, S0, xs)\n",
    "    S = jnp.insert(S, 0, values=S0, axis=0)\n",
    "\n",
    "    discount = jnp.exp(-r * Δt)\n",
    "\n",
    "    # Very last date\n",
    "    value_if_exercise = payoff_put(S[-1])\n",
    "    discounted_future_cashflows = value_if_exercise * discount\n",
    "\n",
    "    def recur(Y, S):\n",
    "        X = chebyshev_basis(scale(S), order)\n",
    "        Θ = jnp.linalg.solve(X.T @ X, X.T @ Y)\n",
    "        value_if_wait = X @ Θ\n",
    "        value_if_exercise = payoff_put(S)\n",
    "        exercise = value_if_exercise >= value_if_wait\n",
    "        Y = discount * jnp.where(\n",
    "            exercise,\n",
    "            value_if_exercise,\n",
    "            Y)\n",
    "        return Y, Y\n",
    "\n",
    "    Y = discounted_future_cashflows\n",
    "    discounted_future_cashflows, ys = jax.lax.scan(\n",
    "        recur, Y, S[:-1], reverse=True)\n",
    "\n",
    "    return discounted_future_cashflows.mean()\n",
    "\n",
    "\n",
    "print(compute_price())\n",
    "# test = compute_price(order, Spot, σ, K, r)"
   ]
  },
  {
   "cell_type": "code",
   "execution_count": null,
   "metadata": {},
   "outputs": [],
   "source": []
  },
  {
   "cell_type": "code",
   "execution_count": null,
   "metadata": {},
   "outputs": [],
   "source": []
  }
 ],
 "metadata": {
  "accelerator": "GPU",
  "colab": {
   "collapsed_sections": [],
   "provenance": []
  },
  "gpuClass": "standard",
  "kernelspec": {
   "display_name": "Python 3",
   "language": "python",
   "name": "python3"
  },
  "language_info": {
   "codemirror_mode": {
    "name": "ipython",
    "version": 3
   },
   "file_extension": ".py",
   "mimetype": "text/x-python",
   "name": "python",
   "nbconvert_exporter": "python",
   "pygments_lexer": "ipython3",
   "version": "3.8.3"
  },
  "toc": {
   "base_numbering": 1,
   "nav_menu": {},
   "number_sections": true,
   "sideBar": true,
   "skip_h1_title": false,
   "title_cell": "Table of Contents",
   "title_sidebar": "Contents",
   "toc_cell": false,
   "toc_position": {},
   "toc_section_display": true,
   "toc_window_display": false
  },
  "varInspector": {
   "cols": {
    "lenName": 16,
    "lenType": 16,
    "lenVar": 40
   },
   "kernels_config": {
    "python": {
     "delete_cmd_postfix": "",
     "delete_cmd_prefix": "del ",
     "library": "var_list.py",
     "varRefreshCmd": "print(var_dic_list())"
    },
    "r": {
     "delete_cmd_postfix": ") ",
     "delete_cmd_prefix": "rm(",
     "library": "var_list.r",
     "varRefreshCmd": "cat(var_dic_list()) "
    }
   },
   "types_to_exclude": [
    "module",
    "function",
    "builtin_function_or_method",
    "instance",
    "_Feature"
   ],
   "window_display": false
  }
 },
 "nbformat": 4,
 "nbformat_minor": 1
}
