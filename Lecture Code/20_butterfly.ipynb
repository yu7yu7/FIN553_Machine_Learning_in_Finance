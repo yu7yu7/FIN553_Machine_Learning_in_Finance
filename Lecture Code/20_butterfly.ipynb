{
 "cells": [
  {
   "cell_type": "code",
   "execution_count": 66,
   "metadata": {
    "colab": {
     "base_uri": "https://localhost:8080/",
     "height": 35
    },
    "id": "B90RIDE5kag1",
    "outputId": "57959ea7-9d92-42a3-df8a-355c9f2a5890"
   },
   "outputs": [
    {
     "name": "stdout",
     "output_type": "stream",
     "text": [
      "[ 1. -2.  1.]\n"
     ]
    }
   ],
   "source": [
    "import numpy as np\n",
    "import matplotlib.pyplot as plt\n",
    "\n",
    "\n",
    "a = 1\n",
    "b = 3\n",
    "\n",
    "S = np.array([2, 3, 4])\n",
    "payoff = np.array([1., 0., 0.])\n",
    "\n",
    "# Call options' payoffs\n",
    "call0 = np.maximum(S - a, 0)\n",
    "call1 = np.maximum(S - (a + b) / 2, 0)\n",
    "call2 = np.maximum(S - b, 0) \n",
    "\n",
    "\n",
    "# Now find the strategy that replicates the desired payoff\n",
    "X = np.column_stack([call0, call1, call2])\n",
    "y = payoff\n",
    "\n",
    "Θ = np.linalg.lstsq(X, y, rcond=None)[0]\n",
    "print(Θ)\n",
    "\n",
    "#Option Spanning Theorem: Any contract can be replicated or spanned by a suitable combination(Θ) of options. \n",
    "#Option Spanning Theorem: Any contract can be replicated or spanned by a suitable combination(Θ) of options. \n",
    "#Option Spanning Theorem: Any contract can be replicated or spanned by a suitable combination(Θ) of options. \n",
    "#Option Spanning Theorem: Any contract can be replicated or spanned by a suitable combination(Θ) of options. \n",
    "#Option Spanning Theorem: Any contract can be replicated or spanned by a suitable combination(Θ) of options. "
   ]
  },
  {
   "cell_type": "code",
   "execution_count": 67,
   "metadata": {},
   "outputs": [
    {
     "name": "stdout",
     "output_type": "stream",
     "text": [
      "[ 1. -2.  1.]\n"
     ]
    }
   ],
   "source": [
    "#More clear way to do\n",
    "def call(S, K):\n",
    "    return np.maximum(S-K, 0)\n",
    "\n",
    "S = np.array([2, 3, 4])\n",
    "y = np.array([1,0,0])\n",
    "K = [1,2,3]\n",
    "X = np.column_stack([call(S, Ki) for Ki in K])\n",
    "\n",
    "Θ = np.linalg.solve(X,y)\n",
    "print(Θ)\n",
    "#It is fucking same as above"
   ]
  },
  {
   "cell_type": "code",
   "execution_count": 68,
   "metadata": {
    "id": "QEQbdVLJkjSb"
   },
   "outputs": [],
   "source": [
    "S = np.linspace(0,5, 1000)\n",
    "\n",
    "def call(S, K):\n",
    "    return np.maximum(S-K, 0)\n",
    "payoff = 1*call(S, 1) -2*call(S, 2) +1*call(S, 3)"
   ]
  },
  {
   "cell_type": "code",
   "execution_count": 69,
   "metadata": {},
   "outputs": [
    {
     "data": {
      "text/plain": [
       "[<matplotlib.lines.Line2D at 0x7fef913a53a0>]"
      ]
     },
     "execution_count": 69,
     "metadata": {},
     "output_type": "execute_result"
    },
    {
     "data": {
      "image/png": "[encoded data removed]",
      "text/plain": [
       "<Figure size 432x288 with 1 Axes>"
      ]
     },
     "metadata": {
      "needs_background": "light"
     },
     "output_type": "display_data"
    }
   ],
   "source": [
    "plt.plot(S, payoff)"
   ]
  },
  {
   "cell_type": "code",
   "execution_count": 70,
   "metadata": {},
   "outputs": [],
   "source": [
    "\n"
   ]
  },
  {
   "cell_type": "code",
   "execution_count": null,
   "metadata": {},
   "outputs": [],
   "source": []
  }
 ],
 "metadata": {
  "colab": {
   "collapsed_sections": [],
   "provenance": []
  },
  "kernelspec": {
   "display_name": "Python 3",
   "language": "python",
   "name": "python3"
  },
  "language_info": {
   "codemirror_mode": {
    "name": "ipython",
    "version": 3
   },
   "file_extension": ".py",
   "mimetype": "text/x-python",
   "name": "python",
   "nbconvert_exporter": "python",
   "pygments_lexer": "ipython3",
   "version": "3.8.3"
  },
  "toc": {
   "base_numbering": 1,
   "nav_menu": {},
   "number_sections": true,
   "sideBar": true,
   "skip_h1_title": false,
   "title_cell": "Table of Contents",
   "title_sidebar": "Contents",
   "toc_cell": false,
   "toc_position": {},
   "toc_section_display": true,
   "toc_window_display": false
  },
  "varInspector": {
   "cols": {
    "lenName": 16,
    "lenType": 16,
    "lenVar": 40
   },
   "kernels_config": {
    "python": {
     "delete_cmd_postfix": "",
     "delete_cmd_prefix": "del ",
     "library": "var_list.py",
     "varRefreshCmd": "print(var_dic_list())"
    },
    "r": {
     "delete_cmd_postfix": ") ",
     "delete_cmd_prefix": "rm(",
     "library": "var_list.r",
     "varRefreshCmd": "cat(var_dic_list()) "
    }
   },
   "types_to_exclude": [
    "module",
    "function",
    "builtin_function_or_method",
    "instance",
    "_Feature"
   ],
   "window_display": false
  }
 },
 "nbformat": 4,
 "nbformat_minor": 1
}
