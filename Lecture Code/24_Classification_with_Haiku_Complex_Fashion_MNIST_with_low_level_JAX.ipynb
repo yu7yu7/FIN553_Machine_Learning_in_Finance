{
 "cells": [
  {
   "cell_type": "markdown",
   "metadata": {},
   "source": [
    "# In this part of code, we utilize neural network applied on classification on more complicated problem. \n"
   ]
  },
  {
   "cell_type": "code",
   "execution_count": 1,
   "metadata": {
    "colab": {
     "base_uri": "https://localhost:8080/"
    },
    "id": "NBaRgnJL8is9",
    "outputId": "44f558c5-4480-4a19-e3e1-6d4a0fd0d3b9"
   },
   "outputs": [
    {
     "name": "stdout",
     "output_type": "stream",
     "text": [
      "Note: you may need to restart the kernel to use updated packages.\n"
     ]
    }
   ],
   "source": [
    "pip install -q optax dm-haiku"
   ]
  },
  {
   "cell_type": "markdown",
   "metadata": {},
   "source": [
    "## We create ten classes of the genrus of clothes, and then we are to classify each datas in y's class (WHICH KINDS OF CLOTHES IT IS?)"
   ]
  },
  {
   "cell_type": "code",
   "execution_count": 23,
   "metadata": {
    "colab": {
     "base_uri": "https://localhost:8080/",
     "height": 293
    },
    "id": "kM1u16Nt8jvk",
    "outputId": "7741a02f-6870-49a4-a11e-821d73848f86"
   },
   "outputs": [
    {
     "name": "stdout",
     "output_type": "stream",
     "text": [
      "[0. 0. 0. 0. 0. 0. 0. 0. 0. 1.]\n"
     ]
    },
    {
     "data": {
      "image/png": "[encoded data removed]",
      "text/plain": [
       "<Figure size 288x288 with 1 Axes>"
      ]
     },
     "metadata": {
      "needs_background": "light"
     },
     "output_type": "display_data"
    }
   ],
   "source": [
    "import jax.numpy as jnp\n",
    "import matplotlib.pyplot as plt\n",
    "import optax\n",
    "import jax\n",
    "import haiku as hk\n",
    "import time\n",
    "rng = jax.random.PRNGKey(0)\n",
    "\n",
    "#X FOR MODELING\n",
    "X = jnp.load('X.npy')\n",
    "\n",
    "#Y TO BE CLASSIFIED\n",
    "y = jnp.load('y.npy')\n",
    "\n",
    "#DEFINE CLASSES\n",
    "class_names = ['T-shirt/top',  # 0\n",
    "               'Trouser',      # 1\n",
    "               'Pullover',     # 2\n",
    "               'Dress',        # 3\n",
    "               'Coat',         # 4\n",
    "               'Sandal',       # 5\n",
    "               'Shirt',        # 6\n",
    "               'Sneaker',      # 7\n",
    "               'Bag',          # 8\n",
    "               'Ankle boot']   # 9\n",
    "\n",
    "plt.matshow(X[100].reshape(28, 28))\n",
    "print(y[0])"
   ]
  },
  {
   "cell_type": "markdown",
   "metadata": {},
   "source": [
    "## THE TWO PARTS BELOW is totally identical code of classification. "
   ]
  },
  {
   "cell_type": "code",
   "execution_count": 3,
   "metadata": {
    "id": "yLvP5TiY8xwK"
   },
   "outputs": [],
   "source": [
    "import jax.numpy as jnp\n",
    "import jax\n",
    "\n",
    "\n",
    "def nnet(X):\n",
    "    out = hk.Linear(64)(X)\n",
    "    out = jax.nn.relu(out)\n",
    "\n",
    "    out = hk.Linear(10)(out)\n",
    "\n",
    "    out = jax.nn.softmax(out)\n",
    "    out = jnp.squeeze(out)\n",
    "    return out\n",
    "\n",
    "\n",
    "init, nnet = hk.without_apply_rng(hk.transform(nnet))\n",
    "rng = jax.random.PRNGKey(0)\n",
    "Θ = init(rng, X[0])"
   ]
  },
  {
   "cell_type": "code",
   "execution_count": 4,
   "metadata": {
    "id": "n5zmYzA3809p"
   },
   "outputs": [],
   "source": [
    "lr = 1e-3\n",
    "optimizer = optax.adam\n",
    "opt_state = optimizer(lr).init(Θ)\n",
    "\n",
    "\n",
    "def CE(prob, y_one_hot):\n",
    "    from jax.scipy.special import xlogy\n",
    "    return -xlogy(y_one_hot, prob).sum()\n",
    "    # return - (y_one_hot * jnp.log(prob)).sum()\n",
    "\n",
    "\n",
    "@jax.jit\n",
    "def update(Θ, opt_state):\n",
    "    def L(Θ):\n",
    "        prob = nnet(Θ, X)\n",
    "        return CE(prob, y)\n",
    "\n",
    "    grads = jax.grad(L)(Θ)\n",
    "    updates, opt_state = optimizer(lr).update(grads, opt_state)\n",
    "    Θ = optax.apply_updates(Θ, updates)\n",
    "    return Θ,  opt_state"
   ]
  },
  {
   "cell_type": "markdown",
   "metadata": {},
   "source": [
    "## MINIMIZING THE CROSS ENTROPHY by GRADIENT DESCENT"
   ]
  },
  {
   "cell_type": "code",
   "execution_count": 24,
   "metadata": {
    "id": "JJLhi7NfPetJ"
   },
   "outputs": [
    {
     "name": "stdout",
     "output_type": "stream",
     "text": [
      "0\n",
      "500\n",
      "1000\n",
      "1500\n",
      "2000\n",
      "2500\n",
      "3000\n",
      "3500\n",
      "4000\n",
      "4500\n",
      "5000\n",
      "5500\n",
      "6000\n",
      "6500\n",
      "7000\n",
      "7500\n",
      "8000\n",
      "8500\n",
      "9000\n",
      "9500\n",
      "time cost 722.4335238933563 s\n"
     ]
    }
   ],
   "source": [
    "time_st = time.time()\n",
    "for iteration in range(10000):\n",
    "    if iteration % 500 == 0: \n",
    "        print (iteration)\n",
    "    Θ, opt_state = update(Θ, opt_state)\n",
    "time_ed = time.time()\n",
    "time_c= time_ed - time_st \n",
    "print('time cost', time_c, 's')"
   ]
  },
  {
   "cell_type": "code",
   "execution_count": 31,
   "metadata": {
    "id": "x5hBCdTaPn0C"
   },
   "outputs": [
    {
     "data": {
      "text/plain": [
       "(60000, 10)"
      ]
     },
     "execution_count": 31,
     "metadata": {},
     "output_type": "execute_result"
    }
   ],
   "source": [
    "#回傳分在各組的機率\n",
    "prob = nnet(Θ, X)\n",
    "prob.shape"
   ]
  },
  {
   "cell_type": "code",
   "execution_count": 26,
   "metadata": {},
   "outputs": [
    {
     "name": "stdout",
     "output_type": "stream",
     "text": [
      "[9 0 0 ... 3 0 5]\n"
     ]
    }
   ],
   "source": [
    "#哪組機率大就分在那組\n",
    "print(jnp.argmax(prob, 1))"
   ]
  },
  {
   "cell_type": "code",
   "execution_count": 27,
   "metadata": {
    "colab": {
     "base_uri": "https://localhost:8080/"
    },
    "id": "Uzlmff8DPhMY",
    "outputId": "5431c41e-5b0d-44ca-b16c-6ce58aaceca4"
   },
   "outputs": [
    {
     "data": {
      "text/plain": [
       "DeviceArray(0.99163336, dtype=float32)"
      ]
     },
     "execution_count": 27,
     "metadata": {},
     "output_type": "execute_result"
    }
   ],
   "source": [
    "#開猜對多少（準確率）\n",
    "(jnp.argmax(prob, 1) == jnp.argmax(y, 1)).mean()"
   ]
  },
  {
   "cell_type": "code",
   "execution_count": 28,
   "metadata": {
    "colab": {
     "base_uri": "https://localhost:8080/"
    },
    "id": "7wEiREeSPvII",
    "outputId": "592e0dc6-bb40-4e98-ecdb-5e2e0e4a039f"
   },
   "outputs": [
    {
     "data": {
      "text/plain": [
       "DeviceArray([9, 0, 0, ..., 3, 0, 5], dtype=int32)"
      ]
     },
     "execution_count": 28,
     "metadata": {},
     "output_type": "execute_result"
    }
   ],
   "source": [
    "jnp.argmax(y, 1)"
   ]
  },
  {
   "cell_type": "code",
   "execution_count": 29,
   "metadata": {
    "id": "RDrIKlMkP6rp"
   },
   "outputs": [
    {
     "data": {
      "text/plain": [
       "10"
      ]
     },
     "execution_count": 29,
     "metadata": {},
     "output_type": "execute_result"
    }
   ],
   "source": [
    "len(prob[0])"
   ]
  },
  {
   "cell_type": "code",
   "execution_count": null,
   "metadata": {},
   "outputs": [],
   "source": []
  }
 ],
 "metadata": {
  "accelerator": "GPU",
  "colab": {
   "collapsed_sections": [],
   "provenance": []
  },
  "gpuClass": "premium",
  "kernelspec": {
   "display_name": "Python 3",
   "language": "python",
   "name": "python3"
  },
  "language_info": {
   "codemirror_mode": {
    "name": "ipython",
    "version": 3
   },
   "file_extension": ".py",
   "mimetype": "text/x-python",
   "name": "python",
   "nbconvert_exporter": "python",
   "pygments_lexer": "ipython3",
   "version": "3.8.3"
  },
  "toc": {
   "base_numbering": 1,
   "nav_menu": {},
   "number_sections": true,
   "sideBar": true,
   "skip_h1_title": false,
   "title_cell": "Table of Contents",
   "title_sidebar": "Contents",
   "toc_cell": false,
   "toc_position": {},
   "toc_section_display": true,
   "toc_window_display": false
  },
  "varInspector": {
   "cols": {
    "lenName": 16,
    "lenType": 16,
    "lenVar": 40
   },
   "kernels_config": {
    "python": {
     "delete_cmd_postfix": "",
     "delete_cmd_prefix": "del ",
     "library": "var_list.py",
     "varRefreshCmd": "print(var_dic_list())"
    },
    "r": {
     "delete_cmd_postfix": ") ",
     "delete_cmd_prefix": "rm(",
     "library": "var_list.r",
     "varRefreshCmd": "cat(var_dic_list()) "
    }
   },
   "types_to_exclude": [
    "module",
    "function",
    "builtin_function_or_method",
    "instance",
    "_Feature"
   ],
   "window_display": false
  }
 },
 "nbformat": 4,
 "nbformat_minor": 1
}
