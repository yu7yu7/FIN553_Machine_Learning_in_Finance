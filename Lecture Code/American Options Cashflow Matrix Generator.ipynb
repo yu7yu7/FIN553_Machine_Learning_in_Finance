{
 "cells": [
  {
   "cell_type": "code",
   "execution_count": 92,
   "id": "692b364a",
   "metadata": {},
   "outputs": [],
   "source": [
    "import numpy as np\n",
    "from numpy.linalg import inv\n",
    "from numpy.linalg import lstsq as the_root_is\n",
    "from numpy import exp as ℯ"
   ]
  },
  {
   "cell_type": "code",
   "execution_count": 93,
   "id": "d8740573",
   "metadata": {},
   "outputs": [],
   "source": [
    "# Data preparation\n",
    "rf = 0.06\n",
    "K = 1.1\n",
    "S3 = np.array([1.34, 1.54, 1.03, 0.92, 1.52, 0.9, 1.01, 1.34])\n",
    "S2 = np.array([1.08, 1.26, 1.07, 0.97, 1.56, 0.77, 0.84, 1.22])\n",
    "S1 = np.array([1.09, 1.16, 1.22, 0.93, 1.11, 0.76, 0.92, 0.88])\n",
    "S0 = np.ones_like(S1)"
   ]
  },
  {
   "cell_type": "code",
   "execution_count": 94,
   "id": "21243f22",
   "metadata": {},
   "outputs": [],
   "source": [
    "# Create the Cash-flow\n",
    "def Exercise(Array):\n",
    "    CF = np.zeros_like(Array)\n",
    "    for i in range(len(Array)):\n",
    "        if Array[i] > K:\n",
    "            CF[i] = 0\n",
    "        else:\n",
    "            CF[i] = K - Array[i]\n",
    "    return CF"
   ]
  },
  {
   "cell_type": "code",
   "execution_count": 95,
   "id": "e1ad9d93",
   "metadata": {},
   "outputs": [],
   "source": [
    "# The simple regression formula\n",
    "def Regression(Y, x):\n",
    "    x_modified = []\n",
    "    Y_modified = []\n",
    "    for i in range(len(x)):\n",
    "        if x[i] < K:\n",
    "            x_modified.append(x[i])\n",
    "            Y_modified.append(Exercise(Y)[i]*ℯ(-1*rf))\n",
    "\n",
    "    X = np.column_stack([np.array(x_modified)**i for i in range(3)])\n",
    "    return the_root_is(X, Y_modified, rcond=None)[0]"
   ]
  },
  {
   "cell_type": "code",
   "execution_count": 96,
   "id": "81693035",
   "metadata": {},
   "outputs": [],
   "source": [
    "# Calculate the THEO of Stock Value\n",
    "def THEO(Y, x):\n",
    "    x_modified = []\n",
    "    for i in range(len(x)):\n",
    "        if x[i] < K:\n",
    "            x_modified.append(x[i])\n",
    "    X = np.column_stack([np.array(x_modified)**i for i in range(3)])\n",
    "    return X@Regression(Y,x)"
   ]
  },
  {
   "cell_type": "code",
   "execution_count": 124,
   "id": "c64f5cb7",
   "metadata": {},
   "outputs": [],
   "source": [
    "# Define whether to exercise\n",
    "def Cashflow(S_after, S_before):\n",
    "    Decision = []\n",
    "    count = 0\n",
    "    for i in range(len(S_after)):\n",
    "        if S_before[i] > K:\n",
    "            Decision.append(0)\n",
    "            count += 1\n",
    "        elif THEO(S_after, S_before)[i-count] > Exercise(S_before)[i]:\n",
    "            Decision.append(0)\n",
    "        else: Decision.append(round(Exercise(S_before)[i], 2))\n",
    "    return Decision"
   ]
  },
  {
   "cell_type": "code",
   "execution_count": 147,
   "id": "5373aeda",
   "metadata": {},
   "outputs": [],
   "source": [
    "def Option_Cashflow_Matrix_Generator(s1, s2, s3):\n",
    "    CF1 = Cashflow(S2, S1)\n",
    "    CF2 = Cashflow(S3, S2)\n",
    "    CF3 = Exercise(S3)\n",
    "    for i in range(len(CF1)):\n",
    "        if CF2[i] != 0:\n",
    "            CF3[i] = 0\n",
    "        if CF1[i] != 0:\n",
    "            CF2[i] = 0\n",
    "    Option_Cashflow_Matrix = np.array([range(1, len(CF1)+1), CF1, CF2, CF3])\n",
    "    return Option_Cashflow_Matrix.T"
   ]
  },
  {
   "cell_type": "code",
   "execution_count": 148,
   "id": "eca33f05",
   "metadata": {},
   "outputs": [
    {
     "data": {
      "text/plain": [
       "array([[1.  , 0.  , 0.  , 0.  ],\n",
       "       [2.  , 0.  , 0.  , 0.  ],\n",
       "       [3.  , 0.  , 0.  , 0.07],\n",
       "       [4.  , 0.17, 0.  , 0.  ],\n",
       "       [5.  , 0.  , 0.  , 0.  ],\n",
       "       [6.  , 0.34, 0.  , 0.  ],\n",
       "       [7.  , 0.18, 0.  , 0.  ],\n",
       "       [8.  , 0.22, 0.  , 0.  ]])"
      ]
     },
     "execution_count": 148,
     "metadata": {},
     "output_type": "execute_result"
    }
   ],
   "source": [
    "Option_Cashflow_Matrix_Generator(S1, S2,  S3)"
   ]
  },
  {
   "cell_type": "code",
   "execution_count": null,
   "id": "75a8341f",
   "metadata": {},
   "outputs": [],
   "source": []
  }
 ],
 "metadata": {
  "kernelspec": {
   "display_name": "Python 3",
   "language": "python",
   "name": "python3"
  },
  "language_info": {
   "codemirror_mode": {
    "name": "ipython",
    "version": 3
   },
   "file_extension": ".py",
   "mimetype": "text/x-python",
   "name": "python",
   "nbconvert_exporter": "python",
   "pygments_lexer": "ipython3",
   "version": "3.8.3"
  },
  "toc": {
   "base_numbering": 1,
   "nav_menu": {},
   "number_sections": true,
   "sideBar": true,
   "skip_h1_title": false,
   "title_cell": "Table of Contents",
   "title_sidebar": "Contents",
   "toc_cell": false,
   "toc_position": {},
   "toc_section_display": true,
   "toc_window_display": false
  },
  "varInspector": {
   "cols": {
    "lenName": 16,
    "lenType": 16,
    "lenVar": 40
   },
   "kernels_config": {
    "python": {
     "delete_cmd_postfix": "",
     "delete_cmd_prefix": "del ",
     "library": "var_list.py",
     "varRefreshCmd": "print(var_dic_list())"
    },
    "r": {
     "delete_cmd_postfix": ") ",
     "delete_cmd_prefix": "rm(",
     "library": "var_list.r",
     "varRefreshCmd": "cat(var_dic_list()) "
    }
   },
   "position": {
    "height": "502.869px",
    "left": "707.793px",
    "right": "20px",
    "top": "104.997px",
    "width": "495.021px"
   },
   "types_to_exclude": [
    "module",
    "function",
    "builtin_function_or_method",
    "instance",
    "_Feature"
   ],
   "window_display": false
  }
 },
 "nbformat": 4,
 "nbformat_minor": 5
}
