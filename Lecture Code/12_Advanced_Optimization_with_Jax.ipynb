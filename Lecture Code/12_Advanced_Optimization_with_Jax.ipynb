{
 "cells": [
  {
   "cell_type": "code",
   "execution_count": 1,
   "metadata": {
    "colab": {
     "base_uri": "https://localhost:8080/"
    },
    "id": "qdZ4hoYic70P",
    "outputId": "97a3ed62-7884-40e5-e740-d7608a783c1e",
    "scrolled": true
   },
   "outputs": [
    {
     "name": "stdout",
     "output_type": "stream",
     "text": [
      "Requirement already satisfied: optax in /opt/anaconda3/lib/python3.8/site-packages (0.1.3)\n",
      "Requirement already satisfied: numpy>=1.18.0 in /opt/anaconda3/lib/python3.8/site-packages (from optax) (1.23.3)\n",
      "Requirement already satisfied: jaxlib>=0.1.37 in /opt/anaconda3/lib/python3.8/site-packages (from optax) (0.3.15)\n",
      "Requirement already satisfied: jax>=0.1.55 in /opt/anaconda3/lib/python3.8/site-packages (from optax) (0.3.17)\n",
      "Requirement already satisfied: typing-extensions>=3.10.0 in /opt/anaconda3/lib/python3.8/site-packages (from optax) (4.3.0)\n",
      "Requirement already satisfied: absl-py>=0.7.1 in /opt/anaconda3/lib/python3.8/site-packages (from optax) (1.2.0)\n",
      "Requirement already satisfied: chex>=0.0.4 in /opt/anaconda3/lib/python3.8/site-packages (from optax) (0.1.5)\n",
      "Requirement already satisfied: scipy>=1.5 in /opt/anaconda3/lib/python3.8/site-packages (from jaxlib>=0.1.37->optax) (1.5.0)\n",
      "Requirement already satisfied: opt-einsum in /opt/anaconda3/lib/python3.8/site-packages (from jax>=0.1.55->optax) (3.3.0)\n",
      "Requirement already satisfied: etils[epath] in /opt/anaconda3/lib/python3.8/site-packages (from jax>=0.1.55->optax) (0.8.0)\n",
      "Requirement already satisfied: dm-tree>=0.1.5 in /opt/anaconda3/lib/python3.8/site-packages (from chex>=0.0.4->optax) (0.1.7)\n",
      "Requirement already satisfied: toolz>=0.9.0 in /opt/anaconda3/lib/python3.8/site-packages (from chex>=0.0.4->optax) (0.10.0)\n",
      "Requirement already satisfied: zipp; extra == \"epath\" in /opt/anaconda3/lib/python3.8/site-packages (from etils[epath]->jax>=0.1.55->optax) (3.1.0)\n",
      "Requirement already satisfied: importlib_resources; extra == \"epath\" in /opt/anaconda3/lib/python3.8/site-packages (from etils[epath]->jax>=0.1.55->optax) (5.9.0)\n",
      "Note: you may need to restart the kernel to use updated packages.\n"
     ]
    }
   ],
   "source": [
    "pip install optax"
   ]
  },
  {
   "cell_type": "code",
   "execution_count": 2,
   "metadata": {
    "id": "-c_rDGeoeCHh"
   },
   "outputs": [],
   "source": [
    "import jax.numpy as jnp\n",
    "import numpy as np\n",
    "import matplotlib.pyplot as plt\n",
    "import jax\n",
    "import optax"
   ]
  },
  {
   "cell_type": "code",
   "execution_count": 3,
   "metadata": {
    "colab": {
     "base_uri": "https://localhost:8080/",
     "height": 283
    },
    "id": "jWYdTXgtdEfK",
    "outputId": "a7682fbc-2273-4d9d-8cea-898aefe910e6"
   },
   "outputs": [
    {
     "data": {
      "text/plain": [
       "<matplotlib.collections.PathCollection at 0x7fc800bec760>"
      ]
     },
     "execution_count": 3,
     "metadata": {},
     "output_type": "execute_result"
    },
    {
     "data": {
      "image/png": "[encoded data removed]",
      "text/plain": [
       "<Figure size 432x288 with 1 Axes>"
      ]
     },
     "metadata": {
      "needs_background": "light"
     },
     "output_type": "display_data"
    }
   ],
   "source": [
    "# Create some artificial, large data set\n",
    "N = 1000000\n",
    "x = np.random.uniform(size=N)\n",
    "y = 1 + 2 * x \n",
    "X = np.column_stack([np.ones_like(x), x])\n",
    "\n",
    "\n",
    "# Do a scatter plot with a subset of 100 points\n",
    "plt.scatter(x[:100], y[:100])"
   ]
  },
  {
   "cell_type": "code",
   "execution_count": 8,
   "metadata": {},
   "outputs": [
    {
     "data": {
      "text/plain": [
       "array([[1.        , 0.58297084],\n",
       "       [1.        , 0.14215456],\n",
       "       [1.        , 0.60875546],\n",
       "       ...,\n",
       "       [1.        , 0.31524114],\n",
       "       [1.        , 0.89880621],\n",
       "       [1.        , 0.52025601]])"
      ]
     },
     "execution_count": 8,
     "metadata": {},
     "output_type": "execute_result"
    }
   ],
   "source": [
    "X"
   ]
  },
  {
   "cell_type": "code",
   "execution_count": 4,
   "metadata": {
    "id": "wG5FjhthdaYT"
   },
   "outputs": [],
   "source": [
    "Θ = jnp.zeros(2)\n",
    "\n",
    "def L(Θ, X, y):\n",
    "    prediction = X @ Θ\n",
    "    return jnp.mean((prediction - y)**2)\n",
    "\n",
    "α = 0.1\n",
    "optimizer = optax.adam(α)\n",
    "opt_state = optimizer.init(Θ)\n",
    "\n",
    "@jax.jit\n",
    "def update(Θ, opt_state, X, y):\n",
    "    grad = jax.grad(L)(Θ, X, y)\n",
    "    updates, opt_state = optimizer.update(grad, opt_state)\n",
    "    Θ = optax.apply_updates(Θ, updates)\n",
    "    return Θ, opt_state\n"
   ]
  },
  {
   "cell_type": "code",
   "execution_count": 11,
   "metadata": {
    "colab": {
     "base_uri": "https://localhost:8080/"
    },
    "id": "p4Zgyly3eASN",
    "outputId": "a0c4d73a-3089-48c0-f9a4-662a9c560c88"
   },
   "outputs": [
    {
     "name": "stdout",
     "output_type": "stream",
     "text": [
      "[0.15166132 0.1542118 ]\n",
      "[1.003153  2.0034726]\n",
      "[1.0000117 2.000035 ]\n",
      "[0.99999964 2.0000002 ]\n",
      "[0.9999999 2.0000002]\n",
      "[0.9999999 2.0000002]\n",
      "[0.9999999 2.0000002]\n",
      "[0.9999999 2.0000002]\n",
      "[0.9999999 2.0000002]\n",
      "[0.9999999 2.0000002]\n"
     ]
    }
   ],
   "source": [
    "# Batch gradient descent\n",
    "Θ = jnp.zeros(2)\n",
    "\n",
    "for iteration in range(1000):\n",
    "    Θ, opt_state = update(Θ, opt_state, X, y)\n",
    "    if iteration % 100 == 0:\n",
    "        print(Θ)"
   ]
  },
  {
   "cell_type": "code",
   "execution_count": 12,
   "metadata": {
    "id": "wbicPq9yhCG_"
   },
   "outputs": [],
   "source": [
    "# Sampling minibatches\n",
    "batch_size = 128\n",
    "\n",
    "def sample():\n",
    "  i = np.random.choice(N, batch_size)\n",
    "  return X[i], y[i]"
   ]
  },
  {
   "cell_type": "code",
   "execution_count": 13,
   "metadata": {
    "colab": {
     "base_uri": "https://localhost:8080/"
    },
    "id": "tE8wAjHvfjQ7",
    "outputId": "8d30d7c1-ded5-4e91-bfb0-6daeddcc2874"
   },
   "outputs": [
    {
     "name": "stdout",
     "output_type": "stream",
     "text": [
      "[0.16020659 0.17433669]\n",
      "[1.0006393 2.0003138]\n",
      "[1.0000341 2.0000405]\n",
      "[0.99999976 2.0000002 ]\n",
      "[0.9999999 2.0000002]\n",
      "[0.9999999 2.0000002]\n",
      "[0.9999999 2.0000002]\n",
      "[0.9999999 2.0000002]\n",
      "[0.9999999 2.0000002]\n",
      "[0.9999999 2.0000002]\n"
     ]
    }
   ],
   "source": [
    "# mini-batch (stochastic) gradient descent\n",
    "Θ = jnp.zeros(2)\n",
    "\n",
    "for iteration in range(1000):\n",
    "\n",
    "  Xi, yi = sample()\n",
    "  Θ, opt_state = update(Θ, opt_state, Xi, yi)\n",
    "\n",
    "  if iteration % 100 == 0:\n",
    "    print(Θ)"
   ]
  },
  {
   "cell_type": "code",
   "execution_count": null,
   "metadata": {
    "id": "2G1tDJNxglJR"
   },
   "outputs": [],
   "source": []
  }
 ],
 "metadata": {
  "colab": {
   "collapsed_sections": [],
   "provenance": []
  },
  "kernelspec": {
   "display_name": "Python 3",
   "language": "python",
   "name": "python3"
  },
  "language_info": {
   "codemirror_mode": {
    "name": "ipython",
    "version": 3
   },
   "file_extension": ".py",
   "mimetype": "text/x-python",
   "name": "python",
   "nbconvert_exporter": "python",
   "pygments_lexer": "ipython3",
   "version": "3.8.3"
  },
  "toc": {
   "base_numbering": 1,
   "nav_menu": {},
   "number_sections": true,
   "sideBar": true,
   "skip_h1_title": false,
   "title_cell": "Table of Contents",
   "title_sidebar": "Contents",
   "toc_cell": false,
   "toc_position": {},
   "toc_section_display": true,
   "toc_window_display": false
  },
  "varInspector": {
   "cols": {
    "lenName": 16,
    "lenType": 16,
    "lenVar": 40
   },
   "kernels_config": {
    "python": {
     "delete_cmd_postfix": "",
     "delete_cmd_prefix": "del ",
     "library": "var_list.py",
     "varRefreshCmd": "print(var_dic_list())"
    },
    "r": {
     "delete_cmd_postfix": ") ",
     "delete_cmd_prefix": "rm(",
     "library": "var_list.r",
     "varRefreshCmd": "cat(var_dic_list()) "
    }
   },
   "types_to_exclude": [
    "module",
    "function",
    "builtin_function_or_method",
    "instance",
    "_Feature"
   ],
   "window_display": false
  }
 },
 "nbformat": 4,
 "nbformat_minor": 1
}
