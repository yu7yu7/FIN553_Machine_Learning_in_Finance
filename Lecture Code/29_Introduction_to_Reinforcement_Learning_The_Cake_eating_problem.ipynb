{
 "cells": [
  {
   "cell_type": "markdown",
   "metadata": {},
   "source": [
    "# Reinforcement Learning: Cake Eating Problem"
   ]
  },
  {
   "cell_type": "code",
   "execution_count": null,
   "metadata": {
    "ExecuteTime": {
     "end_time": "2022-11-15T19:11:29.589231Z",
     "start_time": "2022-11-15T19:11:29.040Z"
    },
    "id": "HfpcoEaytP4u"
   },
   "outputs": [],
   "source": [
    "import jax\n",
    "import jax.numpy as jnp\n",
    "import haiku as hk\n",
    "from time import sleep\n",
    "γ = 2.\n",
    "β = 0.95\n",
    "x0 = 1\n",
    "\n",
    "def U(c):\n",
    "    return c**(1 - γ) / (1 - γ)"
   ]
  },
  {
   "cell_type": "code",
   "execution_count": 32,
   "metadata": {
    "ExecuteTime": {
     "end_time": "2022-11-15T19:11:29.697216Z",
     "start_time": "2022-11-15T19:11:29.693500Z"
    }
   },
   "outputs": [],
   "source": [
    "# The process visualization\n",
    "def process_visualization(iteration, total):\n",
    "    print('\\r' + '[Progress]:[%s%s]%.2f%%;' % (\n",
    "    '███' * int((iteration+1)*20/total), '   ' *\n",
    "                (20-int((iteration+1)*20/total)),\n",
    "    float((iteration+1)/total*100)), end='')\n",
    "    sleep(0.01)"
   ]
  },
  {
   "cell_type": "code",
   "execution_count": 33,
   "metadata": {
    "ExecuteTime": {
     "end_time": "2022-11-15T19:11:30.626855Z",
     "start_time": "2022-11-15T19:11:30.607362Z"
    },
    "id": "ZCMjWNlhmOjS"
   },
   "outputs": [],
   "source": [
    "import optax\n",
    "\n",
    "optimizer = optax.adam\n",
    "lr = 1e-3\n",
    "T = 50 * 12\n",
    "rng = jax.random.PRNGKey(0)\n",
    "\n",
    "\n",
    "Θ = jnp.array(-10.)\n",
    "\n",
    "\n",
    "def nnet(x):\n",
    "    X = jnp.column_stack([x])\n",
    "    X = hk.Linear(32)(X)\n",
    "    X = jax.nn.relu(X)\n",
    "    X = hk.Linear(1)(X)\n",
    "    X = jnp.squeeze(X)\n",
    "    return X\n",
    "\n",
    "init, nnet = hk.without_apply_rng(hk.transform(nnet))\n",
    "Θ = init(rng, jnp.array(1.))\n",
    "\n",
    "opt_state = optimizer(lr).init(Θ)\n",
    "\n",
    "@jax.jit\n",
    "def L(Θ):\n",
    "\n",
    "    xt = 1.\n",
    "    V = 0.\n",
    "\n",
    "    state = xt\n",
    "    inputs = jnp.arange(T)\n",
    "\n",
    "    def core(state, inputs):\n",
    "        t = inputs\n",
    "        xt = state\n",
    "\n",
    "        ct = jax.nn.sigmoid(cx(Θ, xt)-4.) * xt\n",
    "        ut = U(ct)\n",
    "        xt = xt - ct\n",
    "        discounted_utility = β**t * ut\n",
    "        return xt, discounted_utility\n",
    "\n",
    "    x, discounted_utility = jax.lax.scan(core, state, inputs)\n",
    "    V = discounted_utility.sum()\n",
    "    return -V\n",
    "\n",
    "\n",
    "@jax.jit\n",
    "def evaluation(Θ):\n",
    "    return -L(Θ)\n",
    "\n",
    "\n",
    "@jax.jit\n",
    "def update_gradient_descent(Θ, opt_state):\n",
    "    grad = jax.grad(L)(Θ)\n",
    "    updates, opt_state = optimizer(lr).update(grad, opt_state)\n",
    "    Θ = optax.apply_updates(Θ, updates)\n",
    "    return Θ, opt_state"
   ]
  },
  {
   "cell_type": "code",
   "execution_count": 38,
   "metadata": {
    "ExecuteTime": {
     "end_time": "2022-11-15T19:13:11.247271Z",
     "start_time": "2022-11-15T19:12:58.958806Z"
    }
   },
   "outputs": [
    {
     "name": "stdout",
     "output_type": "stream",
     "text": [
      "[Progress]:[████████████████████████████████████████████████████████████]100.00%;\n",
      "\n",
      "-1559.7428\n"
     ]
    }
   ],
   "source": [
    "total = 100\n",
    "for iteration in range(total):\n",
    "    process_visualization(iteration, total)\n",
    "    Θ, opt_state = update_gradient_descent(Θ, opt_state)\n",
    "print(\"\\n\")\n",
    "print(evaluation(Θ))"
   ]
  },
  {
   "cell_type": "code",
   "execution_count": null,
   "metadata": {},
   "outputs": [],
   "source": []
  }
 ],
 "metadata": {
  "colab": {
   "collapsed_sections": [],
   "provenance": []
  },
  "kernelspec": {
   "display_name": "Python 3",
   "language": "python",
   "name": "python3"
  },
  "language_info": {
   "codemirror_mode": {
    "name": "ipython",
    "version": 3
   },
   "file_extension": ".py",
   "mimetype": "text/x-python",
   "name": "python",
   "nbconvert_exporter": "python",
   "pygments_lexer": "ipython3",
   "version": "3.8.3"
  },
  "latex_envs": {
   "LaTeX_envs_menu_present": true,
   "autoclose": false,
   "autocomplete": true,
   "bibliofile": "biblio.bib",
   "cite_by": "apalike",
   "current_citInitial": 1,
   "eqLabelWithNumbers": true,
   "eqNumInitial": 1,
   "hotkeys": {
    "equation": "Ctrl-E",
    "itemize": "Ctrl-I"
   },
   "labels_anchors": false,
   "latex_user_defs": false,
   "report_style_numbering": false,
   "user_envs_cfg": false
  },
  "toc": {
   "base_numbering": 1,
   "nav_menu": {},
   "number_sections": true,
   "sideBar": true,
   "skip_h1_title": false,
   "title_cell": "Table of Contents",
   "title_sidebar": "Contents",
   "toc_cell": false,
   "toc_position": {},
   "toc_section_display": true,
   "toc_window_display": false
  },
  "varInspector": {
   "cols": {
    "lenName": 16,
    "lenType": 16,
    "lenVar": 40
   },
   "kernels_config": {
    "python": {
     "delete_cmd_postfix": "",
     "delete_cmd_prefix": "del ",
     "library": "var_list.py",
     "varRefreshCmd": "print(var_dic_list())"
    },
    "r": {
     "delete_cmd_postfix": ") ",
     "delete_cmd_prefix": "rm(",
     "library": "var_list.r",
     "varRefreshCmd": "cat(var_dic_list()) "
    }
   },
   "types_to_exclude": [
    "module",
    "function",
    "builtin_function_or_method",
    "instance",
    "_Feature"
   ],
   "window_display": false
  }
 },
 "nbformat": 4,
 "nbformat_minor": 1
}
